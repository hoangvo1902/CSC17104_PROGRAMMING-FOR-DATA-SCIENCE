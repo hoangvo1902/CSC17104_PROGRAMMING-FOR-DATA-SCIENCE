{
 "cells": [
  {
   "cell_type": "markdown",
   "id": "b7e85076",
   "metadata": {},
   "source": [
    "# FINAL PROJECT - Data Analysis\n",
    "---\n",
    "---"
   ]
  },
  {
   "cell_type": "markdown",
   "id": "b34163cd",
   "metadata": {},
   "source": [
    "**<font size=\"5\">Members and contribution</font>**"
   ]
  },
  {
   "cell_type": "markdown",
   "id": "6aaf789e",
   "metadata": {},
   "source": [
    "|ID's Student|Fullname|Contribute rate (%)|Tasks|\n",
    "|---------------|---------|---------------------|---------|\n",
    "|20127028|Võ Văn Hoàng        |100%|Exploratory Data Analysis|\n",
    "|20127054|Ngô Văn Trung Nguyên|100%|Exploratory Data Analysis|\n"
   ]
  },
  {
   "cell_type": "markdown",
   "id": "93e676fe",
   "metadata": {},
   "source": [
    "***The dataset was downloaded by us on the website of Kaggle which is an open source and free for everyone to access and download:***\n",
    "***https://www.kaggle.com/datasets/jackogozaly/data-science-and-stem-salaries/discussion?select=Levels_Fyi_Salary_Data.csv***"
   ]
  },
  {
   "cell_type": "markdown",
   "id": "53d468d2",
   "metadata": {},
   "source": [
    "---"
   ]
  },
  {
   "cell_type": "markdown",
   "id": "de16dd29",
   "metadata": {},
   "source": [
    "**<font size=\"5\">Collect Data</font>**"
   ]
  },
  {
   "cell_type": "markdown",
   "id": "4f6b5e56",
   "metadata": {},
   "source": [
    "- This dataset contains useful information such as education level, compensation (base salary, bonus, stock grants), race, and more.\n",
    "- It consists of 62,000 salary records from top companies. \n",
    "- This data was scraped off levels.fyi and then the author cleaned it up a tad.\n",
    "- It is Public Domain which is in the state of belonging or being available to the public as a whole, and therefore not subject to copyright."
   ]
  },
  {
   "cell_type": "markdown",
   "id": "0c2d349c",
   "metadata": {},
   "source": [
    "---"
   ]
  },
  {
   "cell_type": "markdown",
   "id": "8969348e",
   "metadata": {},
   "source": [
    "**<font size=\"5\">Explore Data</font>**"
   ]
  },
  {
   "cell_type": "markdown",
   "id": "e8b046ba",
   "metadata": {},
   "source": [
    "### Environment"
   ]
  },
  {
   "cell_type": "code",
   "execution_count": 235,
   "id": "05051f81",
   "metadata": {},
   "outputs": [
    {
     "data": {
      "text/plain": [
       "'c:\\\\Users\\\\42nvt\\\\miniconda3\\\\envs\\\\min_ds-env\\\\python.exe'"
      ]
     },
     "execution_count": 235,
     "metadata": {},
     "output_type": "execute_result"
    }
   ],
   "source": [
    "import sys\n",
    "sys.executable"
   ]
  },
  {
   "cell_type": "code",
   "execution_count": 236,
   "id": "088a6195",
   "metadata": {},
   "outputs": [],
   "source": [
    "import pandas as pd\n",
    "import numpy as np\n",
    "import matplotlib.pyplot as plt\n",
    "from collections import Counter\n",
    "import datetime\n",
    "import statistics\n",
    "import seaborn as sns\n",
    "from matplotlib import cycler"
   ]
  },
  {
   "cell_type": "markdown",
   "id": "33ba28a1",
   "metadata": {},
   "source": [
    "### Data Analysis Checklist:\n",
    "- Check the data type whether it is matched with each attribute or not.\n",
    "- Check the null values and the duplicate values.\n",
    "- Check the outlier values.\n",
    "- Check univariate and multivariate correlations."
   ]
  },
  {
   "cell_type": "markdown",
   "id": "8877f83a",
   "metadata": {},
   "source": [
    "### Questions about data set:\n",
    "- Did you clearly understand the attributes in your data sets?\n",
    "- Have you considered whether the question can be answered with the available data?"
   ]
  },
  {
   "cell_type": "markdown",
   "id": "d731a122",
   "metadata": {},
   "source": [
    "### Data preprocessing:\n",
    "#### Read data from file:"
   ]
  },
  {
   "cell_type": "code",
   "execution_count": 237,
   "id": "205da3c1",
   "metadata": {},
   "outputs": [
    {
     "name": "stdout",
     "output_type": "stream",
     "text": [
      "Number of Rows:  62642\n",
      "Number of Columns:  29\n"
     ]
    },
    {
     "data": {
      "text/html": [
       "<div>\n",
       "<style scoped>\n",
       "    .dataframe tbody tr th:only-of-type {\n",
       "        vertical-align: middle;\n",
       "    }\n",
       "\n",
       "    .dataframe tbody tr th {\n",
       "        vertical-align: top;\n",
       "    }\n",
       "\n",
       "    .dataframe thead th {\n",
       "        text-align: right;\n",
       "    }\n",
       "</style>\n",
       "<table border=\"1\" class=\"dataframe\">\n",
       "  <thead>\n",
       "    <tr style=\"text-align: right;\">\n",
       "      <th></th>\n",
       "      <th>timestamp</th>\n",
       "      <th>company</th>\n",
       "      <th>level</th>\n",
       "      <th>title</th>\n",
       "      <th>totalyearlycompensation</th>\n",
       "      <th>location</th>\n",
       "      <th>yearsofexperience</th>\n",
       "      <th>yearsatcompany</th>\n",
       "      <th>tag</th>\n",
       "      <th>basesalary</th>\n",
       "      <th>...</th>\n",
       "      <th>Doctorate_Degree</th>\n",
       "      <th>Highschool</th>\n",
       "      <th>Some_College</th>\n",
       "      <th>Race_Asian</th>\n",
       "      <th>Race_White</th>\n",
       "      <th>Race_Two_Or_More</th>\n",
       "      <th>Race_Black</th>\n",
       "      <th>Race_Hispanic</th>\n",
       "      <th>Race</th>\n",
       "      <th>Education</th>\n",
       "    </tr>\n",
       "  </thead>\n",
       "  <tbody>\n",
       "    <tr>\n",
       "      <th>0</th>\n",
       "      <td>6/7/2017 11:33:27</td>\n",
       "      <td>Oracle</td>\n",
       "      <td>L3</td>\n",
       "      <td>Product Manager</td>\n",
       "      <td>127000</td>\n",
       "      <td>Redwood City, CA</td>\n",
       "      <td>1.5</td>\n",
       "      <td>1.5</td>\n",
       "      <td>NaN</td>\n",
       "      <td>107000.0</td>\n",
       "      <td>...</td>\n",
       "      <td>0</td>\n",
       "      <td>0</td>\n",
       "      <td>0</td>\n",
       "      <td>0</td>\n",
       "      <td>0</td>\n",
       "      <td>0</td>\n",
       "      <td>0</td>\n",
       "      <td>0</td>\n",
       "      <td>NaN</td>\n",
       "      <td>NaN</td>\n",
       "    </tr>\n",
       "    <tr>\n",
       "      <th>1</th>\n",
       "      <td>6/10/2017 17:11:29</td>\n",
       "      <td>eBay</td>\n",
       "      <td>SE 2</td>\n",
       "      <td>Software Engineer</td>\n",
       "      <td>100000</td>\n",
       "      <td>San Francisco, CA</td>\n",
       "      <td>5.0</td>\n",
       "      <td>3.0</td>\n",
       "      <td>NaN</td>\n",
       "      <td>0.0</td>\n",
       "      <td>...</td>\n",
       "      <td>0</td>\n",
       "      <td>0</td>\n",
       "      <td>0</td>\n",
       "      <td>0</td>\n",
       "      <td>0</td>\n",
       "      <td>0</td>\n",
       "      <td>0</td>\n",
       "      <td>0</td>\n",
       "      <td>NaN</td>\n",
       "      <td>NaN</td>\n",
       "    </tr>\n",
       "    <tr>\n",
       "      <th>2</th>\n",
       "      <td>6/11/2017 14:53:57</td>\n",
       "      <td>Amazon</td>\n",
       "      <td>L7</td>\n",
       "      <td>Product Manager</td>\n",
       "      <td>310000</td>\n",
       "      <td>Seattle, WA</td>\n",
       "      <td>8.0</td>\n",
       "      <td>0.0</td>\n",
       "      <td>NaN</td>\n",
       "      <td>155000.0</td>\n",
       "      <td>...</td>\n",
       "      <td>0</td>\n",
       "      <td>0</td>\n",
       "      <td>0</td>\n",
       "      <td>0</td>\n",
       "      <td>0</td>\n",
       "      <td>0</td>\n",
       "      <td>0</td>\n",
       "      <td>0</td>\n",
       "      <td>NaN</td>\n",
       "      <td>NaN</td>\n",
       "    </tr>\n",
       "    <tr>\n",
       "      <th>3</th>\n",
       "      <td>6/17/2017 0:23:14</td>\n",
       "      <td>Apple</td>\n",
       "      <td>M1</td>\n",
       "      <td>Software Engineering Manager</td>\n",
       "      <td>372000</td>\n",
       "      <td>Sunnyvale, CA</td>\n",
       "      <td>7.0</td>\n",
       "      <td>5.0</td>\n",
       "      <td>NaN</td>\n",
       "      <td>157000.0</td>\n",
       "      <td>...</td>\n",
       "      <td>0</td>\n",
       "      <td>0</td>\n",
       "      <td>0</td>\n",
       "      <td>0</td>\n",
       "      <td>0</td>\n",
       "      <td>0</td>\n",
       "      <td>0</td>\n",
       "      <td>0</td>\n",
       "      <td>NaN</td>\n",
       "      <td>NaN</td>\n",
       "    </tr>\n",
       "    <tr>\n",
       "      <th>4</th>\n",
       "      <td>6/20/2017 10:58:51</td>\n",
       "      <td>Microsoft</td>\n",
       "      <td>60</td>\n",
       "      <td>Software Engineer</td>\n",
       "      <td>157000</td>\n",
       "      <td>Mountain View, CA</td>\n",
       "      <td>5.0</td>\n",
       "      <td>3.0</td>\n",
       "      <td>NaN</td>\n",
       "      <td>0.0</td>\n",
       "      <td>...</td>\n",
       "      <td>0</td>\n",
       "      <td>0</td>\n",
       "      <td>0</td>\n",
       "      <td>0</td>\n",
       "      <td>0</td>\n",
       "      <td>0</td>\n",
       "      <td>0</td>\n",
       "      <td>0</td>\n",
       "      <td>NaN</td>\n",
       "      <td>NaN</td>\n",
       "    </tr>\n",
       "  </tbody>\n",
       "</table>\n",
       "<p>5 rows × 29 columns</p>\n",
       "</div>"
      ],
      "text/plain": [
       "            timestamp    company level                         title  \\\n",
       "0   6/7/2017 11:33:27     Oracle    L3               Product Manager   \n",
       "1  6/10/2017 17:11:29       eBay  SE 2             Software Engineer   \n",
       "2  6/11/2017 14:53:57     Amazon    L7               Product Manager   \n",
       "3   6/17/2017 0:23:14      Apple    M1  Software Engineering Manager   \n",
       "4  6/20/2017 10:58:51  Microsoft    60             Software Engineer   \n",
       "\n",
       "   totalyearlycompensation           location  yearsofexperience  \\\n",
       "0                   127000   Redwood City, CA                1.5   \n",
       "1                   100000  San Francisco, CA                5.0   \n",
       "2                   310000        Seattle, WA                8.0   \n",
       "3                   372000      Sunnyvale, CA                7.0   \n",
       "4                   157000  Mountain View, CA                5.0   \n",
       "\n",
       "   yearsatcompany  tag  basesalary  ...  Doctorate_Degree  Highschool  \\\n",
       "0             1.5  NaN    107000.0  ...                 0           0   \n",
       "1             3.0  NaN         0.0  ...                 0           0   \n",
       "2             0.0  NaN    155000.0  ...                 0           0   \n",
       "3             5.0  NaN    157000.0  ...                 0           0   \n",
       "4             3.0  NaN         0.0  ...                 0           0   \n",
       "\n",
       "  Some_College Race_Asian  Race_White  Race_Two_Or_More  Race_Black  \\\n",
       "0            0          0           0                 0           0   \n",
       "1            0          0           0                 0           0   \n",
       "2            0          0           0                 0           0   \n",
       "3            0          0           0                 0           0   \n",
       "4            0          0           0                 0           0   \n",
       "\n",
       "   Race_Hispanic  Race  Education  \n",
       "0              0   NaN        NaN  \n",
       "1              0   NaN        NaN  \n",
       "2              0   NaN        NaN  \n",
       "3              0   NaN        NaN  \n",
       "4              0   NaN        NaN  \n",
       "\n",
       "[5 rows x 29 columns]"
      ]
     },
     "execution_count": 237,
     "metadata": {},
     "output_type": "execute_result"
    }
   ],
   "source": [
    "salary_df = pd.read_csv('Levels_Fyi_Salary_Data.csv')\n",
    "rows, cols = salary_df.shape\n",
    "print('Number of Rows: ', rows)\n",
    "print('Number of Columns: ', cols)\n",
    "salary_df.head()"
   ]
  },
  {
   "cell_type": "markdown",
   "id": "99b15d6c",
   "metadata": {},
   "source": [
    "# Content of each column"
   ]
  },
  {
   "cell_type": "code",
   "execution_count": 238,
   "id": "f26b095b",
   "metadata": {},
   "outputs": [
    {
     "data": {
      "text/plain": [
       "Index(['timestamp', 'company', 'level', 'title', 'totalyearlycompensation',\n",
       "       'location', 'yearsofexperience', 'yearsatcompany', 'tag', 'basesalary',\n",
       "       'stockgrantvalue', 'bonus', 'gender', 'otherdetails', 'cityid', 'dmaid',\n",
       "       'rowNumber', 'Masters_Degree', 'Bachelors_Degree', 'Doctorate_Degree',\n",
       "       'Highschool', 'Some_College', 'Race_Asian', 'Race_White',\n",
       "       'Race_Two_Or_More', 'Race_Black', 'Race_Hispanic', 'Race', 'Education'],\n",
       "      dtype='object')"
      ]
     },
     "execution_count": 238,
     "metadata": {},
     "output_type": "execute_result"
    }
   ],
   "source": [
    "salary_df.columns"
   ]
  },
  {
   "cell_type": "markdown",
   "id": "6996082a",
   "metadata": {},
   "source": [
    "# Definition of each column:"
   ]
  },
  {
   "cell_type": "markdown",
   "id": "e9a13bc6",
   "metadata": {},
   "source": [
    "|Order|Name of column|Meaning|\n",
    "|-----|--------------|-------|\n",
    "|1|timestamp|Date and time that information was recorded|\n",
    "|2|company|Name of woring company|\n",
    "|3|level|Level in working job|\n",
    "|4|title|Job position|\n",
    "|5|totalyearlycompensation|The final salary received each year($)|\n",
    "|6|location|Working place|\n",
    "|7|yearsofexperience|Number of experience years|\n",
    "|8|yearsatcompany|Number of years working for that company|\n",
    "|9|tag|Type of work|\n",
    "|10|basesalary|The raw salary|\n",
    "|11|stockgrantvalue|Rewarded value by stock|\n",
    "|12|bonus|Rewarded money|\n",
    "|13|gender|Male or female|\n",
    "|14|otherdetails|More description about the job|\n",
    "|15|cityid|ID of the city|\n",
    "|16|dmaid|Designated Market Area ID|\n",
    "|17|rowNumber|Number of rows|\n",
    "|18|Masters_Degree|Have Master Degree or not|\n",
    "|19|Bachelors_Degree|Have Bachelors Degree or not|\n",
    "|20|Doctorate_Degree|Have Doctorate Degree or not|\n",
    "|21|Highschool|Graduated High School or not|\n",
    "|22|Some_College|Studied in any college or not|\n",
    "|23|Race_Asian|Asian|\n",
    "|24|Race_White|Citizens who have white race|\n",
    "|25|Race_Two_Or_More|Have 2 or more races|\n",
    "|26|Race_Black|Citizens who have black race|\n",
    "|27|Race_Hispanic|American with the root of Latinos or Spanish|\n",
    "|28|Race|Nation ethnic|\n",
    "|29|Education|Level of education|\n",
    "\n",
    "\n"
   ]
  },
  {
   "cell_type": "markdown",
   "id": "beba2d6c",
   "metadata": {},
   "source": [
    "# Does the data have duplicated rows?"
   ]
  },
  {
   "cell_type": "code",
   "execution_count": 239,
   "id": "e85a9d3e",
   "metadata": {},
   "outputs": [
    {
     "name": "stdout",
     "output_type": "stream",
     "text": [
      "Number of Duplicated rows:  0\n"
     ]
    }
   ],
   "source": [
    "salary_dup = salary_df.duplicated().sum()\n",
    "print('Number of Duplicated rows: ', salary_dup)"
   ]
  },
  {
   "cell_type": "markdown",
   "id": "c91079b4",
   "metadata": {},
   "source": [
    "As we can see that no row is duplicated, let's find our another things"
   ]
  },
  {
   "cell_type": "markdown",
   "id": "58cd0d60",
   "metadata": {},
   "source": [
    "# Is there any redundant or unnecessary column data?\n"
   ]
  },
  {
   "cell_type": "markdown",
   "id": "8ee979fe",
   "metadata": {},
   "source": [
    "As we can see, 'level', 'cityid', 'dmaid', 'rowNumber', 'Race_Asian', 'Race_White', 'Race_Two_Or_More', 'Race_Black', 'Race_Hispanic' are redudant through our analyse, because:\n",
    "- **'level'** has various different value because each company has their own definition of **'level'**, so that we only need to keep the **'title'** column and delete the 'level' column. \n",
    "- **'cityid', 'dmaid'** column is not too relevent to our project, because we do not find out information about places, we concentrate much on SALARY.\n",
    "- **'rowNumber'** column just tells us the order of each row, it is not neccessary for us.\n",
    "- **'Race_Asian', 'Race_White', 'Race_Two_Or_More', 'Race_Black', 'Race_Hispanic'** is general included in **'Race'** column, so it is quite redundant."
   ]
  },
  {
   "cell_type": "markdown",
   "id": "305ef86f",
   "metadata": {},
   "source": [
    "## Therefore, we are going to delete those redundant and unnecessary columns:"
   ]
  },
  {
   "cell_type": "code",
   "execution_count": 240,
   "id": "61b27f0c",
   "metadata": {},
   "outputs": [
    {
     "data": {
      "text/html": [
       "<div>\n",
       "<style scoped>\n",
       "    .dataframe tbody tr th:only-of-type {\n",
       "        vertical-align: middle;\n",
       "    }\n",
       "\n",
       "    .dataframe tbody tr th {\n",
       "        vertical-align: top;\n",
       "    }\n",
       "\n",
       "    .dataframe thead th {\n",
       "        text-align: right;\n",
       "    }\n",
       "</style>\n",
       "<table border=\"1\" class=\"dataframe\">\n",
       "  <thead>\n",
       "    <tr style=\"text-align: right;\">\n",
       "      <th></th>\n",
       "      <th>timestamp</th>\n",
       "      <th>company</th>\n",
       "      <th>title</th>\n",
       "      <th>totalyearlycompensation</th>\n",
       "      <th>location</th>\n",
       "      <th>yearsofexperience</th>\n",
       "      <th>yearsatcompany</th>\n",
       "      <th>tag</th>\n",
       "      <th>basesalary</th>\n",
       "      <th>stockgrantvalue</th>\n",
       "      <th>bonus</th>\n",
       "      <th>gender</th>\n",
       "      <th>otherdetails</th>\n",
       "      <th>Masters_Degree</th>\n",
       "      <th>Bachelors_Degree</th>\n",
       "      <th>Doctorate_Degree</th>\n",
       "      <th>Highschool</th>\n",
       "      <th>Some_College</th>\n",
       "      <th>Race</th>\n",
       "      <th>Education</th>\n",
       "    </tr>\n",
       "  </thead>\n",
       "  <tbody>\n",
       "    <tr>\n",
       "      <th>0</th>\n",
       "      <td>6/7/2017 11:33:27</td>\n",
       "      <td>Oracle</td>\n",
       "      <td>Product Manager</td>\n",
       "      <td>127000</td>\n",
       "      <td>Redwood City, CA</td>\n",
       "      <td>1.5</td>\n",
       "      <td>1.5</td>\n",
       "      <td>NaN</td>\n",
       "      <td>107000.0</td>\n",
       "      <td>20000.0</td>\n",
       "      <td>10000.0</td>\n",
       "      <td>NaN</td>\n",
       "      <td>NaN</td>\n",
       "      <td>0</td>\n",
       "      <td>0</td>\n",
       "      <td>0</td>\n",
       "      <td>0</td>\n",
       "      <td>0</td>\n",
       "      <td>NaN</td>\n",
       "      <td>NaN</td>\n",
       "    </tr>\n",
       "    <tr>\n",
       "      <th>1</th>\n",
       "      <td>6/10/2017 17:11:29</td>\n",
       "      <td>eBay</td>\n",
       "      <td>Software Engineer</td>\n",
       "      <td>100000</td>\n",
       "      <td>San Francisco, CA</td>\n",
       "      <td>5.0</td>\n",
       "      <td>3.0</td>\n",
       "      <td>NaN</td>\n",
       "      <td>0.0</td>\n",
       "      <td>0.0</td>\n",
       "      <td>0.0</td>\n",
       "      <td>NaN</td>\n",
       "      <td>NaN</td>\n",
       "      <td>0</td>\n",
       "      <td>0</td>\n",
       "      <td>0</td>\n",
       "      <td>0</td>\n",
       "      <td>0</td>\n",
       "      <td>NaN</td>\n",
       "      <td>NaN</td>\n",
       "    </tr>\n",
       "    <tr>\n",
       "      <th>2</th>\n",
       "      <td>6/11/2017 14:53:57</td>\n",
       "      <td>Amazon</td>\n",
       "      <td>Product Manager</td>\n",
       "      <td>310000</td>\n",
       "      <td>Seattle, WA</td>\n",
       "      <td>8.0</td>\n",
       "      <td>0.0</td>\n",
       "      <td>NaN</td>\n",
       "      <td>155000.0</td>\n",
       "      <td>0.0</td>\n",
       "      <td>0.0</td>\n",
       "      <td>NaN</td>\n",
       "      <td>NaN</td>\n",
       "      <td>0</td>\n",
       "      <td>0</td>\n",
       "      <td>0</td>\n",
       "      <td>0</td>\n",
       "      <td>0</td>\n",
       "      <td>NaN</td>\n",
       "      <td>NaN</td>\n",
       "    </tr>\n",
       "    <tr>\n",
       "      <th>3</th>\n",
       "      <td>6/17/2017 0:23:14</td>\n",
       "      <td>Apple</td>\n",
       "      <td>Software Engineering Manager</td>\n",
       "      <td>372000</td>\n",
       "      <td>Sunnyvale, CA</td>\n",
       "      <td>7.0</td>\n",
       "      <td>5.0</td>\n",
       "      <td>NaN</td>\n",
       "      <td>157000.0</td>\n",
       "      <td>180000.0</td>\n",
       "      <td>35000.0</td>\n",
       "      <td>NaN</td>\n",
       "      <td>NaN</td>\n",
       "      <td>0</td>\n",
       "      <td>0</td>\n",
       "      <td>0</td>\n",
       "      <td>0</td>\n",
       "      <td>0</td>\n",
       "      <td>NaN</td>\n",
       "      <td>NaN</td>\n",
       "    </tr>\n",
       "    <tr>\n",
       "      <th>4</th>\n",
       "      <td>6/20/2017 10:58:51</td>\n",
       "      <td>Microsoft</td>\n",
       "      <td>Software Engineer</td>\n",
       "      <td>157000</td>\n",
       "      <td>Mountain View, CA</td>\n",
       "      <td>5.0</td>\n",
       "      <td>3.0</td>\n",
       "      <td>NaN</td>\n",
       "      <td>0.0</td>\n",
       "      <td>0.0</td>\n",
       "      <td>0.0</td>\n",
       "      <td>NaN</td>\n",
       "      <td>NaN</td>\n",
       "      <td>0</td>\n",
       "      <td>0</td>\n",
       "      <td>0</td>\n",
       "      <td>0</td>\n",
       "      <td>0</td>\n",
       "      <td>NaN</td>\n",
       "      <td>NaN</td>\n",
       "    </tr>\n",
       "  </tbody>\n",
       "</table>\n",
       "</div>"
      ],
      "text/plain": [
       "            timestamp    company                         title  \\\n",
       "0   6/7/2017 11:33:27     Oracle               Product Manager   \n",
       "1  6/10/2017 17:11:29       eBay             Software Engineer   \n",
       "2  6/11/2017 14:53:57     Amazon               Product Manager   \n",
       "3   6/17/2017 0:23:14      Apple  Software Engineering Manager   \n",
       "4  6/20/2017 10:58:51  Microsoft             Software Engineer   \n",
       "\n",
       "   totalyearlycompensation           location  yearsofexperience  \\\n",
       "0                   127000   Redwood City, CA                1.5   \n",
       "1                   100000  San Francisco, CA                5.0   \n",
       "2                   310000        Seattle, WA                8.0   \n",
       "3                   372000      Sunnyvale, CA                7.0   \n",
       "4                   157000  Mountain View, CA                5.0   \n",
       "\n",
       "   yearsatcompany  tag  basesalary  stockgrantvalue    bonus gender  \\\n",
       "0             1.5  NaN    107000.0          20000.0  10000.0    NaN   \n",
       "1             3.0  NaN         0.0              0.0      0.0    NaN   \n",
       "2             0.0  NaN    155000.0              0.0      0.0    NaN   \n",
       "3             5.0  NaN    157000.0         180000.0  35000.0    NaN   \n",
       "4             3.0  NaN         0.0              0.0      0.0    NaN   \n",
       "\n",
       "  otherdetails  Masters_Degree  Bachelors_Degree  Doctorate_Degree  \\\n",
       "0          NaN               0                 0                 0   \n",
       "1          NaN               0                 0                 0   \n",
       "2          NaN               0                 0                 0   \n",
       "3          NaN               0                 0                 0   \n",
       "4          NaN               0                 0                 0   \n",
       "\n",
       "   Highschool  Some_College Race Education  \n",
       "0           0             0  NaN       NaN  \n",
       "1           0             0  NaN       NaN  \n",
       "2           0             0  NaN       NaN  \n",
       "3           0             0  NaN       NaN  \n",
       "4           0             0  NaN       NaN  "
      ]
     },
     "execution_count": 240,
     "metadata": {},
     "output_type": "execute_result"
    }
   ],
   "source": [
    "drop_cols = [\"level\", \"cityid\", \"dmaid\", 'rowNumber', \"Race_Asian\", \"Race_White\", \"Race_Two_Or_More\", \"Race_Black\", \"Race_Hispanic\" ]\n",
    "salary_df.drop(drop_cols, axis=1, inplace=True)\n",
    "salary_df.head()"
   ]
  },
  {
   "cell_type": "markdown",
   "id": "3488ba1b",
   "metadata": {},
   "source": [
    "**Let's check again the data:**"
   ]
  },
  {
   "cell_type": "code",
   "execution_count": 241,
   "id": "d6fd5039",
   "metadata": {},
   "outputs": [
    {
     "name": "stdout",
     "output_type": "stream",
     "text": [
      "Number of Rows:  62642\n",
      "Number of Columns:  20\n"
     ]
    },
    {
     "data": {
      "text/html": [
       "<div>\n",
       "<style scoped>\n",
       "    .dataframe tbody tr th:only-of-type {\n",
       "        vertical-align: middle;\n",
       "    }\n",
       "\n",
       "    .dataframe tbody tr th {\n",
       "        vertical-align: top;\n",
       "    }\n",
       "\n",
       "    .dataframe thead th {\n",
       "        text-align: right;\n",
       "    }\n",
       "</style>\n",
       "<table border=\"1\" class=\"dataframe\">\n",
       "  <thead>\n",
       "    <tr style=\"text-align: right;\">\n",
       "      <th></th>\n",
       "      <th>timestamp</th>\n",
       "      <th>company</th>\n",
       "      <th>title</th>\n",
       "      <th>totalyearlycompensation</th>\n",
       "      <th>location</th>\n",
       "      <th>yearsofexperience</th>\n",
       "      <th>yearsatcompany</th>\n",
       "      <th>tag</th>\n",
       "      <th>basesalary</th>\n",
       "      <th>stockgrantvalue</th>\n",
       "      <th>bonus</th>\n",
       "      <th>gender</th>\n",
       "      <th>otherdetails</th>\n",
       "      <th>Masters_Degree</th>\n",
       "      <th>Bachelors_Degree</th>\n",
       "      <th>Doctorate_Degree</th>\n",
       "      <th>Highschool</th>\n",
       "      <th>Some_College</th>\n",
       "      <th>Race</th>\n",
       "      <th>Education</th>\n",
       "    </tr>\n",
       "  </thead>\n",
       "  <tbody>\n",
       "    <tr>\n",
       "      <th>0</th>\n",
       "      <td>6/7/2017 11:33:27</td>\n",
       "      <td>Oracle</td>\n",
       "      <td>Product Manager</td>\n",
       "      <td>127000</td>\n",
       "      <td>Redwood City, CA</td>\n",
       "      <td>1.5</td>\n",
       "      <td>1.5</td>\n",
       "      <td>NaN</td>\n",
       "      <td>107000.0</td>\n",
       "      <td>20000.0</td>\n",
       "      <td>10000.0</td>\n",
       "      <td>NaN</td>\n",
       "      <td>NaN</td>\n",
       "      <td>0</td>\n",
       "      <td>0</td>\n",
       "      <td>0</td>\n",
       "      <td>0</td>\n",
       "      <td>0</td>\n",
       "      <td>NaN</td>\n",
       "      <td>NaN</td>\n",
       "    </tr>\n",
       "    <tr>\n",
       "      <th>1</th>\n",
       "      <td>6/10/2017 17:11:29</td>\n",
       "      <td>eBay</td>\n",
       "      <td>Software Engineer</td>\n",
       "      <td>100000</td>\n",
       "      <td>San Francisco, CA</td>\n",
       "      <td>5.0</td>\n",
       "      <td>3.0</td>\n",
       "      <td>NaN</td>\n",
       "      <td>0.0</td>\n",
       "      <td>0.0</td>\n",
       "      <td>0.0</td>\n",
       "      <td>NaN</td>\n",
       "      <td>NaN</td>\n",
       "      <td>0</td>\n",
       "      <td>0</td>\n",
       "      <td>0</td>\n",
       "      <td>0</td>\n",
       "      <td>0</td>\n",
       "      <td>NaN</td>\n",
       "      <td>NaN</td>\n",
       "    </tr>\n",
       "    <tr>\n",
       "      <th>2</th>\n",
       "      <td>6/11/2017 14:53:57</td>\n",
       "      <td>Amazon</td>\n",
       "      <td>Product Manager</td>\n",
       "      <td>310000</td>\n",
       "      <td>Seattle, WA</td>\n",
       "      <td>8.0</td>\n",
       "      <td>0.0</td>\n",
       "      <td>NaN</td>\n",
       "      <td>155000.0</td>\n",
       "      <td>0.0</td>\n",
       "      <td>0.0</td>\n",
       "      <td>NaN</td>\n",
       "      <td>NaN</td>\n",
       "      <td>0</td>\n",
       "      <td>0</td>\n",
       "      <td>0</td>\n",
       "      <td>0</td>\n",
       "      <td>0</td>\n",
       "      <td>NaN</td>\n",
       "      <td>NaN</td>\n",
       "    </tr>\n",
       "    <tr>\n",
       "      <th>3</th>\n",
       "      <td>6/17/2017 0:23:14</td>\n",
       "      <td>Apple</td>\n",
       "      <td>Software Engineering Manager</td>\n",
       "      <td>372000</td>\n",
       "      <td>Sunnyvale, CA</td>\n",
       "      <td>7.0</td>\n",
       "      <td>5.0</td>\n",
       "      <td>NaN</td>\n",
       "      <td>157000.0</td>\n",
       "      <td>180000.0</td>\n",
       "      <td>35000.0</td>\n",
       "      <td>NaN</td>\n",
       "      <td>NaN</td>\n",
       "      <td>0</td>\n",
       "      <td>0</td>\n",
       "      <td>0</td>\n",
       "      <td>0</td>\n",
       "      <td>0</td>\n",
       "      <td>NaN</td>\n",
       "      <td>NaN</td>\n",
       "    </tr>\n",
       "    <tr>\n",
       "      <th>4</th>\n",
       "      <td>6/20/2017 10:58:51</td>\n",
       "      <td>Microsoft</td>\n",
       "      <td>Software Engineer</td>\n",
       "      <td>157000</td>\n",
       "      <td>Mountain View, CA</td>\n",
       "      <td>5.0</td>\n",
       "      <td>3.0</td>\n",
       "      <td>NaN</td>\n",
       "      <td>0.0</td>\n",
       "      <td>0.0</td>\n",
       "      <td>0.0</td>\n",
       "      <td>NaN</td>\n",
       "      <td>NaN</td>\n",
       "      <td>0</td>\n",
       "      <td>0</td>\n",
       "      <td>0</td>\n",
       "      <td>0</td>\n",
       "      <td>0</td>\n",
       "      <td>NaN</td>\n",
       "      <td>NaN</td>\n",
       "    </tr>\n",
       "  </tbody>\n",
       "</table>\n",
       "</div>"
      ],
      "text/plain": [
       "            timestamp    company                         title  \\\n",
       "0   6/7/2017 11:33:27     Oracle               Product Manager   \n",
       "1  6/10/2017 17:11:29       eBay             Software Engineer   \n",
       "2  6/11/2017 14:53:57     Amazon               Product Manager   \n",
       "3   6/17/2017 0:23:14      Apple  Software Engineering Manager   \n",
       "4  6/20/2017 10:58:51  Microsoft             Software Engineer   \n",
       "\n",
       "   totalyearlycompensation           location  yearsofexperience  \\\n",
       "0                   127000   Redwood City, CA                1.5   \n",
       "1                   100000  San Francisco, CA                5.0   \n",
       "2                   310000        Seattle, WA                8.0   \n",
       "3                   372000      Sunnyvale, CA                7.0   \n",
       "4                   157000  Mountain View, CA                5.0   \n",
       "\n",
       "   yearsatcompany  tag  basesalary  stockgrantvalue    bonus gender  \\\n",
       "0             1.5  NaN    107000.0          20000.0  10000.0    NaN   \n",
       "1             3.0  NaN         0.0              0.0      0.0    NaN   \n",
       "2             0.0  NaN    155000.0              0.0      0.0    NaN   \n",
       "3             5.0  NaN    157000.0         180000.0  35000.0    NaN   \n",
       "4             3.0  NaN         0.0              0.0      0.0    NaN   \n",
       "\n",
       "  otherdetails  Masters_Degree  Bachelors_Degree  Doctorate_Degree  \\\n",
       "0          NaN               0                 0                 0   \n",
       "1          NaN               0                 0                 0   \n",
       "2          NaN               0                 0                 0   \n",
       "3          NaN               0                 0                 0   \n",
       "4          NaN               0                 0                 0   \n",
       "\n",
       "   Highschool  Some_College Race Education  \n",
       "0           0             0  NaN       NaN  \n",
       "1           0             0  NaN       NaN  \n",
       "2           0             0  NaN       NaN  \n",
       "3           0             0  NaN       NaN  \n",
       "4           0             0  NaN       NaN  "
      ]
     },
     "execution_count": 241,
     "metadata": {},
     "output_type": "execute_result"
    }
   ],
   "source": [
    "rows, cols = salary_df.shape\n",
    "print('Number of Rows: ', rows)\n",
    "print('Number of Columns: ', cols)\n",
    "salary_df.head()"
   ]
  },
  {
   "cell_type": "markdown",
   "id": "4681d483",
   "metadata": {},
   "source": [
    "Ok, it is better than before, let's explore more!!!"
   ]
  },
  {
   "cell_type": "markdown",
   "id": "52861e7f",
   "metadata": {},
   "source": [
    "---"
   ]
  },
  {
   "cell_type": "markdown",
   "id": "775b0fdb",
   "metadata": {},
   "source": [
    "# Initial Datatypes of Salary DataFrames"
   ]
  },
  {
   "cell_type": "code",
   "execution_count": 242,
   "id": "caabc64b",
   "metadata": {
    "scrolled": false
   },
   "outputs": [
    {
     "data": {
      "text/plain": [
       "timestamp                   object\n",
       "company                     object\n",
       "title                       object\n",
       "totalyearlycompensation      int64\n",
       "location                    object\n",
       "yearsofexperience          float64\n",
       "yearsatcompany             float64\n",
       "tag                         object\n",
       "basesalary                 float64\n",
       "stockgrantvalue            float64\n",
       "bonus                      float64\n",
       "gender                      object\n",
       "otherdetails                object\n",
       "Masters_Degree               int64\n",
       "Bachelors_Degree             int64\n",
       "Doctorate_Degree             int64\n",
       "Highschool                   int64\n",
       "Some_College                 int64\n",
       "Race                        object\n",
       "Education                   object\n",
       "dtype: object"
      ]
     },
     "execution_count": 242,
     "metadata": {},
     "output_type": "execute_result"
    }
   ],
   "source": [
    "salary_df.dtypes"
   ]
  },
  {
   "cell_type": "markdown",
   "id": "5df983a6",
   "metadata": {},
   "source": [
    "- *timestamp changes from object to datetime*\n",
    "- *All the object type change to string*"
   ]
  },
  {
   "cell_type": "markdown",
   "id": "5b7801fe",
   "metadata": {},
   "source": [
    "---"
   ]
  },
  {
   "cell_type": "markdown",
   "id": "60f9888d",
   "metadata": {},
   "source": [
    "# Preprocessing"
   ]
  },
  {
   "cell_type": "markdown",
   "id": "0e0f9c94",
   "metadata": {},
   "source": [
    "**1. timestamp changes from object to datetime**"
   ]
  },
  {
   "cell_type": "code",
   "execution_count": 243,
   "id": "74e38b1b",
   "metadata": {},
   "outputs": [],
   "source": [
    "# date changes from object to datetime\n",
    "salary_df['timestamp'] = pd.to_datetime(salary_df['timestamp'], infer_datetime_format = True)"
   ]
  },
  {
   "cell_type": "markdown",
   "id": "b97d168c",
   "metadata": {},
   "source": [
    "**2. company, title, location, tag, gender, otherdetails, Race, Education change from object to string**"
   ]
  },
  {
   "cell_type": "code",
   "execution_count": 244,
   "id": "6ada560f",
   "metadata": {},
   "outputs": [],
   "source": [
    "# company, title, location, tag, gender, otherdetails, Race, Education change from object to string\n",
    "salary_df['company'] = salary_df['company'].astype('string')\n",
    "salary_df['title'] = salary_df['title'].astype('string')\n",
    "salary_df['location'] = salary_df['location'].astype('string')\n",
    "salary_df['tag'] = salary_df['tag'].astype('string')\n",
    "salary_df['gender'] = salary_df['gender'].astype('string')\n",
    "salary_df['otherdetails'] = salary_df['otherdetails'].astype('string')\n",
    "salary_df['Race'] = salary_df['Race'].astype('string')\n",
    "salary_df['Education'] = salary_df['Education'].astype('string')\n"
   ]
  },
  {
   "cell_type": "code",
   "execution_count": 245,
   "id": "ce05ae79",
   "metadata": {},
   "outputs": [
    {
     "data": {
      "text/plain": [
       "timestamp                  datetime64[ns]\n",
       "company                            string\n",
       "title                              string\n",
       "totalyearlycompensation             int64\n",
       "location                           string\n",
       "yearsofexperience                 float64\n",
       "yearsatcompany                    float64\n",
       "tag                                string\n",
       "basesalary                        float64\n",
       "stockgrantvalue                   float64\n",
       "bonus                             float64\n",
       "gender                             string\n",
       "otherdetails                       string\n",
       "Masters_Degree                      int64\n",
       "Bachelors_Degree                    int64\n",
       "Doctorate_Degree                    int64\n",
       "Highschool                          int64\n",
       "Some_College                        int64\n",
       "Race                               string\n",
       "Education                          string\n",
       "dtype: object"
      ]
     },
     "execution_count": 245,
     "metadata": {},
     "output_type": "execute_result"
    }
   ],
   "source": [
    "salary_df.dtypes"
   ]
  },
  {
   "cell_type": "markdown",
   "id": "0960b675",
   "metadata": {},
   "source": [
    "Before finding out something new, we should seperate the column in 2 types: numerical and categorical\n",
    "\n",
    "**Numerical column:**\n",
    "- timestamp\n",
    "- totalyearlycompensation\n",
    "- yearsofexperience\n",
    "- yearsatcompany\n",
    "- basesalary\n",
    "- stockgrantvalue\n",
    "- bonus\n",
    "\n",
    "**Categorical column:**\n",
    "- company\n",
    "- title\n",
    "- location\n",
    "- tag \n",
    "- gender\n",
    "- otherdetails\n",
    "- Masters_Degree\n",
    "- Bachelors_Degree\n",
    "- Doctorate_Degree\n",
    "- Highschool\n",
    "- Some_College\n",
    "- Race\n",
    "- Education"
   ]
  },
  {
   "cell_type": "markdown",
   "id": "42f32f82",
   "metadata": {},
   "source": [
    "Now we already preprocessed Data"
   ]
  },
  {
   "cell_type": "markdown",
   "id": "73eef845",
   "metadata": {},
   "source": [
    "---"
   ]
  },
  {
   "cell_type": "markdown",
   "id": "4027154e",
   "metadata": {},
   "source": [
    "# Missing Data"
   ]
  },
  {
   "cell_type": "code",
   "execution_count": 246,
   "id": "6e632ad7",
   "metadata": {},
   "outputs": [
    {
     "data": {
      "text/plain": [
       "timestamp                      0\n",
       "company                        5\n",
       "title                          0\n",
       "totalyearlycompensation        0\n",
       "location                       0\n",
       "yearsofexperience              0\n",
       "yearsatcompany                 0\n",
       "tag                          854\n",
       "basesalary                     0\n",
       "stockgrantvalue                0\n",
       "bonus                          0\n",
       "gender                     19540\n",
       "otherdetails               22505\n",
       "Masters_Degree                 0\n",
       "Bachelors_Degree               0\n",
       "Doctorate_Degree               0\n",
       "Highschool                     0\n",
       "Some_College                   0\n",
       "Race                       40215\n",
       "Education                  32272\n",
       "dtype: int64"
      ]
     },
     "execution_count": 246,
     "metadata": {},
     "output_type": "execute_result"
    }
   ],
   "source": [
    "salary_df.isnull().sum()"
   ]
  },
  {
   "cell_type": "markdown",
   "id": "76af81ee",
   "metadata": {},
   "source": [
    "We have observed and decided that there are a little bit of data with NONE value.  \n",
    "There are just only total 8 times did not have the score, 12 times did not have the name of scorer and 96 times did not have the time of a match.  \n"
   ]
  },
  {
   "cell_type": "markdown",
   "id": "412fd659",
   "metadata": {},
   "source": [
    "Hmm...Insert some colour for good vision"
   ]
  },
  {
   "cell_type": "code",
   "execution_count": 247,
   "id": "031495a9",
   "metadata": {},
   "outputs": [],
   "source": [
    "colors = cycler('color', ['#00CED1', '#2F4F4F', '#9988DD', '#F4A460', '#BC8F8F', '#DA70D6']) \n",
    "plt.rc('axes', facecolor='#D8BFD8', edgecolor='none', axisbelow=True, grid=True, prop_cycle=colors) \n",
    "plt.rc('grid', color='w', linestyle='solid')\n",
    "plt.rc('xtick', direction='out', color='black') \n",
    "plt.rc('ytick', direction='out', color='black') \n",
    "plt.rc('patch', edgecolor='#D8BFD8') "
   ]
  },
  {
   "cell_type": "markdown",
   "id": "62ffe320",
   "metadata": {},
   "source": [
    "---"
   ]
  },
  {
   "cell_type": "markdown",
   "id": "68b4faeb",
   "metadata": {},
   "source": [
    "# Outliers Removal"
   ]
  },
  {
   "cell_type": "code",
   "execution_count": 248,
   "id": "d4c8fc28",
   "metadata": {},
   "outputs": [
    {
     "data": {
      "text/plain": [
       "count    6.264200e+04\n",
       "mean     2.163004e+05\n",
       "std      1.380337e+05\n",
       "min      1.000000e+04\n",
       "25%      1.350000e+05\n",
       "50%      1.880000e+05\n",
       "75%      2.640000e+05\n",
       "max      4.980000e+06\n",
       "Name: totalyearlycompensation, dtype: float64"
      ]
     },
     "execution_count": 248,
     "metadata": {},
     "output_type": "execute_result"
    }
   ],
   "source": [
    "# totalyearlycompensation check\n",
    "salary_df['totalyearlycompensation'].describe()"
   ]
  },
  {
   "cell_type": "code",
   "execution_count": 249,
   "id": "2221e6c5",
   "metadata": {},
   "outputs": [
    {
     "data": {
      "text/plain": [
       "count    62642.000000\n",
       "mean         7.204135\n",
       "std          5.840375\n",
       "min          0.000000\n",
       "25%          3.000000\n",
       "50%          6.000000\n",
       "75%         10.000000\n",
       "max         69.000000\n",
       "Name: yearsofexperience, dtype: float64"
      ]
     },
     "execution_count": 249,
     "metadata": {},
     "output_type": "execute_result"
    }
   ],
   "source": [
    "# yearsofexperience check\n",
    "salary_df['yearsofexperience'].describe()"
   ]
  },
  {
   "cell_type": "code",
   "execution_count": 250,
   "id": "abd279a0",
   "metadata": {},
   "outputs": [
    {
     "data": {
      "text/plain": [
       "count    62642.000000\n",
       "mean         2.702093\n",
       "std          3.263656\n",
       "min          0.000000\n",
       "25%          0.000000\n",
       "50%          2.000000\n",
       "75%          4.000000\n",
       "max         69.000000\n",
       "Name: yearsatcompany, dtype: float64"
      ]
     },
     "execution_count": 250,
     "metadata": {},
     "output_type": "execute_result"
    }
   ],
   "source": [
    "# yearsatcompany check\n",
    "salary_df['yearsatcompany'].describe()"
   ]
  },
  {
   "cell_type": "code",
   "execution_count": 251,
   "id": "a143993a",
   "metadata": {},
   "outputs": [
    {
     "data": {
      "text/plain": [
       "count    6.264200e+04\n",
       "mean     1.366873e+05\n",
       "std      6.136928e+04\n",
       "min      0.000000e+00\n",
       "25%      1.080000e+05\n",
       "50%      1.400000e+05\n",
       "75%      1.700000e+05\n",
       "max      1.659870e+06\n",
       "Name: basesalary, dtype: float64"
      ]
     },
     "execution_count": 251,
     "metadata": {},
     "output_type": "execute_result"
    }
   ],
   "source": [
    "# basesalary check\n",
    "salary_df['basesalary'].describe()"
   ]
  },
  {
   "cell_type": "code",
   "execution_count": 252,
   "id": "37b1708d",
   "metadata": {},
   "outputs": [
    {
     "data": {
      "text/plain": [
       "count    6.264200e+04\n",
       "mean     5.148608e+04\n",
       "std      8.187457e+04\n",
       "min      0.000000e+00\n",
       "25%      0.000000e+00\n",
       "50%      2.500000e+04\n",
       "75%      6.500000e+04\n",
       "max      2.800000e+06\n",
       "Name: stockgrantvalue, dtype: float64"
      ]
     },
     "execution_count": 252,
     "metadata": {},
     "output_type": "execute_result"
    }
   ],
   "source": [
    "# stockgrantvalue check\n",
    "salary_df['stockgrantvalue'].describe()"
   ]
  },
  {
   "cell_type": "code",
   "execution_count": 253,
   "id": "96ef3ead",
   "metadata": {},
   "outputs": [
    {
     "data": {
      "text/plain": [
       "count      62642.000000\n",
       "mean       19334.746588\n",
       "std        26781.292040\n",
       "min            0.000000\n",
       "25%         1000.000000\n",
       "50%        14000.000000\n",
       "75%        26000.000000\n",
       "max      1000000.000000\n",
       "Name: bonus, dtype: float64"
      ]
     },
     "execution_count": 253,
     "metadata": {},
     "output_type": "execute_result"
    }
   ],
   "source": [
    "# bonus check\n",
    "salary_df['bonus'].describe()"
   ]
  },
  {
   "attachments": {},
   "cell_type": "markdown",
   "id": "4759e3cc",
   "metadata": {},
   "source": [
    "Check gender"
   ]
  },
  {
   "cell_type": "code",
   "execution_count": 254,
   "id": "8515fb8c",
   "metadata": {},
   "outputs": [
    {
     "data": {
      "text/plain": [
       "<StringArray>\n",
       "[<NA>, 'Male', 'Female', 'Other', 'Title: Senior Software Engineer']\n",
       "Length: 5, dtype: string"
      ]
     },
     "execution_count": 254,
     "metadata": {},
     "output_type": "execute_result"
    }
   ],
   "source": [
    "salary_df['gender'].unique()"
   ]
  },
  {
   "cell_type": "code",
   "execution_count": 255,
   "id": "f86029dc",
   "metadata": {},
   "outputs": [
    {
     "data": {
      "text/plain": [
       "<StringArray>\n",
       "[<NA>, 'Male', 'Female']\n",
       "Length: 3, dtype: string"
      ]
     },
     "execution_count": 255,
     "metadata": {},
     "output_type": "execute_result"
    }
   ],
   "source": [
    "values = ['Other', 'Title: Senior Software Engineer']\n",
    "salary_df = salary_df[salary_df.gender.isin(values) == False]\n",
    "salary_df['gender'].unique()"
   ]
  },
  {
   "cell_type": "code",
   "execution_count": 256,
   "id": "79d09aae",
   "metadata": {},
   "outputs": [],
   "source": [
    "salary_df['gender'] = salary_df['gender'].fillna(method='backfill')"
   ]
  },
  {
   "cell_type": "code",
   "execution_count": 257,
   "id": "7c6ca66e",
   "metadata": {},
   "outputs": [
    {
     "data": {
      "text/plain": [
       "0"
      ]
     },
     "execution_count": 257,
     "metadata": {},
     "output_type": "execute_result"
    }
   ],
   "source": [
    "salary_df['gender'].isna().sum()"
   ]
  },
  {
   "cell_type": "code",
   "execution_count": 258,
   "id": "f868366f",
   "metadata": {},
   "outputs": [
    {
     "data": {
      "text/plain": [
       "Male      83.833807\n",
       "Female    16.166193\n",
       "Name: gender, dtype: Float64"
      ]
     },
     "execution_count": 258,
     "metadata": {},
     "output_type": "execute_result"
    },
    {
     "data": {
      "image/png": "[encoded data removed]",
      "text/plain": [
       "<Figure size 640x480 with 1 Axes>"
      ]
     },
     "metadata": {},
     "output_type": "display_data"
    }
   ],
   "source": [
    "# check gender\n",
    "salary_df.gender.value_counts(normalize=True).plot(kind=\"bar\", color=[\"red\", \"blue\", \"yellow\"])\n",
    "salary_df['gender'].value_counts(normalize=True) * 100"
   ]
  },
  {
   "cell_type": "code",
   "execution_count": 259,
   "id": "2e9e30ba",
   "metadata": {},
   "outputs": [
    {
     "data": {
      "text/plain": [
       "Master's Degree      50.680621\n",
       "Bachelor's Degree    41.506309\n",
       "PhD                   5.610572\n",
       "Some College          1.169145\n",
       "Highschool            1.033352\n",
       "Name: Education, dtype: Float64"
      ]
     },
     "execution_count": 259,
     "metadata": {},
     "output_type": "execute_result"
    },
    {
     "data": {
      "image/png": "[encoded data removed]",
      "text/plain": [
       "<Figure size 640x480 with 1 Axes>"
      ]
     },
     "metadata": {},
     "output_type": "display_data"
    }
   ],
   "source": [
    "# check education\n",
    "salary_df.Education.value_counts(normalize=True).plot(kind=\"bar\", color=[\"red\", \"blue\", \"green\", \"pink\", \"orange\"])\n",
    "salary_df['Education'].value_counts(normalize=True) * 100"
   ]
  },
  {
   "cell_type": "markdown",
   "id": "ab9c2954",
   "metadata": {},
   "source": [
    "As you can see, Column Education where has Highshool, Some College only occupy about 1% so that we can delete it to deny noise."
   ]
  },
  {
   "cell_type": "code",
   "execution_count": 260,
   "id": "9fc150a7",
   "metadata": {},
   "outputs": [
    {
     "data": {
      "text/plain": [
       "29881"
      ]
     },
     "execution_count": 260,
     "metadata": {},
     "output_type": "execute_result"
    }
   ],
   "source": [
    "salary_df = salary_df[salary_df['Education'] != 'Highschool']\n",
    "salary_df.shape[0]"
   ]
  },
  {
   "cell_type": "code",
   "execution_count": 261,
   "id": "e09666aa",
   "metadata": {},
   "outputs": [
    {
     "data": {
      "text/plain": [
       "29528"
      ]
     },
     "execution_count": 261,
     "metadata": {},
     "output_type": "execute_result"
    }
   ],
   "source": [
    "salary_df = salary_df[salary_df['Education'] != 'Some College']\n",
    "salary_df.shape[0]"
   ]
  },
  {
   "cell_type": "code",
   "execution_count": 262,
   "id": "aa712370",
   "metadata": {},
   "outputs": [
    {
     "data": {
      "text/plain": [
       "Master's Degree      51.821999\n",
       "Bachelor's Degree    42.441073\n",
       "PhD                   5.736928\n",
       "Name: Education, dtype: Float64"
      ]
     },
     "execution_count": 262,
     "metadata": {},
     "output_type": "execute_result"
    },
    {
     "data": {
      "image/png": "[encoded data removed]",
      "text/plain": [
       "<Figure size 640x480 with 1 Axes>"
      ]
     },
     "metadata": {},
     "output_type": "display_data"
    }
   ],
   "source": [
    "salary_df.Education.value_counts(normalize=True).plot(kind=\"bar\", color=[\"red\", \"blue\", \"green\"])\n",
    "salary_df['Education'].value_counts(normalize=True) * 100"
   ]
  },
  {
   "cell_type": "markdown",
   "id": "3efd849e",
   "metadata": {},
   "source": [
    "---"
   ]
  },
  {
   "cell_type": "markdown",
   "id": "a76e2281",
   "metadata": {},
   "source": [
    "# Questioning"
   ]
  },
  {
   "cell_type": "markdown",
   "id": "1bea0f13",
   "metadata": {},
   "source": [
    "---"
   ]
  },
  {
   "cell_type": "markdown",
   "id": "97a886ac",
   "metadata": {},
   "source": [
    "**1. Whether people who have PhD received higher salary than whom do not have in every position?**\n",
    "\n",
    "*My team think that it is a practical question because it is a good sourse for someone before deciding whether they ought to study further education or not. Evenly, people who have PhD already can know that whether their salary at that time is suitable or not.*\n",
    "\n",
    "\n",
    "\n",
    "\n"
   ]
  },
  {
   "cell_type": "markdown",
   "id": "b795ce53",
   "metadata": {},
   "source": [
    "## Answer:"
   ]
  },
  {
   "cell_type": "markdown",
   "id": "d8aa8bb4",
   "metadata": {},
   "source": [
    "For this question, we decide to access this content in 4 aspects:\n",
    "- **Step 1:** Find out the rate of work with their degree, visualize it clearly?\n",
    "- **Step 2:** For each type of degree, how about the income of each type for a year?\n",
    "- **Step 3:** For each position, how is the distribution of PhD?\n",
    "- **Step 4:** With top 5 position have the most PhD, how about their salary?"
   ]
  },
  {
   "cell_type": "markdown",
   "id": "7dc8737b",
   "metadata": {},
   "source": [
    " ### Before exploring more exciting things, we should go back again the Preprocessing step:"
   ]
  },
  {
   "cell_type": "code",
   "execution_count": 263,
   "id": "c94a2432",
   "metadata": {},
   "outputs": [
    {
     "data": {
      "text/plain": [
       "29528"
      ]
     },
     "execution_count": 263,
     "metadata": {},
     "output_type": "execute_result"
    }
   ],
   "source": [
    "# Column education is used for analysing, so that empty value or NaN of this column will be saved in df_nonvalue in case using:\n",
    "df_nonvalue = salary_df[salary_df['Education'].notna()]\n",
    "df_nonvalue.shape[0]"
   ]
  },
  {
   "cell_type": "markdown",
   "id": "46de1a24",
   "metadata": {},
   "source": [
    "Moreover, Column Education where has Highshool only occupy about 1% so that we can delete it to deny noise"
   ]
  },
  {
   "cell_type": "markdown",
   "id": "88f5c6d9",
   "metadata": {},
   "source": [
    "### Everything is already now, let's go to Step 1!!!"
   ]
  },
  {
   "cell_type": "markdown",
   "id": "1f3288c2",
   "metadata": {},
   "source": [
    "***Step 1: Find out the rate of work with their degree, visualize it clearly?***"
   ]
  },
  {
   "cell_type": "code",
   "execution_count": 264,
   "id": "0becac3d",
   "metadata": {},
   "outputs": [
    {
     "data": {
      "image/png": "[encoded data removed]",
      "text/plain": [
       "<Figure size 640x480 with 1 Axes>"
      ]
     },
     "metadata": {},
     "output_type": "display_data"
    }
   ],
   "source": [
    "# Percentage of each degree in work market:\n",
    "salary_df.Education.value_counts(normalize=True).plot(kind=\"bar\", color=[\"red\", \"blue\", \"green\", \"grey\", \"orange\"])\n",
    "salary_df['Education'].value_counts(normalize=True) * 100\n",
    "plt.title('Barchart about the rate of each Degree in Work Market', fontsize = 15);\n",
    "plt.grid(True);"
   ]
  },
  {
   "cell_type": "markdown",
   "id": "f5fa25ef",
   "metadata": {},
   "source": [
    "- #### Suprisingly, Job for people had PhD only occupied a light rate in work market, maybe who have PhD have more interest in research at universities, institution, academy,...\n"
   ]
  },
  {
   "cell_type": "markdown",
   "id": "828e1c4b",
   "metadata": {},
   "source": [
    "***Step 2: For each type of degree, how about the income of each type for a year?***"
   ]
  },
  {
   "cell_type": "code",
   "execution_count": 265,
   "id": "f70c03f4",
   "metadata": {},
   "outputs": [
    {
     "data": {
      "image/png": "[encoded data removed]",
      "text/plain": [
       "<Figure size 900x600 with 1 Axes>"
      ]
     },
     "metadata": {},
     "output_type": "display_data"
    }
   ],
   "source": [
    "plt.figure(figsize=(9, 6))\n",
    "sns.boxplot(data = salary_df, x='Education', y='totalyearlycompensation', showfliers=False)\n",
    "plt.xlabel('Education')\n",
    "plt.ylabel('Total Yearly Compensation')\n",
    "plt.grid(True);\n",
    "plt.title('Boxplot about the distribution of Salary each year with different Degree', fontsize=15);\n"
   ]
  },
  {
   "cell_type": "markdown",
   "id": "12ed1970",
   "metadata": {},
   "source": [
    "- #### In general, although the number of people who have PhD is not many (known from step 1), the income they can receive is higher than people who have orther degree (despite a range of fluctuation).\n",
    "- #### Hmm...good signal for who want to get a PhD.\n",
    "\n"
   ]
  },
  {
   "cell_type": "markdown",
   "id": "516d45d9",
   "metadata": {},
   "source": [
    "***Step 3: For each position, how is the distribution of PhD?***"
   ]
  },
  {
   "cell_type": "code",
   "execution_count": 266,
   "id": "a61bb5fe",
   "metadata": {},
   "outputs": [
    {
     "data": {
      "text/html": [
       "<div>\n",
       "<style scoped>\n",
       "    .dataframe tbody tr th:only-of-type {\n",
       "        vertical-align: middle;\n",
       "    }\n",
       "\n",
       "    .dataframe tbody tr th {\n",
       "        vertical-align: top;\n",
       "    }\n",
       "\n",
       "    .dataframe thead th {\n",
       "        text-align: right;\n",
       "    }\n",
       "</style>\n",
       "<table border=\"1\" class=\"dataframe\">\n",
       "  <thead>\n",
       "    <tr style=\"text-align: right;\">\n",
       "      <th>Education</th>\n",
       "      <th>Bachelor's Degree</th>\n",
       "      <th>Master's Degree</th>\n",
       "      <th>PhD</th>\n",
       "    </tr>\n",
       "    <tr>\n",
       "      <th>title</th>\n",
       "      <th></th>\n",
       "      <th></th>\n",
       "      <th></th>\n",
       "    </tr>\n",
       "  </thead>\n",
       "  <tbody>\n",
       "    <tr>\n",
       "      <th>Business Analyst</th>\n",
       "      <td>275.0</td>\n",
       "      <td>237.0</td>\n",
       "      <td>5.0</td>\n",
       "    </tr>\n",
       "    <tr>\n",
       "      <th>Data Scientist</th>\n",
       "      <td>239.0</td>\n",
       "      <td>792.0</td>\n",
       "      <td>362.0</td>\n",
       "    </tr>\n",
       "    <tr>\n",
       "      <th>Hardware Engineer</th>\n",
       "      <td>222.0</td>\n",
       "      <td>833.0</td>\n",
       "      <td>217.0</td>\n",
       "    </tr>\n",
       "    <tr>\n",
       "      <th>Human Resources</th>\n",
       "      <td>88.0</td>\n",
       "      <td>97.0</td>\n",
       "      <td>7.0</td>\n",
       "    </tr>\n",
       "    <tr>\n",
       "      <th>Management Consultant</th>\n",
       "      <td>252.0</td>\n",
       "      <td>333.0</td>\n",
       "      <td>12.0</td>\n",
       "    </tr>\n",
       "    <tr>\n",
       "      <th>Marketing</th>\n",
       "      <td>224.0</td>\n",
       "      <td>180.0</td>\n",
       "      <td>4.0</td>\n",
       "    </tr>\n",
       "    <tr>\n",
       "      <th>Mechanical Engineer</th>\n",
       "      <td>159.0</td>\n",
       "      <td>130.0</td>\n",
       "      <td>27.0</td>\n",
       "    </tr>\n",
       "    <tr>\n",
       "      <th>Product Designer</th>\n",
       "      <td>380.0</td>\n",
       "      <td>341.0</td>\n",
       "      <td>20.0</td>\n",
       "    </tr>\n",
       "    <tr>\n",
       "      <th>Product Manager</th>\n",
       "      <td>667.0</td>\n",
       "      <td>1452.0</td>\n",
       "      <td>35.0</td>\n",
       "    </tr>\n",
       "    <tr>\n",
       "      <th>Recruiter</th>\n",
       "      <td>191.0</td>\n",
       "      <td>44.0</td>\n",
       "      <td>0.0</td>\n",
       "    </tr>\n",
       "    <tr>\n",
       "      <th>Sales</th>\n",
       "      <td>149.0</td>\n",
       "      <td>94.0</td>\n",
       "      <td>3.0</td>\n",
       "    </tr>\n",
       "    <tr>\n",
       "      <th>Software Engineer</th>\n",
       "      <td>8610.0</td>\n",
       "      <td>9161.0</td>\n",
       "      <td>881.0</td>\n",
       "    </tr>\n",
       "    <tr>\n",
       "      <th>Software Engineering Manager</th>\n",
       "      <td>531.0</td>\n",
       "      <td>857.0</td>\n",
       "      <td>81.0</td>\n",
       "    </tr>\n",
       "    <tr>\n",
       "      <th>Solution Architect</th>\n",
       "      <td>234.0</td>\n",
       "      <td>281.0</td>\n",
       "      <td>13.0</td>\n",
       "    </tr>\n",
       "    <tr>\n",
       "      <th>Technical Program Manager</th>\n",
       "      <td>311.0</td>\n",
       "      <td>470.0</td>\n",
       "      <td>27.0</td>\n",
       "    </tr>\n",
       "  </tbody>\n",
       "</table>\n",
       "</div>"
      ],
      "text/plain": [
       "Education                     Bachelor's Degree  Master's Degree    PhD\n",
       "title                                                                  \n",
       "Business Analyst                          275.0            237.0    5.0\n",
       "Data Scientist                            239.0            792.0  362.0\n",
       "Hardware Engineer                         222.0            833.0  217.0\n",
       "Human Resources                            88.0             97.0    7.0\n",
       "Management Consultant                     252.0            333.0   12.0\n",
       "Marketing                                 224.0            180.0    4.0\n",
       "Mechanical Engineer                       159.0            130.0   27.0\n",
       "Product Designer                          380.0            341.0   20.0\n",
       "Product Manager                           667.0           1452.0   35.0\n",
       "Recruiter                                 191.0             44.0    0.0\n",
       "Sales                                     149.0             94.0    3.0\n",
       "Software Engineer                        8610.0           9161.0  881.0\n",
       "Software Engineering Manager              531.0            857.0   81.0\n",
       "Solution Architect                        234.0            281.0   13.0\n",
       "Technical Program Manager                 311.0            470.0   27.0"
      ]
     },
     "execution_count": 266,
     "metadata": {},
     "output_type": "execute_result"
    }
   ],
   "source": [
    "# Number of each type of degree in each position\n",
    "df_2column = salary_df.groupby(['title', 'Education']).size()\n",
    "df_2column = df_2column.unstack().fillna(0)\n",
    "df_2column"
   ]
  },
  {
   "cell_type": "code",
   "execution_count": 267,
   "id": "1c44d383",
   "metadata": {},
   "outputs": [
    {
     "data": {
      "text/html": [
       "<div>\n",
       "<style scoped>\n",
       "    .dataframe tbody tr th:only-of-type {\n",
       "        vertical-align: middle;\n",
       "    }\n",
       "\n",
       "    .dataframe tbody tr th {\n",
       "        vertical-align: top;\n",
       "    }\n",
       "\n",
       "    .dataframe thead th {\n",
       "        text-align: right;\n",
       "    }\n",
       "</style>\n",
       "<table border=\"1\" class=\"dataframe\">\n",
       "  <thead>\n",
       "    <tr style=\"text-align: right;\">\n",
       "      <th>Education</th>\n",
       "      <th>PhD</th>\n",
       "      <th>Master's Degree</th>\n",
       "      <th>Bachelor's Degree</th>\n",
       "    </tr>\n",
       "    <tr>\n",
       "      <th>title</th>\n",
       "      <th></th>\n",
       "      <th></th>\n",
       "      <th></th>\n",
       "    </tr>\n",
       "  </thead>\n",
       "  <tbody>\n",
       "    <tr>\n",
       "      <th>Software Engineer</th>\n",
       "      <td>881.0</td>\n",
       "      <td>9161.0</td>\n",
       "      <td>8610.0</td>\n",
       "    </tr>\n",
       "    <tr>\n",
       "      <th>Data Scientist</th>\n",
       "      <td>362.0</td>\n",
       "      <td>792.0</td>\n",
       "      <td>239.0</td>\n",
       "    </tr>\n",
       "    <tr>\n",
       "      <th>Hardware Engineer</th>\n",
       "      <td>217.0</td>\n",
       "      <td>833.0</td>\n",
       "      <td>222.0</td>\n",
       "    </tr>\n",
       "    <tr>\n",
       "      <th>Software Engineering Manager</th>\n",
       "      <td>81.0</td>\n",
       "      <td>857.0</td>\n",
       "      <td>531.0</td>\n",
       "    </tr>\n",
       "    <tr>\n",
       "      <th>Product Manager</th>\n",
       "      <td>35.0</td>\n",
       "      <td>1452.0</td>\n",
       "      <td>667.0</td>\n",
       "    </tr>\n",
       "    <tr>\n",
       "      <th>Mechanical Engineer</th>\n",
       "      <td>27.0</td>\n",
       "      <td>130.0</td>\n",
       "      <td>159.0</td>\n",
       "    </tr>\n",
       "    <tr>\n",
       "      <th>Technical Program Manager</th>\n",
       "      <td>27.0</td>\n",
       "      <td>470.0</td>\n",
       "      <td>311.0</td>\n",
       "    </tr>\n",
       "    <tr>\n",
       "      <th>Product Designer</th>\n",
       "      <td>20.0</td>\n",
       "      <td>341.0</td>\n",
       "      <td>380.0</td>\n",
       "    </tr>\n",
       "    <tr>\n",
       "      <th>Solution Architect</th>\n",
       "      <td>13.0</td>\n",
       "      <td>281.0</td>\n",
       "      <td>234.0</td>\n",
       "    </tr>\n",
       "    <tr>\n",
       "      <th>Management Consultant</th>\n",
       "      <td>12.0</td>\n",
       "      <td>333.0</td>\n",
       "      <td>252.0</td>\n",
       "    </tr>\n",
       "    <tr>\n",
       "      <th>Human Resources</th>\n",
       "      <td>7.0</td>\n",
       "      <td>97.0</td>\n",
       "      <td>88.0</td>\n",
       "    </tr>\n",
       "    <tr>\n",
       "      <th>Business Analyst</th>\n",
       "      <td>5.0</td>\n",
       "      <td>237.0</td>\n",
       "      <td>275.0</td>\n",
       "    </tr>\n",
       "    <tr>\n",
       "      <th>Marketing</th>\n",
       "      <td>4.0</td>\n",
       "      <td>180.0</td>\n",
       "      <td>224.0</td>\n",
       "    </tr>\n",
       "    <tr>\n",
       "      <th>Sales</th>\n",
       "      <td>3.0</td>\n",
       "      <td>94.0</td>\n",
       "      <td>149.0</td>\n",
       "    </tr>\n",
       "    <tr>\n",
       "      <th>Recruiter</th>\n",
       "      <td>0.0</td>\n",
       "      <td>44.0</td>\n",
       "      <td>191.0</td>\n",
       "    </tr>\n",
       "  </tbody>\n",
       "</table>\n",
       "</div>"
      ],
      "text/plain": [
       "Education                       PhD  Master's Degree  Bachelor's Degree\n",
       "title                                                                  \n",
       "Software Engineer             881.0           9161.0             8610.0\n",
       "Data Scientist                362.0            792.0              239.0\n",
       "Hardware Engineer             217.0            833.0              222.0\n",
       "Software Engineering Manager   81.0            857.0              531.0\n",
       "Product Manager                35.0           1452.0              667.0\n",
       "Mechanical Engineer            27.0            130.0              159.0\n",
       "Technical Program Manager      27.0            470.0              311.0\n",
       "Product Designer               20.0            341.0              380.0\n",
       "Solution Architect             13.0            281.0              234.0\n",
       "Management Consultant          12.0            333.0              252.0\n",
       "Human Resources                 7.0             97.0               88.0\n",
       "Business Analyst                5.0            237.0              275.0\n",
       "Marketing                       4.0            180.0              224.0\n",
       "Sales                           3.0             94.0              149.0\n",
       "Recruiter                       0.0             44.0              191.0"
      ]
     },
     "execution_count": 267,
     "metadata": {},
     "output_type": "execute_result"
    }
   ],
   "source": [
    "# Order the number of PhD for each position from high to low\n",
    "df_order = df_2column.sort_values('PhD', ascending=False)\n",
    "df_order = df_order[[\"PhD\", \"Master's Degree\", \"Bachelor's Degree\"]]\n",
    "df_order"
   ]
  },
  {
   "cell_type": "code",
   "execution_count": 268,
   "id": "823c9cb6",
   "metadata": {},
   "outputs": [
    {
     "data": {
      "image/png": "[encoded data removed]",
      "text/plain": [
       "<Figure size 1200x700 with 1 Axes>"
      ]
     },
     "metadata": {},
     "output_type": "display_data"
    }
   ],
   "source": [
    "df_percentage = df_order.apply(lambda col: col*100/df_2column.sum(axis=1))\n",
    "df_percentage = df_percentage.sort_values('PhD', ascending=False)\n",
    "df_percentage.plot(kind='barh', stacked=True, figsize=(12, 7))\n",
    "plt.xlabel('Percentage(%)', fontsize=20)\n",
    "plt.ylabel('Title', fontsize=20)\n",
    "plt.title('100% stacked bar chart about the distribution of degree in different position', fontsize=25);\n",
    "plt.grid(True);"
   ]
  },
  {
   "cell_type": "markdown",
   "id": "e044caac",
   "metadata": {},
   "source": [
    "- #### It is clear that different position has diffrent percentage of PhD, to be more clear:\n",
    "- #### Recruiter, Marketing, Sales has the lowest rate of PhD, it is easy to know that these positions have the ability to contact, communicate more than academic field.\n",
    "- #### Of course, positions which require the researching things, such as Data Scientist, Hardware Engineer, Mechanical Engineer has the highest percentage of PhD (although Master's Degree is also high)"
   ]
  },
  {
   "cell_type": "markdown",
   "id": "4613133a",
   "metadata": {},
   "source": [
    "***Step 4: With top 5 position have the most PhD, how about their salary?***"
   ]
  },
  {
   "cell_type": "code",
   "execution_count": 269,
   "id": "5c260d8d",
   "metadata": {
    "scrolled": true
   },
   "outputs": [
    {
     "data": {
      "text/plain": [
       "array(['Data Scientist', 'Hardware Engineer', 'Mechanical Engineer',\n",
       "       'Software Engineering Manager', 'Software Engineer'], dtype=object)"
      ]
     },
     "execution_count": 269,
     "metadata": {},
     "output_type": "execute_result"
    }
   ],
   "source": [
    "# Select top 5\n",
    "df_percentage = df_percentage.sort_values('PhD', ascending=False)\n",
    "top_PhD = df_percentage.index[:5].values\n",
    "top_PhD"
   ]
  },
  {
   "cell_type": "code",
   "execution_count": 270,
   "id": "bb1ce565",
   "metadata": {},
   "outputs": [
    {
     "data": {
      "text/html": [
       "<div>\n",
       "<style scoped>\n",
       "    .dataframe tbody tr th:only-of-type {\n",
       "        vertical-align: middle;\n",
       "    }\n",
       "\n",
       "    .dataframe tbody tr th {\n",
       "        vertical-align: top;\n",
       "    }\n",
       "\n",
       "    .dataframe thead th {\n",
       "        text-align: right;\n",
       "    }\n",
       "</style>\n",
       "<table border=\"1\" class=\"dataframe\">\n",
       "  <thead>\n",
       "    <tr style=\"text-align: right;\">\n",
       "      <th></th>\n",
       "      <th></th>\n",
       "      <th>totalyearlycompensation</th>\n",
       "    </tr>\n",
       "    <tr>\n",
       "      <th>title</th>\n",
       "      <th>Education</th>\n",
       "      <th></th>\n",
       "    </tr>\n",
       "  </thead>\n",
       "  <tbody>\n",
       "    <tr>\n",
       "      <th rowspan=\"3\" valign=\"top\">Data Scientist</th>\n",
       "      <th>Bachelor's Degree</th>\n",
       "      <td>156121.338912</td>\n",
       "    </tr>\n",
       "    <tr>\n",
       "      <th>Master's Degree</th>\n",
       "      <td>187906.565657</td>\n",
       "    </tr>\n",
       "    <tr>\n",
       "      <th>PhD</th>\n",
       "      <td>253077.348066</td>\n",
       "    </tr>\n",
       "    <tr>\n",
       "      <th rowspan=\"3\" valign=\"top\">Hardware Engineer</th>\n",
       "      <th>Bachelor's Degree</th>\n",
       "      <td>178400.900901</td>\n",
       "    </tr>\n",
       "    <tr>\n",
       "      <th>Master's Degree</th>\n",
       "      <td>202306.122449</td>\n",
       "    </tr>\n",
       "    <tr>\n",
       "      <th>PhD</th>\n",
       "      <td>251599.078341</td>\n",
       "    </tr>\n",
       "    <tr>\n",
       "      <th rowspan=\"3\" valign=\"top\">Mechanical Engineer</th>\n",
       "      <th>Bachelor's Degree</th>\n",
       "      <td>139616.352201</td>\n",
       "    </tr>\n",
       "    <tr>\n",
       "      <th>Master's Degree</th>\n",
       "      <td>167576.923077</td>\n",
       "    </tr>\n",
       "    <tr>\n",
       "      <th>PhD</th>\n",
       "      <td>220666.666667</td>\n",
       "    </tr>\n",
       "    <tr>\n",
       "      <th rowspan=\"3\" valign=\"top\">Software Engineer</th>\n",
       "      <th>Bachelor's Degree</th>\n",
       "      <td>169078.745645</td>\n",
       "    </tr>\n",
       "    <tr>\n",
       "      <th>Master's Degree</th>\n",
       "      <td>210083.397009</td>\n",
       "    </tr>\n",
       "    <tr>\n",
       "      <th>PhD</th>\n",
       "      <td>306187.287174</td>\n",
       "    </tr>\n",
       "    <tr>\n",
       "      <th rowspan=\"3\" valign=\"top\">Software Engineering Manager</th>\n",
       "      <th>Bachelor's Degree</th>\n",
       "      <td>296065.913371</td>\n",
       "    </tr>\n",
       "    <tr>\n",
       "      <th>Master's Degree</th>\n",
       "      <td>355919.486581</td>\n",
       "    </tr>\n",
       "    <tr>\n",
       "      <th>PhD</th>\n",
       "      <td>453617.283951</td>\n",
       "    </tr>\n",
       "  </tbody>\n",
       "</table>\n",
       "</div>"
      ],
      "text/plain": [
       "                                                totalyearlycompensation\n",
       "title                        Education                                 \n",
       "Data Scientist               Bachelor's Degree            156121.338912\n",
       "                             Master's Degree              187906.565657\n",
       "                             PhD                          253077.348066\n",
       "Hardware Engineer            Bachelor's Degree            178400.900901\n",
       "                             Master's Degree              202306.122449\n",
       "                             PhD                          251599.078341\n",
       "Mechanical Engineer          Bachelor's Degree            139616.352201\n",
       "                             Master's Degree              167576.923077\n",
       "                             PhD                          220666.666667\n",
       "Software Engineer            Bachelor's Degree            169078.745645\n",
       "                             Master's Degree              210083.397009\n",
       "                             PhD                          306187.287174\n",
       "Software Engineering Manager Bachelor's Degree            296065.913371\n",
       "                             Master's Degree              355919.486581\n",
       "                             PhD                          453617.283951"
      ]
     },
     "execution_count": 270,
     "metadata": {},
     "output_type": "execute_result"
    }
   ],
   "source": [
    "# Average\n",
    "df_average = salary_df[salary_df.title.isin(top_PhD)]\n",
    "df_average = df_average.groupby(['title', 'Education'])[['totalyearlycompensation']].mean()\n",
    "df_average"
   ]
  },
  {
   "cell_type": "code",
   "execution_count": 271,
   "id": "c7c04ef7",
   "metadata": {},
   "outputs": [
    {
     "data": {
      "image/png": "[encoded data removed]",
      "text/plain": [
       "<Figure size 2500x1500 with 1 Axes>"
      ]
     },
     "metadata": {},
     "output_type": "display_data"
    }
   ],
   "source": [
    "# set width of bar\n",
    "barWidth = 0.15\n",
    "fig = plt.subplots(figsize =(25, 15))\n",
    " \n",
    "# set height of bar\n",
    "BachelorsDegree = [155314, 178400, 139616, 169140, 295733]\n",
    "MastersDegree = [188525, 202908, 167576, 210244, 357475]\n",
    "PhD = [253901, 251599, 220666, 306023, 453617]\n",
    " \n",
    "# Set position of bar on X axis\n",
    "br1 = np.arange(len(BachelorsDegree))\n",
    "br2 = [x + barWidth for x in br1]\n",
    "br3 = [x + barWidth for x in br2]\n",
    " \n",
    "# Make the plot\n",
    "plt.bar(br1, BachelorsDegree, color ='r', width = barWidth,\n",
    "        edgecolor ='grey', label ='BachelorsDegree')\n",
    "plt.bar(br2, MastersDegree, color ='b', width = barWidth,\n",
    "        edgecolor ='grey', label ='MastersDegree')\n",
    "plt.bar(br3, PhD, color ='y', width = barWidth,\n",
    "        edgecolor ='grey', label ='PhD')\n",
    "\n",
    "# Adding Xticks\n",
    "plt.xlabel('Title', fontweight ='bold', fontsize = 25)\n",
    "plt.ylabel('Total Yearly Compensation', fontweight ='bold', fontsize = 25)\n",
    "plt.xticks([r + barWidth for r in range(len(BachelorsDegree))],\n",
    "['Data Scientist', 'Hardware Engineer', 'Mechanical Engineer', 'Software Engineer', 'Software Engineering Manager'], fontsize = 20)\n",
    "plt.title('Comparision between the same position with different degree', fontsize=25);\n",
    "plt.legend()\n",
    "plt.show()"
   ]
  },
  {
   "cell_type": "markdown",
   "id": "12a82826",
   "metadata": {},
   "source": [
    "- #### Obviously, top 5 positions have the most PhD, about the salary PhDs can earn always the highest salary compare to the orther, this can prove that it is really worthy to get a PhD."
   ]
  },
  {
   "cell_type": "markdown",
   "id": "1d20161b",
   "metadata": {},
   "source": [
    "### Sum up from this question\n",
    "- The number of jobs for PhD is not too high (lower than Master and Bachelor) but in general the income for people who have a PhD is higher than the orther.\n",
    "- The number of people who have a PhD only high in some academic position, such as: Data Scientist, Hardware Engineer, Mechanical Engineer and at these position, PhD proves themselves a lot, imcome of them is remarkably higher than the orther, so that in this situation acheving a PhD is a good choice."
   ]
  },
  {
   "attachments": {},
   "cell_type": "markdown",
   "id": "7734dcdd",
   "metadata": {},
   "source": [
    "## Questions: Top 10 companies based on the number of high-paying jobs, compare their total yearly compensation and does gender pay gap exist in these top 10 companies?"
   ]
  },
  {
   "attachments": {},
   "cell_type": "markdown",
   "id": "812872f8",
   "metadata": {},
   "source": [
    "Salary is one of the highest expectations from job applicants to job recruiters. Each company will have their range of salary based on their business scale. Knowing top 10 companies based on the number of high-paying jobs, job applicants will have more options "
   ]
  },
  {
   "attachments": {},
   "cell_type": "markdown",
   "id": "97a886ac",
   "metadata": {},
   "source": [
    "Thu nhập là một trong những lý do khi ứng viên tìm việc. Mỗi công ty đều có mức lương khác nhau dựa vào quy mô của họ. Trả lời được câu hỏi này sẽ giúp các ứng viên có thêm thông tin về top những công ty đứng đầu gồm công ty nào, các chỉ số về lương (mean, median, Q1, Q3, khoảng lương) và liệu có sự phân biệt giữa nam và nữ trong vấn đề về lương hay không"
   ]
  },
  {
   "cell_type": "markdown",
   "id": "b795ce53",
   "metadata": {},
   "source": [
    "## Answer:"
   ]
  },
  {
   "attachments": {},
   "cell_type": "markdown",
   "id": "c7fd9bde",
   "metadata": {},
   "source": [
    "Để trả lời câu hỏi này, chúng ta làm theo các bước:\n",
    "1. Chọn ra ngưỡng thu nhập cao, ở đây nhóm chọn Q3 là ngưỡng.\n",
    "2. Chọn ra top 10 công ty có nhiều công việc sở hữu mức lương cao. Vẽ biểu đồ boxplot về lương của 10 công ty.\n",
    "3. So sánh mức lương giữa nam và nữ của 10 công ty đó. Vẽ biểu đồ cột."
   ]
  },
  {
   "cell_type": "code",
   "execution_count": null,
   "id": "cbc7c204",
   "metadata": {},
   "outputs": [
    {
     "name": "stdout",
     "output_type": "stream",
     "text": [
      "Salary Q3:  264000.0\n"
     ]
    }
   ],
   "source": [
    "q3_salary = salary_df['totalyearlycompensation'].quantile(0.75)\n",
    "print('Salary Q3: ', q3_salary)"
   ]
  },
  {
   "attachments": {},
   "cell_type": "markdown",
   "id": "a9949102",
   "metadata": {},
   "source": [
    "Tạo 1 df mới chỉ chứa các dòng có lương cao hơn hoặc bằng ngưỡng Salary Q3"
   ]
  },
  {
   "cell_type": "code",
   "execution_count": null,
   "id": "ada1b350",
   "metadata": {},
   "outputs": [],
   "source": [
    "high_salary_df = salary_df[salary_df['totalyearlycompensation'] >= q3_salary]"
   ]
  },
  {
   "attachments": {},
   "cell_type": "markdown",
   "id": "10f3db57",
   "metadata": {},
   "source": [
    "Tính ra top 10 công ty"
   ]
  },
  {
   "cell_type": "code",
   "execution_count": null,
   "id": "ff0aeef1",
   "metadata": {},
   "outputs": [],
   "source": [
    "top10_company = high_salary_df['company'].value_counts()[:10]"
   ]
  },
  {
   "cell_type": "code",
   "execution_count": null,
   "id": "289cb2b8",
   "metadata": {},
   "outputs": [
    {
     "data": {
      "image/png": "[encoded data removed]",
      "text/plain": [
       "<Figure size 640x480 with 1 Axes>"
      ]
     },
     "metadata": {},
     "output_type": "display_data"
    }
   ],
   "source": [
    "top10_company.plot.bar()\n",
    "plt.title('Top 10 companies based on the number of high-paying jobs')\n",
    "plt.xlabel('Company')\n",
    "plt.ylabel('Number of high-paying jobs')\n",
    "plt.xticks(rotation = 45) \n",
    "plt.show()"
   ]
  },
  {
   "attachments": {},
   "cell_type": "markdown",
   "id": "aef4c1dc",
   "metadata": {},
   "source": [
    "Không quá bất ngờ khi các tên tuổi lớn về công nghệ đều xuất hiện, điển hình là Big Five (Google, Amazon, Facebook, Apple, Microsoft)."
   ]
  },
  {
   "cell_type": "code",
   "execution_count": null,
   "id": "c6790da6",
   "metadata": {},
   "outputs": [
    {
     "data": {
      "image/png": "[encoded data removed]",
      "text/plain": [
       "<Figure size 640x480 with 1 Axes>"
      ]
     },
     "metadata": {},
     "output_type": "display_data"
    }
   ],
   "source": [
    "#plt.figure(figsize=(14,10))\n",
    "\n",
    "df_company = salary_df[salary_df['company'].isin(top10_company.keys())]\n",
    "fig = sns.boxplot(x='company', y='totalyearlycompensation', data=df_company, showfliers = False)\n",
    "plt.title('Top 10 companies\\' salaries comparision')\n",
    "plt.xlabel('Company')\n",
    "plt.ylabel('Salary')\n",
    "plt.xticks(rotation = 45)\n",
    "\n",
    "median_salary = salary_df['totalyearlycompensation'].median()\n",
    "plt.axhline(y=median_salary, color='r', linestyle='-', label='All salaries\\' median')\n",
    "plt.legend()\n",
    "\n",
    "fig.axis(ymin=0, ymax=800000);\n",
    "\n",
    "plt.show()"
   ]
  },
  {
   "attachments": {},
   "cell_type": "markdown",
   "id": "73e3e1b2",
   "metadata": {},
   "source": [
    "Đa phần top 10 các công ty lớn sẽ có mức lương trung bình hàng năm rơi vào khoảng 200 000 - 300 000. Cao nhất trong các công ty trên là Netflix, với mức median cho lương hàng năm lên tới 500 000."
   ]
  },
  {
   "attachments": {},
   "cell_type": "markdown",
   "id": "ad9aa1ca",
   "metadata": {},
   "source": [
    "Kiểm tra các giá trị của gender"
   ]
  },
  {
   "cell_type": "code",
   "execution_count": null,
   "id": "aab5cc88",
   "metadata": {},
   "outputs": [
    {
     "data": {
      "text/html": [
       "<div>\n",
       "<style scoped>\n",
       "    .dataframe tbody tr th:only-of-type {\n",
       "        vertical-align: middle;\n",
       "    }\n",
       "\n",
       "    .dataframe tbody tr th {\n",
       "        vertical-align: top;\n",
       "    }\n",
       "\n",
       "    .dataframe thead th {\n",
       "        text-align: right;\n",
       "    }\n",
       "</style>\n",
       "<table border=\"1\" class=\"dataframe\">\n",
       "  <thead>\n",
       "    <tr style=\"text-align: right;\">\n",
       "      <th>gender</th>\n",
       "      <th>MaleRatio</th>\n",
       "      <th>FemaleRatio</th>\n",
       "    </tr>\n",
       "    <tr>\n",
       "      <th>company</th>\n",
       "      <th></th>\n",
       "      <th></th>\n",
       "    </tr>\n",
       "  </thead>\n",
       "  <tbody>\n",
       "    <tr>\n",
       "      <th>Amazon</th>\n",
       "      <td>0.852538</td>\n",
       "      <td>0.147462</td>\n",
       "    </tr>\n",
       "    <tr>\n",
       "      <th>Apple</th>\n",
       "      <td>0.845007</td>\n",
       "      <td>0.154993</td>\n",
       "    </tr>\n",
       "    <tr>\n",
       "      <th>Facebook</th>\n",
       "      <td>0.822917</td>\n",
       "      <td>0.177083</td>\n",
       "    </tr>\n",
       "    <tr>\n",
       "      <th>Google</th>\n",
       "      <td>0.843685</td>\n",
       "      <td>0.156315</td>\n",
       "    </tr>\n",
       "    <tr>\n",
       "      <th>LinkedIn</th>\n",
       "      <td>0.841954</td>\n",
       "      <td>0.158046</td>\n",
       "    </tr>\n",
       "    <tr>\n",
       "      <th>Microsoft</th>\n",
       "      <td>0.832498</td>\n",
       "      <td>0.167502</td>\n",
       "    </tr>\n",
       "    <tr>\n",
       "      <th>Netflix</th>\n",
       "      <td>0.793893</td>\n",
       "      <td>0.206107</td>\n",
       "    </tr>\n",
       "    <tr>\n",
       "      <th>Oracle</th>\n",
       "      <td>0.821492</td>\n",
       "      <td>0.178508</td>\n",
       "    </tr>\n",
       "    <tr>\n",
       "      <th>Salesforce</th>\n",
       "      <td>0.863550</td>\n",
       "      <td>0.136450</td>\n",
       "    </tr>\n",
       "    <tr>\n",
       "      <th>Uber</th>\n",
       "      <td>0.827626</td>\n",
       "      <td>0.172374</td>\n",
       "    </tr>\n",
       "  </tbody>\n",
       "</table>\n",
       "</div>"
      ],
      "text/plain": [
       "gender      MaleRatio  FemaleRatio\n",
       "company                           \n",
       "Amazon       0.852538     0.147462\n",
       "Apple        0.845007     0.154993\n",
       "Facebook     0.822917     0.177083\n",
       "Google       0.843685     0.156315\n",
       "LinkedIn     0.841954     0.158046\n",
       "Microsoft    0.832498     0.167502\n",
       "Netflix      0.793893     0.206107\n",
       "Oracle       0.821492     0.178508\n",
       "Salesforce   0.863550     0.136450\n",
       "Uber         0.827626     0.172374"
      ]
     },
     "metadata": {},
     "output_type": "display_data"
    }
   ],
   "source": [
    "genderRatio = df_company.pivot_table(index='company', columns='gender', aggfunc='size')\n",
    "sums = genderRatio[['Female', 'Male']].sum(axis=1)\n",
    "genderRatio['FemaleRatio'] = genderRatio['Female'] / sums\n",
    "genderRatio['MaleRatio'] = genderRatio['Male'] / sums\n",
    "genderRatio[['MaleRatio', 'FemaleRatio']]"
   ]
  },
  {
   "cell_type": "code",
   "execution_count": null,
   "id": "42000089",
   "metadata": {},
   "outputs": [
    {
     "data": {
      "image/png": "[encoded data removed]",
      "text/plain": [
       "<Figure size 640x480 with 1 Axes>"
      ]
     },
     "metadata": {},
     "output_type": "display_data"
    }
   ],
   "source": [
    "genderRatio[['MaleRatio', 'FemaleRatio']].plot(kind='bar', stacked = True, mark_right=True)\n",
    "\n",
    "plt.title('Gender ratio in top 10 companies')\n",
    "plt.xlabel('Company')\n",
    "plt.xticks(rotation = 45)\n",
    "plt.show()"
   ]
  },
  {
   "cell_type": "code",
   "execution_count": null,
   "id": "53a00341",
   "metadata": {},
   "outputs": [
    {
     "data": {
      "text/html": [
       "<div>\n",
       "<style scoped>\n",
       "    .dataframe tbody tr th:only-of-type {\n",
       "        vertical-align: middle;\n",
       "    }\n",
       "\n",
       "    .dataframe tbody tr th {\n",
       "        vertical-align: top;\n",
       "    }\n",
       "\n",
       "    .dataframe thead th {\n",
       "        text-align: right;\n",
       "    }\n",
       "</style>\n",
       "<table border=\"1\" class=\"dataframe\">\n",
       "  <thead>\n",
       "    <tr style=\"text-align: right;\">\n",
       "      <th></th>\n",
       "      <th>Male</th>\n",
       "      <th>Female</th>\n",
       "    </tr>\n",
       "    <tr>\n",
       "      <th>company</th>\n",
       "      <th></th>\n",
       "      <th></th>\n",
       "    </tr>\n",
       "  </thead>\n",
       "  <tbody>\n",
       "    <tr>\n",
       "      <th>Amazon</th>\n",
       "      <td>207000</td>\n",
       "      <td>200000</td>\n",
       "    </tr>\n",
       "    <tr>\n",
       "      <th>Apple</th>\n",
       "      <td>257000</td>\n",
       "      <td>232500</td>\n",
       "    </tr>\n",
       "    <tr>\n",
       "      <th>Facebook</th>\n",
       "      <td>300000</td>\n",
       "      <td>266000</td>\n",
       "    </tr>\n",
       "    <tr>\n",
       "      <th>Google</th>\n",
       "      <td>255000</td>\n",
       "      <td>243000</td>\n",
       "    </tr>\n",
       "    <tr>\n",
       "      <th>LinkedIn</th>\n",
       "      <td>275000</td>\n",
       "      <td>256500</td>\n",
       "    </tr>\n",
       "    <tr>\n",
       "      <th>Microsoft</th>\n",
       "      <td>190000</td>\n",
       "      <td>178000</td>\n",
       "    </tr>\n",
       "    <tr>\n",
       "      <th>Netflix</th>\n",
       "      <td>475000</td>\n",
       "      <td>432500</td>\n",
       "    </tr>\n",
       "    <tr>\n",
       "      <th>Oracle</th>\n",
       "      <td>192000</td>\n",
       "      <td>177000</td>\n",
       "    </tr>\n",
       "    <tr>\n",
       "      <th>Salesforce</th>\n",
       "      <td>238000</td>\n",
       "      <td>220000</td>\n",
       "    </tr>\n",
       "    <tr>\n",
       "      <th>Uber</th>\n",
       "      <td>278000</td>\n",
       "      <td>245000</td>\n",
       "    </tr>\n",
       "  </tbody>\n",
       "</table>\n",
       "</div>"
      ],
      "text/plain": [
       "              Male  Female\n",
       "company                   \n",
       "Amazon      207000  200000\n",
       "Apple       257000  232500\n",
       "Facebook    300000  266000\n",
       "Google      255000  243000\n",
       "LinkedIn    275000  256500\n",
       "Microsoft   190000  178000\n",
       "Netflix     475000  432500\n",
       "Oracle      192000  177000\n",
       "Salesforce  238000  220000\n",
       "Uber        278000  245000"
      ]
     },
     "metadata": {},
     "output_type": "display_data"
    }
   ],
   "source": [
    "male = df_company[df_company['gender'] == 'Male']\n",
    "maleSalary_median = male.groupby('company')['totalyearlycompensation'].median()\n",
    "maleSalary_median.name = 'Male'\n",
    "\n",
    "female = df_company[df_company['gender'] == 'Female']\n",
    "femaleSalary_median = female.groupby('company')['totalyearlycompensation'].median()\n",
    "femaleSalary_median.name = 'Female'\n",
    "\n",
    "genderSalary_median = pd.concat([maleSalary_median, femaleSalary_median],axis=1)\n",
    "genderSalary_median"
   ]
  },
  {
   "cell_type": "code",
   "execution_count": null,
   "id": "e36aa9bc",
   "metadata": {},
   "outputs": [
    {
     "data": {
      "image/png": "[encoded data removed]",
      "text/plain": [
       "<Figure size 640x480 with 1 Axes>"
      ]
     },
     "metadata": {},
     "output_type": "display_data"
    }
   ],
   "source": [
    "x = np.arange(10)\n",
    "plt.bar(x - 0.2, maleSalary_median, 0.4, label='Male')\n",
    "plt.bar(x + 0.2, femaleSalary_median, 0.4, label='Female')\n",
    "\n",
    "plt.xticks(x, genderSalary_median.index, rotation= 45)    \n",
    "plt.xlabel(\"Company\")\n",
    "plt.ylabel(\"Salary\")\n",
    "plt.title(\"Gender salary disparity in top 10 companies\")\n",
    "plt.axis(ymax = 500000)\n",
    "plt.legend()\n",
    "plt.show()"
   ]
  },
  {
   "cell_type": "markdown",
   "id": "d9e62177",
   "metadata": {},
   "source": [
    "# Look back for this project"
   ]
  },
  {
   "cell_type": "markdown",
   "id": "9ecc5a25",
   "metadata": {},
   "source": [
    "### Difficulties:\n",
    "- Finding and selecting a good and suitable dataset took us a large amount of time.\n",
    "- Thinking and write down a question is also a hard thing, sometimes, we have many useful question but our knowledge now is not good enough to solve it.\n",
    "- Almost the dataset we found, the number of blank. NaN value is many.\n",
    "- This dataset includes 29 columns, it is also a hard maths for us to handle all.\n",
    "\n",
    "### Lessons can earn:\n",
    "- It is a good chance for us to train our brain practicing the process how to solve a problem strp by step.\n",
    "- Have a good grasp of visualizing the data for readers can understand by seeing charts,...\n",
    "- Be patient and always think a trouble in different aspects.\n",
    "\n",
    "### If we have more time:\n",
    "- Try our best to apply some machine learning in the project\n",
    "- Think more deeply about the noise, NaN value\n",
    "- Try to explore more column in the dataset"
   ]
  },
  {
   "cell_type": "markdown",
   "id": "1456457d",
   "metadata": {},
   "source": [
    "# References:\n",
    "- Link slides of Theory Teacher: https://drive.google.com/drive/folders/1WBgeLNoWVuWRaGrp2i6Z4tAEn8IpFqpq\n",
    "- How to draw Multiple bar plots: https://www.geeksforgeeks.org/bar-plot-in-matplotlib/ \n",
    "- Kaggle dataset: https://www.kaggle.com/datasets/jackogozaly/data-science-and-stem-salaries/discussion?select=Levels_Fyi_Salary_Data.csv\n",
    "- All knowledge on theory class of Teacher. Nghĩa\n",
    "- Lab 01, Lab 02, Lab 03 of Instructor. Long"
   ]
  },
  {
   "cell_type": "markdown",
   "id": "006d0d71",
   "metadata": {},
   "source": [
    "# THANK YOU TEACHERS FOR ALL THE SUPPORT FOR US."
   ]
  }
 ],
 "metadata": {
  "kernelspec": {
   "display_name": "Python 3 (ipykernel)",
   "language": "python",
   "name": "python3"
  },
  "language_info": {
   "codemirror_mode": {
    "name": "ipython",
    "version": 3
   },
   "file_extension": ".py",
   "mimetype": "text/x-python",
   "name": "python",
   "nbconvert_exporter": "python",
   "pygments_lexer": "ipython3",
   "version": "3.8.8"
  },
  "vscode": {
   "interpreter": {
    "hash": "8395ca0b5873fc3de583ead4c56c35736342a2bed86f544c50a56c83355a692e"
   }
  }
 },
 "nbformat": 4,
 "nbformat_minor": 5
}
