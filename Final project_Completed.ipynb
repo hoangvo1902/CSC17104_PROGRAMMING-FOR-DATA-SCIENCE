{
 "cells": [
  {
   "cell_type": "markdown",
   "id": "b7e85076",
   "metadata": {},
   "source": [
    "# FINAL PROJECT - Data Analysis\n",
    "---\n",
    "---"
   ]
  },
  {
   "cell_type": "markdown",
   "id": "b34163cd",
   "metadata": {},
   "source": [
    "**<font size=\"5\">Members and contribution</font>**"
   ]
  },
  {
   "cell_type": "markdown",
   "id": "6aaf789e",
   "metadata": {},
   "source": [
    "|ID's Student|Fullname|Contribute rate (%)|Tasks|\n",
    "|---------------|---------|---------------------|---------|\n",
    "|20127028|Võ Văn Hoàng        |100%|Exploratory Data Analysis|\n",
    "|20127054|Ngô Văn Trung Nguyên|100%|Exploratory Data Analysis|\n"
   ]
  },
  {
   "cell_type": "markdown",
   "id": "93e676fe",
   "metadata": {},
   "source": [
    "***The dataset was downloaded by us on the website of Kaggle which is an open source and free for everyone to access and download:***\n",
    "***https://www.kaggle.com/datasets/jackogozaly/data-science-and-stem-salaries/discussion?select=Levels_Fyi_Salary_Data.csv***"
   ]
  },
  {
   "cell_type": "markdown",
   "id": "53d468d2",
   "metadata": {},
   "source": [
    "---"
   ]
  },
  {
   "cell_type": "markdown",
   "id": "de16dd29",
   "metadata": {},
   "source": [
    "**<font size=\"5\">Collect Data</font>**"
   ]
  },
  {
   "cell_type": "markdown",
   "id": "4f6b5e56",
   "metadata": {},
   "source": [
    "- This dataset contains useful information such as education level, compensation (base salary, bonus, stock grants), race, and more.\n",
    "- It consists of 62,000 salary records from top companies. \n",
    "- This data was scraped off levels.fyi and then the author cleaned it up a tad.\n",
    "- It is Public Domain which is in the state of belonging or being available to the public as a whole, and therefore not subject to copyright."
   ]
  },
  {
   "cell_type": "markdown",
   "id": "0c2d349c",
   "metadata": {},
   "source": [
    "---"
   ]
  },
  {
   "cell_type": "markdown",
   "id": "8969348e",
   "metadata": {},
   "source": [
    "**<font size=\"5\">Explore Data</font>**"
   ]
  },
  {
   "cell_type": "markdown",
   "id": "e8b046ba",
   "metadata": {},
   "source": [
    "### Environment"
   ]
  },
  {
   "cell_type": "code",
   "execution_count": 1,
   "id": "05051f81",
   "metadata": {},
   "outputs": [
    {
     "data": {
      "text/plain": [
       "'c:\\\\Users\\\\42nvt\\\\miniconda3\\\\envs\\\\min_ds-env\\\\python.exe'"
      ]
     },
     "execution_count": 1,
     "metadata": {},
     "output_type": "execute_result"
    }
   ],
   "source": [
    "import sys\n",
    "sys.executable"
   ]
  },
  {
   "cell_type": "code",
   "execution_count": 2,
   "id": "088a6195",
   "metadata": {},
   "outputs": [],
   "source": [
    "import pandas as pd\n",
    "import numpy as np\n",
    "import matplotlib.pyplot as plt\n",
    "from collections import Counter\n",
    "import datetime\n",
    "import statistics\n",
    "import seaborn as sns\n",
    "from matplotlib import cycler"
   ]
  },
  {
   "cell_type": "markdown",
   "id": "33ba28a1",
   "metadata": {},
   "source": [
    "### Data Analysis Checklist:\n",
    "- Check the data type whether it is matched with each attribute or not.\n",
    "- Check the null values and the duplicate values.\n",
    "- Check the outlier values.\n",
    "- Check univariate and multivariate correlations."
   ]
  },
  {
   "cell_type": "markdown",
   "id": "8877f83a",
   "metadata": {},
   "source": [
    "### Questions about data set:\n",
    "- Did you clearly understand the attributes in your data sets?\n",
    "- Have you considered whether the question can be answered with the available data?"
   ]
  },
  {
   "cell_type": "markdown",
   "id": "d731a122",
   "metadata": {},
   "source": [
    "### Data preprocessing:\n",
    "#### Read data from file:"
   ]
  },
  {
   "cell_type": "code",
   "execution_count": 3,
   "id": "205da3c1",
   "metadata": {},
   "outputs": [
    {
     "name": "stdout",
     "output_type": "stream",
     "text": [
      "Number of Rows:  62642\n",
      "Number of Columns:  29\n"
     ]
    },
    {
     "data": {
      "text/html": [
       "<div>\n",
       "<style scoped>\n",
       "    .dataframe tbody tr th:only-of-type {\n",
       "        vertical-align: middle;\n",
       "    }\n",
       "\n",
       "    .dataframe tbody tr th {\n",
       "        vertical-align: top;\n",
       "    }\n",
       "\n",
       "    .dataframe thead th {\n",
       "        text-align: right;\n",
       "    }\n",
       "</style>\n",
       "<table border=\"1\" class=\"dataframe\">\n",
       "  <thead>\n",
       "    <tr style=\"text-align: right;\">\n",
       "      <th></th>\n",
       "      <th>timestamp</th>\n",
       "      <th>company</th>\n",
       "      <th>level</th>\n",
       "      <th>title</th>\n",
       "      <th>totalyearlycompensation</th>\n",
       "      <th>location</th>\n",
       "      <th>yearsofexperience</th>\n",
       "      <th>yearsatcompany</th>\n",
       "      <th>tag</th>\n",
       "      <th>basesalary</th>\n",
       "      <th>...</th>\n",
       "      <th>Doctorate_Degree</th>\n",
       "      <th>Highschool</th>\n",
       "      <th>Some_College</th>\n",
       "      <th>Race_Asian</th>\n",
       "      <th>Race_White</th>\n",
       "      <th>Race_Two_Or_More</th>\n",
       "      <th>Race_Black</th>\n",
       "      <th>Race_Hispanic</th>\n",
       "      <th>Race</th>\n",
       "      <th>Education</th>\n",
       "    </tr>\n",
       "  </thead>\n",
       "  <tbody>\n",
       "    <tr>\n",
       "      <th>0</th>\n",
       "      <td>6/7/2017 11:33:27</td>\n",
       "      <td>Oracle</td>\n",
       "      <td>L3</td>\n",
       "      <td>Product Manager</td>\n",
       "      <td>127000</td>\n",
       "      <td>Redwood City, CA</td>\n",
       "      <td>1.5</td>\n",
       "      <td>1.5</td>\n",
       "      <td>NaN</td>\n",
       "      <td>107000.0</td>\n",
       "      <td>...</td>\n",
       "      <td>0</td>\n",
       "      <td>0</td>\n",
       "      <td>0</td>\n",
       "      <td>0</td>\n",
       "      <td>0</td>\n",
       "      <td>0</td>\n",
       "      <td>0</td>\n",
       "      <td>0</td>\n",
       "      <td>NaN</td>\n",
       "      <td>NaN</td>\n",
       "    </tr>\n",
       "    <tr>\n",
       "      <th>1</th>\n",
       "      <td>6/10/2017 17:11:29</td>\n",
       "      <td>eBay</td>\n",
       "      <td>SE 2</td>\n",
       "      <td>Software Engineer</td>\n",
       "      <td>100000</td>\n",
       "      <td>San Francisco, CA</td>\n",
       "      <td>5.0</td>\n",
       "      <td>3.0</td>\n",
       "      <td>NaN</td>\n",
       "      <td>0.0</td>\n",
       "      <td>...</td>\n",
       "      <td>0</td>\n",
       "      <td>0</td>\n",
       "      <td>0</td>\n",
       "      <td>0</td>\n",
       "      <td>0</td>\n",
       "      <td>0</td>\n",
       "      <td>0</td>\n",
       "      <td>0</td>\n",
       "      <td>NaN</td>\n",
       "      <td>NaN</td>\n",
       "    </tr>\n",
       "    <tr>\n",
       "      <th>2</th>\n",
       "      <td>6/11/2017 14:53:57</td>\n",
       "      <td>Amazon</td>\n",
       "      <td>L7</td>\n",
       "      <td>Product Manager</td>\n",
       "      <td>310000</td>\n",
       "      <td>Seattle, WA</td>\n",
       "      <td>8.0</td>\n",
       "      <td>0.0</td>\n",
       "      <td>NaN</td>\n",
       "      <td>155000.0</td>\n",
       "      <td>...</td>\n",
       "      <td>0</td>\n",
       "      <td>0</td>\n",
       "      <td>0</td>\n",
       "      <td>0</td>\n",
       "      <td>0</td>\n",
       "      <td>0</td>\n",
       "      <td>0</td>\n",
       "      <td>0</td>\n",
       "      <td>NaN</td>\n",
       "      <td>NaN</td>\n",
       "    </tr>\n",
       "    <tr>\n",
       "      <th>3</th>\n",
       "      <td>6/17/2017 0:23:14</td>\n",
       "      <td>Apple</td>\n",
       "      <td>M1</td>\n",
       "      <td>Software Engineering Manager</td>\n",
       "      <td>372000</td>\n",
       "      <td>Sunnyvale, CA</td>\n",
       "      <td>7.0</td>\n",
       "      <td>5.0</td>\n",
       "      <td>NaN</td>\n",
       "      <td>157000.0</td>\n",
       "      <td>...</td>\n",
       "      <td>0</td>\n",
       "      <td>0</td>\n",
       "      <td>0</td>\n",
       "      <td>0</td>\n",
       "      <td>0</td>\n",
       "      <td>0</td>\n",
       "      <td>0</td>\n",
       "      <td>0</td>\n",
       "      <td>NaN</td>\n",
       "      <td>NaN</td>\n",
       "    </tr>\n",
       "    <tr>\n",
       "      <th>4</th>\n",
       "      <td>6/20/2017 10:58:51</td>\n",
       "      <td>Microsoft</td>\n",
       "      <td>60</td>\n",
       "      <td>Software Engineer</td>\n",
       "      <td>157000</td>\n",
       "      <td>Mountain View, CA</td>\n",
       "      <td>5.0</td>\n",
       "      <td>3.0</td>\n",
       "      <td>NaN</td>\n",
       "      <td>0.0</td>\n",
       "      <td>...</td>\n",
       "      <td>0</td>\n",
       "      <td>0</td>\n",
       "      <td>0</td>\n",
       "      <td>0</td>\n",
       "      <td>0</td>\n",
       "      <td>0</td>\n",
       "      <td>0</td>\n",
       "      <td>0</td>\n",
       "      <td>NaN</td>\n",
       "      <td>NaN</td>\n",
       "    </tr>\n",
       "  </tbody>\n",
       "</table>\n",
       "<p>5 rows × 29 columns</p>\n",
       "</div>"
      ],
      "text/plain": [
       "            timestamp    company level                         title  \\\n",
       "0   6/7/2017 11:33:27     Oracle    L3               Product Manager   \n",
       "1  6/10/2017 17:11:29       eBay  SE 2             Software Engineer   \n",
       "2  6/11/2017 14:53:57     Amazon    L7               Product Manager   \n",
       "3   6/17/2017 0:23:14      Apple    M1  Software Engineering Manager   \n",
       "4  6/20/2017 10:58:51  Microsoft    60             Software Engineer   \n",
       "\n",
       "   totalyearlycompensation           location  yearsofexperience  \\\n",
       "0                   127000   Redwood City, CA                1.5   \n",
       "1                   100000  San Francisco, CA                5.0   \n",
       "2                   310000        Seattle, WA                8.0   \n",
       "3                   372000      Sunnyvale, CA                7.0   \n",
       "4                   157000  Mountain View, CA                5.0   \n",
       "\n",
       "   yearsatcompany  tag  basesalary  ...  Doctorate_Degree  Highschool  \\\n",
       "0             1.5  NaN    107000.0  ...                 0           0   \n",
       "1             3.0  NaN         0.0  ...                 0           0   \n",
       "2             0.0  NaN    155000.0  ...                 0           0   \n",
       "3             5.0  NaN    157000.0  ...                 0           0   \n",
       "4             3.0  NaN         0.0  ...                 0           0   \n",
       "\n",
       "  Some_College Race_Asian  Race_White  Race_Two_Or_More  Race_Black  \\\n",
       "0            0          0           0                 0           0   \n",
       "1            0          0           0                 0           0   \n",
       "2            0          0           0                 0           0   \n",
       "3            0          0           0                 0           0   \n",
       "4            0          0           0                 0           0   \n",
       "\n",
       "   Race_Hispanic  Race  Education  \n",
       "0              0   NaN        NaN  \n",
       "1              0   NaN        NaN  \n",
       "2              0   NaN        NaN  \n",
       "3              0   NaN        NaN  \n",
       "4              0   NaN        NaN  \n",
       "\n",
       "[5 rows x 29 columns]"
      ]
     },
     "execution_count": 3,
     "metadata": {},
     "output_type": "execute_result"
    }
   ],
   "source": [
    "salary_df = pd.read_csv('Levels_Fyi_Salary_Data.csv')\n",
    "rows, cols = salary_df.shape\n",
    "print('Number of Rows: ', rows)\n",
    "print('Number of Columns: ', cols)\n",
    "salary_df.head()"
   ]
  },
  {
   "cell_type": "markdown",
   "id": "99b15d6c",
   "metadata": {},
   "source": [
    "# Content of each column"
   ]
  },
  {
   "cell_type": "code",
   "execution_count": 4,
   "id": "f26b095b",
   "metadata": {},
   "outputs": [
    {
     "data": {
      "text/plain": [
       "Index(['timestamp', 'company', 'level', 'title', 'totalyearlycompensation',\n",
       "       'location', 'yearsofexperience', 'yearsatcompany', 'tag', 'basesalary',\n",
       "       'stockgrantvalue', 'bonus', 'gender', 'otherdetails', 'cityid', 'dmaid',\n",
       "       'rowNumber', 'Masters_Degree', 'Bachelors_Degree', 'Doctorate_Degree',\n",
       "       'Highschool', 'Some_College', 'Race_Asian', 'Race_White',\n",
       "       'Race_Two_Or_More', 'Race_Black', 'Race_Hispanic', 'Race', 'Education'],\n",
       "      dtype='object')"
      ]
     },
     "execution_count": 4,
     "metadata": {},
     "output_type": "execute_result"
    }
   ],
   "source": [
    "salary_df.columns"
   ]
  },
  {
   "cell_type": "markdown",
   "id": "6996082a",
   "metadata": {},
   "source": [
    "# Definition of each column:"
   ]
  },
  {
   "cell_type": "markdown",
   "id": "e9a13bc6",
   "metadata": {},
   "source": [
    "|Order|Name of column|Meaning|\n",
    "|-----|--------------|-------|\n",
    "|1|timestamp|Date and time that information was recorded|\n",
    "|2|company|Name of woring company|\n",
    "|3|level|Level in working job|\n",
    "|4|title|Job position|\n",
    "|5|totalyearlycompensation|The final salary received each year($)|\n",
    "|6|location|Working place|\n",
    "|7|yearsofexperience|Number of experience years|\n",
    "|8|yearsatcompany|Number of years working for that company|\n",
    "|9|tag|Type of work|\n",
    "|10|basesalary|The raw salary|\n",
    "|11|stockgrantvalue|Rewarded value by stock|\n",
    "|12|bonus|Rewarded money|\n",
    "|13|gender|Male or female|\n",
    "|14|otherdetails|More description about the job|\n",
    "|15|cityid|ID of the city|\n",
    "|16|dmaid|Designated Market Area ID|\n",
    "|17|rowNumber|Number of rows|\n",
    "|18|Masters_Degree|Have Master Degree or not|\n",
    "|19|Bachelors_Degree|Have Bachelors Degree or not|\n",
    "|20|Doctorate_Degree|Have Doctorate Degree or not|\n",
    "|21|Highschool|Graduated High School or not|\n",
    "|22|Some_College|Studied in any college or not|\n",
    "|23|Race_Asian|Asian|\n",
    "|24|Race_White|Citizens who have white race|\n",
    "|25|Race_Two_Or_More|Have 2 or more races|\n",
    "|26|Race_Black|Citizens who have black race|\n",
    "|27|Race_Hispanic|American with the root of Latinos or Spanish|\n",
    "|28|Race|Nation ethnic|\n",
    "|29|Education|Level of education|\n",
    "\n",
    "\n"
   ]
  },
  {
   "cell_type": "markdown",
   "id": "beba2d6c",
   "metadata": {},
   "source": [
    "# Does the data have duplicated rows?"
   ]
  },
  {
   "cell_type": "code",
   "execution_count": 5,
   "id": "e85a9d3e",
   "metadata": {},
   "outputs": [
    {
     "name": "stdout",
     "output_type": "stream",
     "text": [
      "Number of Duplicated rows:  0\n"
     ]
    }
   ],
   "source": [
    "salary_dup = salary_df.duplicated().sum()\n",
    "print('Number of Duplicated rows: ', salary_dup)"
   ]
  },
  {
   "cell_type": "markdown",
   "id": "c91079b4",
   "metadata": {},
   "source": [
    "As we can see that no row is duplicated, let's find our another things"
   ]
  },
  {
   "cell_type": "markdown",
   "id": "58cd0d60",
   "metadata": {},
   "source": [
    "# Is there any redundant or unnecessary column data?\n"
   ]
  },
  {
   "attachments": {},
   "cell_type": "markdown",
   "id": "8ee979fe",
   "metadata": {},
   "source": [
    "As we can see, 'level', 'cityid', 'dmaid', 'rowNumber', 'Race_Asian', 'Race_White', 'Race_Two_Or_More', 'Race_Black', 'Race_Hispanic' are redudant through our analyse, because:\n",
    "- **'level'** has various different value because each company has their own definition of **'level'**, so that we only need to keep the **'title'** column and delete the 'level' column. \n",
    "- **'cityid', 'dmaid'** is only location code, we do not need them, we can use **'loction'**.\n",
    "- **'rowNumber'** column just tells us the order of each row, it is not neccessary for us.\n",
    "- **'Race_Asian', 'Race_White', 'Race_Two_Or_More', 'Race_Black', 'Race_Hispanic'** is general included in **'Race'** column, so it is quite redundant."
   ]
  },
  {
   "cell_type": "markdown",
   "id": "305ef86f",
   "metadata": {},
   "source": [
    "## Therefore, we are going to delete those redundant and unnecessary columns:"
   ]
  },
  {
   "cell_type": "code",
   "execution_count": 6,
   "id": "61b27f0c",
   "metadata": {},
   "outputs": [
    {
     "data": {
      "text/html": [
       "<div>\n",
       "<style scoped>\n",
       "    .dataframe tbody tr th:only-of-type {\n",
       "        vertical-align: middle;\n",
       "    }\n",
       "\n",
       "    .dataframe tbody tr th {\n",
       "        vertical-align: top;\n",
       "    }\n",
       "\n",
       "    .dataframe thead th {\n",
       "        text-align: right;\n",
       "    }\n",
       "</style>\n",
       "<table border=\"1\" class=\"dataframe\">\n",
       "  <thead>\n",
       "    <tr style=\"text-align: right;\">\n",
       "      <th></th>\n",
       "      <th>timestamp</th>\n",
       "      <th>company</th>\n",
       "      <th>title</th>\n",
       "      <th>totalyearlycompensation</th>\n",
       "      <th>location</th>\n",
       "      <th>yearsofexperience</th>\n",
       "      <th>yearsatcompany</th>\n",
       "      <th>tag</th>\n",
       "      <th>basesalary</th>\n",
       "      <th>stockgrantvalue</th>\n",
       "      <th>bonus</th>\n",
       "      <th>gender</th>\n",
       "      <th>otherdetails</th>\n",
       "      <th>Masters_Degree</th>\n",
       "      <th>Bachelors_Degree</th>\n",
       "      <th>Doctorate_Degree</th>\n",
       "      <th>Highschool</th>\n",
       "      <th>Some_College</th>\n",
       "      <th>Race</th>\n",
       "      <th>Education</th>\n",
       "    </tr>\n",
       "  </thead>\n",
       "  <tbody>\n",
       "    <tr>\n",
       "      <th>0</th>\n",
       "      <td>6/7/2017 11:33:27</td>\n",
       "      <td>Oracle</td>\n",
       "      <td>Product Manager</td>\n",
       "      <td>127000</td>\n",
       "      <td>Redwood City, CA</td>\n",
       "      <td>1.5</td>\n",
       "      <td>1.5</td>\n",
       "      <td>NaN</td>\n",
       "      <td>107000.0</td>\n",
       "      <td>20000.0</td>\n",
       "      <td>10000.0</td>\n",
       "      <td>NaN</td>\n",
       "      <td>NaN</td>\n",
       "      <td>0</td>\n",
       "      <td>0</td>\n",
       "      <td>0</td>\n",
       "      <td>0</td>\n",
       "      <td>0</td>\n",
       "      <td>NaN</td>\n",
       "      <td>NaN</td>\n",
       "    </tr>\n",
       "    <tr>\n",
       "      <th>1</th>\n",
       "      <td>6/10/2017 17:11:29</td>\n",
       "      <td>eBay</td>\n",
       "      <td>Software Engineer</td>\n",
       "      <td>100000</td>\n",
       "      <td>San Francisco, CA</td>\n",
       "      <td>5.0</td>\n",
       "      <td>3.0</td>\n",
       "      <td>NaN</td>\n",
       "      <td>0.0</td>\n",
       "      <td>0.0</td>\n",
       "      <td>0.0</td>\n",
       "      <td>NaN</td>\n",
       "      <td>NaN</td>\n",
       "      <td>0</td>\n",
       "      <td>0</td>\n",
       "      <td>0</td>\n",
       "      <td>0</td>\n",
       "      <td>0</td>\n",
       "      <td>NaN</td>\n",
       "      <td>NaN</td>\n",
       "    </tr>\n",
       "    <tr>\n",
       "      <th>2</th>\n",
       "      <td>6/11/2017 14:53:57</td>\n",
       "      <td>Amazon</td>\n",
       "      <td>Product Manager</td>\n",
       "      <td>310000</td>\n",
       "      <td>Seattle, WA</td>\n",
       "      <td>8.0</td>\n",
       "      <td>0.0</td>\n",
       "      <td>NaN</td>\n",
       "      <td>155000.0</td>\n",
       "      <td>0.0</td>\n",
       "      <td>0.0</td>\n",
       "      <td>NaN</td>\n",
       "      <td>NaN</td>\n",
       "      <td>0</td>\n",
       "      <td>0</td>\n",
       "      <td>0</td>\n",
       "      <td>0</td>\n",
       "      <td>0</td>\n",
       "      <td>NaN</td>\n",
       "      <td>NaN</td>\n",
       "    </tr>\n",
       "    <tr>\n",
       "      <th>3</th>\n",
       "      <td>6/17/2017 0:23:14</td>\n",
       "      <td>Apple</td>\n",
       "      <td>Software Engineering Manager</td>\n",
       "      <td>372000</td>\n",
       "      <td>Sunnyvale, CA</td>\n",
       "      <td>7.0</td>\n",
       "      <td>5.0</td>\n",
       "      <td>NaN</td>\n",
       "      <td>157000.0</td>\n",
       "      <td>180000.0</td>\n",
       "      <td>35000.0</td>\n",
       "      <td>NaN</td>\n",
       "      <td>NaN</td>\n",
       "      <td>0</td>\n",
       "      <td>0</td>\n",
       "      <td>0</td>\n",
       "      <td>0</td>\n",
       "      <td>0</td>\n",
       "      <td>NaN</td>\n",
       "      <td>NaN</td>\n",
       "    </tr>\n",
       "    <tr>\n",
       "      <th>4</th>\n",
       "      <td>6/20/2017 10:58:51</td>\n",
       "      <td>Microsoft</td>\n",
       "      <td>Software Engineer</td>\n",
       "      <td>157000</td>\n",
       "      <td>Mountain View, CA</td>\n",
       "      <td>5.0</td>\n",
       "      <td>3.0</td>\n",
       "      <td>NaN</td>\n",
       "      <td>0.0</td>\n",
       "      <td>0.0</td>\n",
       "      <td>0.0</td>\n",
       "      <td>NaN</td>\n",
       "      <td>NaN</td>\n",
       "      <td>0</td>\n",
       "      <td>0</td>\n",
       "      <td>0</td>\n",
       "      <td>0</td>\n",
       "      <td>0</td>\n",
       "      <td>NaN</td>\n",
       "      <td>NaN</td>\n",
       "    </tr>\n",
       "  </tbody>\n",
       "</table>\n",
       "</div>"
      ],
      "text/plain": [
       "            timestamp    company                         title  \\\n",
       "0   6/7/2017 11:33:27     Oracle               Product Manager   \n",
       "1  6/10/2017 17:11:29       eBay             Software Engineer   \n",
       "2  6/11/2017 14:53:57     Amazon               Product Manager   \n",
       "3   6/17/2017 0:23:14      Apple  Software Engineering Manager   \n",
       "4  6/20/2017 10:58:51  Microsoft             Software Engineer   \n",
       "\n",
       "   totalyearlycompensation           location  yearsofexperience  \\\n",
       "0                   127000   Redwood City, CA                1.5   \n",
       "1                   100000  San Francisco, CA                5.0   \n",
       "2                   310000        Seattle, WA                8.0   \n",
       "3                   372000      Sunnyvale, CA                7.0   \n",
       "4                   157000  Mountain View, CA                5.0   \n",
       "\n",
       "   yearsatcompany  tag  basesalary  stockgrantvalue    bonus gender  \\\n",
       "0             1.5  NaN    107000.0          20000.0  10000.0    NaN   \n",
       "1             3.0  NaN         0.0              0.0      0.0    NaN   \n",
       "2             0.0  NaN    155000.0              0.0      0.0    NaN   \n",
       "3             5.0  NaN    157000.0         180000.0  35000.0    NaN   \n",
       "4             3.0  NaN         0.0              0.0      0.0    NaN   \n",
       "\n",
       "  otherdetails  Masters_Degree  Bachelors_Degree  Doctorate_Degree  \\\n",
       "0          NaN               0                 0                 0   \n",
       "1          NaN               0                 0                 0   \n",
       "2          NaN               0                 0                 0   \n",
       "3          NaN               0                 0                 0   \n",
       "4          NaN               0                 0                 0   \n",
       "\n",
       "   Highschool  Some_College Race Education  \n",
       "0           0             0  NaN       NaN  \n",
       "1           0             0  NaN       NaN  \n",
       "2           0             0  NaN       NaN  \n",
       "3           0             0  NaN       NaN  \n",
       "4           0             0  NaN       NaN  "
      ]
     },
     "execution_count": 6,
     "metadata": {},
     "output_type": "execute_result"
    }
   ],
   "source": [
    "drop_cols = [\"level\", \"cityid\", \"dmaid\", 'rowNumber', \"Race_Asian\", \"Race_White\", \"Race_Two_Or_More\", \"Race_Black\", \"Race_Hispanic\" ]\n",
    "salary_df.drop(drop_cols, axis=1, inplace=True)\n",
    "salary_df.head()"
   ]
  },
  {
   "cell_type": "markdown",
   "id": "3488ba1b",
   "metadata": {},
   "source": [
    "**Let's check again the data:**"
   ]
  },
  {
   "cell_type": "code",
   "execution_count": 7,
   "id": "d6fd5039",
   "metadata": {},
   "outputs": [
    {
     "name": "stdout",
     "output_type": "stream",
     "text": [
      "Number of Rows:  62642\n",
      "Number of Columns:  20\n"
     ]
    },
    {
     "data": {
      "text/html": [
       "<div>\n",
       "<style scoped>\n",
       "    .dataframe tbody tr th:only-of-type {\n",
       "        vertical-align: middle;\n",
       "    }\n",
       "\n",
       "    .dataframe tbody tr th {\n",
       "        vertical-align: top;\n",
       "    }\n",
       "\n",
       "    .dataframe thead th {\n",
       "        text-align: right;\n",
       "    }\n",
       "</style>\n",
       "<table border=\"1\" class=\"dataframe\">\n",
       "  <thead>\n",
       "    <tr style=\"text-align: right;\">\n",
       "      <th></th>\n",
       "      <th>timestamp</th>\n",
       "      <th>company</th>\n",
       "      <th>title</th>\n",
       "      <th>totalyearlycompensation</th>\n",
       "      <th>location</th>\n",
       "      <th>yearsofexperience</th>\n",
       "      <th>yearsatcompany</th>\n",
       "      <th>tag</th>\n",
       "      <th>basesalary</th>\n",
       "      <th>stockgrantvalue</th>\n",
       "      <th>bonus</th>\n",
       "      <th>gender</th>\n",
       "      <th>otherdetails</th>\n",
       "      <th>Masters_Degree</th>\n",
       "      <th>Bachelors_Degree</th>\n",
       "      <th>Doctorate_Degree</th>\n",
       "      <th>Highschool</th>\n",
       "      <th>Some_College</th>\n",
       "      <th>Race</th>\n",
       "      <th>Education</th>\n",
       "    </tr>\n",
       "  </thead>\n",
       "  <tbody>\n",
       "    <tr>\n",
       "      <th>0</th>\n",
       "      <td>6/7/2017 11:33:27</td>\n",
       "      <td>Oracle</td>\n",
       "      <td>Product Manager</td>\n",
       "      <td>127000</td>\n",
       "      <td>Redwood City, CA</td>\n",
       "      <td>1.5</td>\n",
       "      <td>1.5</td>\n",
       "      <td>NaN</td>\n",
       "      <td>107000.0</td>\n",
       "      <td>20000.0</td>\n",
       "      <td>10000.0</td>\n",
       "      <td>NaN</td>\n",
       "      <td>NaN</td>\n",
       "      <td>0</td>\n",
       "      <td>0</td>\n",
       "      <td>0</td>\n",
       "      <td>0</td>\n",
       "      <td>0</td>\n",
       "      <td>NaN</td>\n",
       "      <td>NaN</td>\n",
       "    </tr>\n",
       "    <tr>\n",
       "      <th>1</th>\n",
       "      <td>6/10/2017 17:11:29</td>\n",
       "      <td>eBay</td>\n",
       "      <td>Software Engineer</td>\n",
       "      <td>100000</td>\n",
       "      <td>San Francisco, CA</td>\n",
       "      <td>5.0</td>\n",
       "      <td>3.0</td>\n",
       "      <td>NaN</td>\n",
       "      <td>0.0</td>\n",
       "      <td>0.0</td>\n",
       "      <td>0.0</td>\n",
       "      <td>NaN</td>\n",
       "      <td>NaN</td>\n",
       "      <td>0</td>\n",
       "      <td>0</td>\n",
       "      <td>0</td>\n",
       "      <td>0</td>\n",
       "      <td>0</td>\n",
       "      <td>NaN</td>\n",
       "      <td>NaN</td>\n",
       "    </tr>\n",
       "    <tr>\n",
       "      <th>2</th>\n",
       "      <td>6/11/2017 14:53:57</td>\n",
       "      <td>Amazon</td>\n",
       "      <td>Product Manager</td>\n",
       "      <td>310000</td>\n",
       "      <td>Seattle, WA</td>\n",
       "      <td>8.0</td>\n",
       "      <td>0.0</td>\n",
       "      <td>NaN</td>\n",
       "      <td>155000.0</td>\n",
       "      <td>0.0</td>\n",
       "      <td>0.0</td>\n",
       "      <td>NaN</td>\n",
       "      <td>NaN</td>\n",
       "      <td>0</td>\n",
       "      <td>0</td>\n",
       "      <td>0</td>\n",
       "      <td>0</td>\n",
       "      <td>0</td>\n",
       "      <td>NaN</td>\n",
       "      <td>NaN</td>\n",
       "    </tr>\n",
       "    <tr>\n",
       "      <th>3</th>\n",
       "      <td>6/17/2017 0:23:14</td>\n",
       "      <td>Apple</td>\n",
       "      <td>Software Engineering Manager</td>\n",
       "      <td>372000</td>\n",
       "      <td>Sunnyvale, CA</td>\n",
       "      <td>7.0</td>\n",
       "      <td>5.0</td>\n",
       "      <td>NaN</td>\n",
       "      <td>157000.0</td>\n",
       "      <td>180000.0</td>\n",
       "      <td>35000.0</td>\n",
       "      <td>NaN</td>\n",
       "      <td>NaN</td>\n",
       "      <td>0</td>\n",
       "      <td>0</td>\n",
       "      <td>0</td>\n",
       "      <td>0</td>\n",
       "      <td>0</td>\n",
       "      <td>NaN</td>\n",
       "      <td>NaN</td>\n",
       "    </tr>\n",
       "    <tr>\n",
       "      <th>4</th>\n",
       "      <td>6/20/2017 10:58:51</td>\n",
       "      <td>Microsoft</td>\n",
       "      <td>Software Engineer</td>\n",
       "      <td>157000</td>\n",
       "      <td>Mountain View, CA</td>\n",
       "      <td>5.0</td>\n",
       "      <td>3.0</td>\n",
       "      <td>NaN</td>\n",
       "      <td>0.0</td>\n",
       "      <td>0.0</td>\n",
       "      <td>0.0</td>\n",
       "      <td>NaN</td>\n",
       "      <td>NaN</td>\n",
       "      <td>0</td>\n",
       "      <td>0</td>\n",
       "      <td>0</td>\n",
       "      <td>0</td>\n",
       "      <td>0</td>\n",
       "      <td>NaN</td>\n",
       "      <td>NaN</td>\n",
       "    </tr>\n",
       "  </tbody>\n",
       "</table>\n",
       "</div>"
      ],
      "text/plain": [
       "            timestamp    company                         title  \\\n",
       "0   6/7/2017 11:33:27     Oracle               Product Manager   \n",
       "1  6/10/2017 17:11:29       eBay             Software Engineer   \n",
       "2  6/11/2017 14:53:57     Amazon               Product Manager   \n",
       "3   6/17/2017 0:23:14      Apple  Software Engineering Manager   \n",
       "4  6/20/2017 10:58:51  Microsoft             Software Engineer   \n",
       "\n",
       "   totalyearlycompensation           location  yearsofexperience  \\\n",
       "0                   127000   Redwood City, CA                1.5   \n",
       "1                   100000  San Francisco, CA                5.0   \n",
       "2                   310000        Seattle, WA                8.0   \n",
       "3                   372000      Sunnyvale, CA                7.0   \n",
       "4                   157000  Mountain View, CA                5.0   \n",
       "\n",
       "   yearsatcompany  tag  basesalary  stockgrantvalue    bonus gender  \\\n",
       "0             1.5  NaN    107000.0          20000.0  10000.0    NaN   \n",
       "1             3.0  NaN         0.0              0.0      0.0    NaN   \n",
       "2             0.0  NaN    155000.0              0.0      0.0    NaN   \n",
       "3             5.0  NaN    157000.0         180000.0  35000.0    NaN   \n",
       "4             3.0  NaN         0.0              0.0      0.0    NaN   \n",
       "\n",
       "  otherdetails  Masters_Degree  Bachelors_Degree  Doctorate_Degree  \\\n",
       "0          NaN               0                 0                 0   \n",
       "1          NaN               0                 0                 0   \n",
       "2          NaN               0                 0                 0   \n",
       "3          NaN               0                 0                 0   \n",
       "4          NaN               0                 0                 0   \n",
       "\n",
       "   Highschool  Some_College Race Education  \n",
       "0           0             0  NaN       NaN  \n",
       "1           0             0  NaN       NaN  \n",
       "2           0             0  NaN       NaN  \n",
       "3           0             0  NaN       NaN  \n",
       "4           0             0  NaN       NaN  "
      ]
     },
     "execution_count": 7,
     "metadata": {},
     "output_type": "execute_result"
    }
   ],
   "source": [
    "rows, cols = salary_df.shape\n",
    "print('Number of Rows: ', rows)\n",
    "print('Number of Columns: ', cols)\n",
    "salary_df.head()"
   ]
  },
  {
   "cell_type": "markdown",
   "id": "4681d483",
   "metadata": {},
   "source": [
    "Ok, it is better than before, let's explore more!!!"
   ]
  },
  {
   "cell_type": "markdown",
   "id": "52861e7f",
   "metadata": {},
   "source": [
    "---"
   ]
  },
  {
   "cell_type": "markdown",
   "id": "775b0fdb",
   "metadata": {},
   "source": [
    "# Initial Datatypes of Salary DataFrames"
   ]
  },
  {
   "cell_type": "code",
   "execution_count": 8,
   "id": "caabc64b",
   "metadata": {
    "scrolled": false
   },
   "outputs": [
    {
     "data": {
      "text/plain": [
       "timestamp                   object\n",
       "company                     object\n",
       "title                       object\n",
       "totalyearlycompensation      int64\n",
       "location                    object\n",
       "yearsofexperience          float64\n",
       "yearsatcompany             float64\n",
       "tag                         object\n",
       "basesalary                 float64\n",
       "stockgrantvalue            float64\n",
       "bonus                      float64\n",
       "gender                      object\n",
       "otherdetails                object\n",
       "Masters_Degree               int64\n",
       "Bachelors_Degree             int64\n",
       "Doctorate_Degree             int64\n",
       "Highschool                   int64\n",
       "Some_College                 int64\n",
       "Race                        object\n",
       "Education                   object\n",
       "dtype: object"
      ]
     },
     "execution_count": 8,
     "metadata": {},
     "output_type": "execute_result"
    }
   ],
   "source": [
    "salary_df.dtypes"
   ]
  },
  {
   "cell_type": "markdown",
   "id": "5df983a6",
   "metadata": {},
   "source": [
    "- *timestamp changes from object to datetime*\n",
    "- *All the object type change to string*"
   ]
  },
  {
   "cell_type": "markdown",
   "id": "5b7801fe",
   "metadata": {},
   "source": [
    "---"
   ]
  },
  {
   "cell_type": "markdown",
   "id": "60f9888d",
   "metadata": {},
   "source": [
    "# Preprocessing"
   ]
  },
  {
   "cell_type": "markdown",
   "id": "0e0f9c94",
   "metadata": {},
   "source": [
    "**1. timestamp changes from object to datetime**"
   ]
  },
  {
   "cell_type": "code",
   "execution_count": 9,
   "id": "74e38b1b",
   "metadata": {},
   "outputs": [],
   "source": [
    "# date changes from object to datetime\n",
    "salary_df['timestamp'] = pd.to_datetime(salary_df['timestamp'], infer_datetime_format = True)"
   ]
  },
  {
   "cell_type": "markdown",
   "id": "b97d168c",
   "metadata": {},
   "source": [
    "**2. company, title, location, tag, gender, otherdetails, Race, Education change from object to string**"
   ]
  },
  {
   "cell_type": "code",
   "execution_count": 10,
   "id": "6ada560f",
   "metadata": {},
   "outputs": [],
   "source": [
    "# company, title, location, tag, gender, otherdetails, Race, Education change from object to string\n",
    "salary_df['company'] = salary_df['company'].astype('string')\n",
    "salary_df['title'] = salary_df['title'].astype('string')\n",
    "salary_df['location'] = salary_df['location'].astype('string')\n",
    "salary_df['tag'] = salary_df['tag'].astype('string')\n",
    "salary_df['gender'] = salary_df['gender'].astype('string')\n",
    "salary_df['otherdetails'] = salary_df['otherdetails'].astype('string')\n",
    "salary_df['Race'] = salary_df['Race'].astype('string')\n",
    "salary_df['Education'] = salary_df['Education'].astype('string')\n"
   ]
  },
  {
   "cell_type": "code",
   "execution_count": 11,
   "id": "ce05ae79",
   "metadata": {},
   "outputs": [
    {
     "data": {
      "text/plain": [
       "timestamp                  datetime64[ns]\n",
       "company                            string\n",
       "title                              string\n",
       "totalyearlycompensation             int64\n",
       "location                           string\n",
       "yearsofexperience                 float64\n",
       "yearsatcompany                    float64\n",
       "tag                                string\n",
       "basesalary                        float64\n",
       "stockgrantvalue                   float64\n",
       "bonus                             float64\n",
       "gender                             string\n",
       "otherdetails                       string\n",
       "Masters_Degree                      int64\n",
       "Bachelors_Degree                    int64\n",
       "Doctorate_Degree                    int64\n",
       "Highschool                          int64\n",
       "Some_College                        int64\n",
       "Race                               string\n",
       "Education                          string\n",
       "dtype: object"
      ]
     },
     "execution_count": 11,
     "metadata": {},
     "output_type": "execute_result"
    }
   ],
   "source": [
    "salary_df.dtypes"
   ]
  },
  {
   "cell_type": "markdown",
   "id": "0960b675",
   "metadata": {},
   "source": [
    "Before finding out something new, we should seperate the column in 2 types: numerical and categorical\n",
    "\n",
    "**Numerical column:**\n",
    "- timestamp\n",
    "- totalyearlycompensation\n",
    "- yearsofexperience\n",
    "- yearsatcompany\n",
    "- basesalary\n",
    "- stockgrantvalue\n",
    "- bonus\n",
    "\n",
    "**Categorical column:**\n",
    "- company\n",
    "- title\n",
    "- location\n",
    "- tag \n",
    "- gender\n",
    "- otherdetails\n",
    "- Masters_Degree\n",
    "- Bachelors_Degree\n",
    "- Doctorate_Degree\n",
    "- Highschool\n",
    "- Some_College\n",
    "- Race\n",
    "- Education"
   ]
  },
  {
   "cell_type": "markdown",
   "id": "42f32f82",
   "metadata": {},
   "source": [
    "Now we already preprocessed Data"
   ]
  },
  {
   "cell_type": "markdown",
   "id": "73eef845",
   "metadata": {},
   "source": [
    "---"
   ]
  },
  {
   "attachments": {},
   "cell_type": "markdown",
   "id": "4027154e",
   "metadata": {},
   "source": [
    "# Missing Data Percentage"
   ]
  },
  {
   "cell_type": "code",
   "execution_count": 12,
   "id": "6e632ad7",
   "metadata": {},
   "outputs": [
    {
     "data": {
      "text/plain": [
       "timestamp                   0.000000\n",
       "company                     0.007982\n",
       "title                       0.000000\n",
       "totalyearlycompensation     0.000000\n",
       "location                    0.000000\n",
       "yearsofexperience           0.000000\n",
       "yearsatcompany              0.000000\n",
       "tag                         1.363303\n",
       "basesalary                  0.000000\n",
       "stockgrantvalue             0.000000\n",
       "bonus                       0.000000\n",
       "gender                     31.193129\n",
       "otherdetails               35.926375\n",
       "Masters_Degree              0.000000\n",
       "Bachelors_Degree            0.000000\n",
       "Doctorate_Degree            0.000000\n",
       "Highschool                  0.000000\n",
       "Some_College                0.000000\n",
       "Race                       64.198142\n",
       "Education                  51.518151\n",
       "dtype: float64"
      ]
     },
     "execution_count": 12,
     "metadata": {},
     "output_type": "execute_result"
    }
   ],
   "source": [
    "missing_percentage = salary_df.isnull().sum() * 100 / len(salary_df)\n",
    "missing_percentage"
   ]
  },
  {
   "cell_type": "markdown",
   "id": "76af81ee",
   "metadata": {},
   "source": [
    "We have observed and decided that there are a little bit of data with NONE value.  \n",
    "There are just only total 8 times did not have the score, 12 times did not have the name of scorer and 96 times did not have the time of a match.  \n"
   ]
  },
  {
   "cell_type": "markdown",
   "id": "62ffe320",
   "metadata": {},
   "source": [
    "---"
   ]
  },
  {
   "attachments": {},
   "cell_type": "markdown",
   "id": "68b4faeb",
   "metadata": {},
   "source": [
    "# With each numerical column, how are values distributed?"
   ]
  },
  {
   "cell_type": "code",
   "execution_count": 13,
   "id": "d4c8fc28",
   "metadata": {},
   "outputs": [
    {
     "data": {
      "text/html": [
       "<div>\n",
       "<style scoped>\n",
       "    .dataframe tbody tr th:only-of-type {\n",
       "        vertical-align: middle;\n",
       "    }\n",
       "\n",
       "    .dataframe tbody tr th {\n",
       "        vertical-align: top;\n",
       "    }\n",
       "\n",
       "    .dataframe thead th {\n",
       "        text-align: right;\n",
       "    }\n",
       "</style>\n",
       "<table border=\"1\" class=\"dataframe\">\n",
       "  <thead>\n",
       "    <tr style=\"text-align: right;\">\n",
       "      <th></th>\n",
       "      <th>totalyearlycompensation</th>\n",
       "      <th>yearsofexperience</th>\n",
       "      <th>yearsatcompany</th>\n",
       "      <th>basesalary</th>\n",
       "      <th>stockgrantvalue</th>\n",
       "      <th>bonus</th>\n",
       "      <th>Masters_Degree</th>\n",
       "      <th>Bachelors_Degree</th>\n",
       "      <th>Doctorate_Degree</th>\n",
       "      <th>Highschool</th>\n",
       "      <th>Some_College</th>\n",
       "    </tr>\n",
       "  </thead>\n",
       "  <tbody>\n",
       "    <tr>\n",
       "      <th>count</th>\n",
       "      <td>6.264200e+04</td>\n",
       "      <td>62642.000000</td>\n",
       "      <td>62642.000000</td>\n",
       "      <td>6.264200e+04</td>\n",
       "      <td>6.264200e+04</td>\n",
       "      <td>62642.000000</td>\n",
       "      <td>62642.000000</td>\n",
       "      <td>62642.000000</td>\n",
       "      <td>62642.000000</td>\n",
       "      <td>62642.000000</td>\n",
       "      <td>62642.000000</td>\n",
       "    </tr>\n",
       "    <tr>\n",
       "      <th>mean</th>\n",
       "      <td>2.163004e+05</td>\n",
       "      <td>7.204135</td>\n",
       "      <td>2.702093</td>\n",
       "      <td>1.366873e+05</td>\n",
       "      <td>5.148608e+04</td>\n",
       "      <td>19334.746588</td>\n",
       "      <td>0.245698</td>\n",
       "      <td>0.201223</td>\n",
       "      <td>0.028783</td>\n",
       "      <td>0.005108</td>\n",
       "      <td>0.005667</td>\n",
       "    </tr>\n",
       "    <tr>\n",
       "      <th>std</th>\n",
       "      <td>1.380337e+05</td>\n",
       "      <td>5.840375</td>\n",
       "      <td>3.263656</td>\n",
       "      <td>6.136928e+04</td>\n",
       "      <td>8.187457e+04</td>\n",
       "      <td>26781.292040</td>\n",
       "      <td>0.430504</td>\n",
       "      <td>0.400917</td>\n",
       "      <td>0.167196</td>\n",
       "      <td>0.071291</td>\n",
       "      <td>0.075067</td>\n",
       "    </tr>\n",
       "    <tr>\n",
       "      <th>min</th>\n",
       "      <td>1.000000e+04</td>\n",
       "      <td>0.000000</td>\n",
       "      <td>0.000000</td>\n",
       "      <td>0.000000e+00</td>\n",
       "      <td>0.000000e+00</td>\n",
       "      <td>0.000000</td>\n",
       "      <td>0.000000</td>\n",
       "      <td>0.000000</td>\n",
       "      <td>0.000000</td>\n",
       "      <td>0.000000</td>\n",
       "      <td>0.000000</td>\n",
       "    </tr>\n",
       "    <tr>\n",
       "      <th>25%</th>\n",
       "      <td>1.350000e+05</td>\n",
       "      <td>3.000000</td>\n",
       "      <td>0.000000</td>\n",
       "      <td>1.080000e+05</td>\n",
       "      <td>0.000000e+00</td>\n",
       "      <td>1000.000000</td>\n",
       "      <td>0.000000</td>\n",
       "      <td>0.000000</td>\n",
       "      <td>0.000000</td>\n",
       "      <td>0.000000</td>\n",
       "      <td>0.000000</td>\n",
       "    </tr>\n",
       "    <tr>\n",
       "      <th>50%</th>\n",
       "      <td>1.880000e+05</td>\n",
       "      <td>6.000000</td>\n",
       "      <td>2.000000</td>\n",
       "      <td>1.400000e+05</td>\n",
       "      <td>2.500000e+04</td>\n",
       "      <td>14000.000000</td>\n",
       "      <td>0.000000</td>\n",
       "      <td>0.000000</td>\n",
       "      <td>0.000000</td>\n",
       "      <td>0.000000</td>\n",
       "      <td>0.000000</td>\n",
       "    </tr>\n",
       "    <tr>\n",
       "      <th>75%</th>\n",
       "      <td>2.640000e+05</td>\n",
       "      <td>10.000000</td>\n",
       "      <td>4.000000</td>\n",
       "      <td>1.700000e+05</td>\n",
       "      <td>6.500000e+04</td>\n",
       "      <td>26000.000000</td>\n",
       "      <td>0.000000</td>\n",
       "      <td>0.000000</td>\n",
       "      <td>0.000000</td>\n",
       "      <td>0.000000</td>\n",
       "      <td>0.000000</td>\n",
       "    </tr>\n",
       "    <tr>\n",
       "      <th>max</th>\n",
       "      <td>4.980000e+06</td>\n",
       "      <td>69.000000</td>\n",
       "      <td>69.000000</td>\n",
       "      <td>1.659870e+06</td>\n",
       "      <td>2.800000e+06</td>\n",
       "      <td>1000000.000000</td>\n",
       "      <td>1.000000</td>\n",
       "      <td>1.000000</td>\n",
       "      <td>1.000000</td>\n",
       "      <td>1.000000</td>\n",
       "      <td>1.000000</td>\n",
       "    </tr>\n",
       "  </tbody>\n",
       "</table>\n",
       "</div>"
      ],
      "text/plain": [
       "       totalyearlycompensation  yearsofexperience  yearsatcompany  \\\n",
       "count             6.264200e+04       62642.000000    62642.000000   \n",
       "mean              2.163004e+05           7.204135        2.702093   \n",
       "std               1.380337e+05           5.840375        3.263656   \n",
       "min               1.000000e+04           0.000000        0.000000   \n",
       "25%               1.350000e+05           3.000000        0.000000   \n",
       "50%               1.880000e+05           6.000000        2.000000   \n",
       "75%               2.640000e+05          10.000000        4.000000   \n",
       "max               4.980000e+06          69.000000       69.000000   \n",
       "\n",
       "         basesalary  stockgrantvalue           bonus  Masters_Degree  \\\n",
       "count  6.264200e+04     6.264200e+04    62642.000000    62642.000000   \n",
       "mean   1.366873e+05     5.148608e+04    19334.746588        0.245698   \n",
       "std    6.136928e+04     8.187457e+04    26781.292040        0.430504   \n",
       "min    0.000000e+00     0.000000e+00        0.000000        0.000000   \n",
       "25%    1.080000e+05     0.000000e+00     1000.000000        0.000000   \n",
       "50%    1.400000e+05     2.500000e+04    14000.000000        0.000000   \n",
       "75%    1.700000e+05     6.500000e+04    26000.000000        0.000000   \n",
       "max    1.659870e+06     2.800000e+06  1000000.000000        1.000000   \n",
       "\n",
       "       Bachelors_Degree  Doctorate_Degree    Highschool  Some_College  \n",
       "count      62642.000000      62642.000000  62642.000000  62642.000000  \n",
       "mean           0.201223          0.028783      0.005108      0.005667  \n",
       "std            0.400917          0.167196      0.071291      0.075067  \n",
       "min            0.000000          0.000000      0.000000      0.000000  \n",
       "25%            0.000000          0.000000      0.000000      0.000000  \n",
       "50%            0.000000          0.000000      0.000000      0.000000  \n",
       "75%            0.000000          0.000000      0.000000      0.000000  \n",
       "max            1.000000          1.000000      1.000000      1.000000  "
      ]
     },
     "execution_count": 13,
     "metadata": {},
     "output_type": "execute_result"
    }
   ],
   "source": [
    "# totalyearlycompensation check\n",
    "nume_df = salary_df.select_dtypes(include=['int64', 'float64'])\n",
    "nume_df.describe(include='all')"
   ]
  },
  {
   "attachments": {},
   "cell_type": "markdown",
   "id": "a71d4d3f",
   "metadata": {},
   "source": [
    "Notice that yearsofexperience and yearsatcompany have max valaue is 69, very abnormal. Let's see the rows contain them."
   ]
  },
  {
   "cell_type": "code",
   "execution_count": 14,
   "id": "0e98046e",
   "metadata": {},
   "outputs": [
    {
     "data": {
      "text/html": [
       "<div>\n",
       "<style scoped>\n",
       "    .dataframe tbody tr th:only-of-type {\n",
       "        vertical-align: middle;\n",
       "    }\n",
       "\n",
       "    .dataframe tbody tr th {\n",
       "        vertical-align: top;\n",
       "    }\n",
       "\n",
       "    .dataframe thead th {\n",
       "        text-align: right;\n",
       "    }\n",
       "</style>\n",
       "<table border=\"1\" class=\"dataframe\">\n",
       "  <thead>\n",
       "    <tr style=\"text-align: right;\">\n",
       "      <th></th>\n",
       "      <th>timestamp</th>\n",
       "      <th>company</th>\n",
       "      <th>title</th>\n",
       "      <th>totalyearlycompensation</th>\n",
       "      <th>location</th>\n",
       "      <th>yearsofexperience</th>\n",
       "      <th>yearsatcompany</th>\n",
       "      <th>tag</th>\n",
       "      <th>basesalary</th>\n",
       "      <th>stockgrantvalue</th>\n",
       "      <th>bonus</th>\n",
       "      <th>gender</th>\n",
       "      <th>otherdetails</th>\n",
       "      <th>Masters_Degree</th>\n",
       "      <th>Bachelors_Degree</th>\n",
       "      <th>Doctorate_Degree</th>\n",
       "      <th>Highschool</th>\n",
       "      <th>Some_College</th>\n",
       "      <th>Race</th>\n",
       "      <th>Education</th>\n",
       "    </tr>\n",
       "  </thead>\n",
       "  <tbody>\n",
       "    <tr>\n",
       "      <th>46988</th>\n",
       "      <td>2021-04-03 11:04:46</td>\n",
       "      <td>Disney</td>\n",
       "      <td>Product Designer</td>\n",
       "      <td>102000</td>\n",
       "      <td>Crapo, MD</td>\n",
       "      <td>69.0</td>\n",
       "      <td>69.0</td>\n",
       "      <td>Interaction Design</td>\n",
       "      <td>100000.0</td>\n",
       "      <td>2000.0</td>\n",
       "      <td>0.0</td>\n",
       "      <td>&lt;NA&gt;</td>\n",
       "      <td>Title: Joiooooo</td>\n",
       "      <td>0</td>\n",
       "      <td>0</td>\n",
       "      <td>0</td>\n",
       "      <td>0</td>\n",
       "      <td>0</td>\n",
       "      <td>&lt;NA&gt;</td>\n",
       "      <td>&lt;NA&gt;</td>\n",
       "    </tr>\n",
       "  </tbody>\n",
       "</table>\n",
       "</div>"
      ],
      "text/plain": [
       "                timestamp company             title  totalyearlycompensation  \\\n",
       "46988 2021-04-03 11:04:46  Disney  Product Designer                   102000   \n",
       "\n",
       "        location  yearsofexperience  yearsatcompany                 tag  \\\n",
       "46988  Crapo, MD               69.0            69.0  Interaction Design   \n",
       "\n",
       "       basesalary  stockgrantvalue  bonus gender     otherdetails  \\\n",
       "46988    100000.0           2000.0    0.0   <NA>  Title: Joiooooo   \n",
       "\n",
       "       Masters_Degree  Bachelors_Degree  Doctorate_Degree  Highschool  \\\n",
       "46988               0                 0                 0           0   \n",
       "\n",
       "       Some_College  Race Education  \n",
       "46988             0  <NA>      <NA>  "
      ]
     },
     "execution_count": 14,
     "metadata": {},
     "output_type": "execute_result"
    }
   ],
   "source": [
    "salary_df[(salary_df['yearsofexperience'] == 69) | (salary_df['yearsatcompany'] == 69)]"
   ]
  },
  {
   "attachments": {},
   "cell_type": "markdown",
   "id": "29960801",
   "metadata": {},
   "source": [
    "There is only 1 row. This person has been working for 1 company for 69 years. Seems abnormal, let's drop this column"
   ]
  },
  {
   "cell_type": "code",
   "execution_count": 15,
   "id": "3ca2e4cb",
   "metadata": {},
   "outputs": [],
   "source": [
    "salary_df.drop(index=46988, inplace=True)"
   ]
  },
  {
   "cell_type": "code",
   "execution_count": 16,
   "id": "14725e77",
   "metadata": {},
   "outputs": [
    {
     "data": {
      "text/html": [
       "<div>\n",
       "<style scoped>\n",
       "    .dataframe tbody tr th:only-of-type {\n",
       "        vertical-align: middle;\n",
       "    }\n",
       "\n",
       "    .dataframe tbody tr th {\n",
       "        vertical-align: top;\n",
       "    }\n",
       "\n",
       "    .dataframe thead th {\n",
       "        text-align: right;\n",
       "    }\n",
       "</style>\n",
       "<table border=\"1\" class=\"dataframe\">\n",
       "  <thead>\n",
       "    <tr style=\"text-align: right;\">\n",
       "      <th></th>\n",
       "      <th>yearsofexperience</th>\n",
       "      <th>yearsatcompany</th>\n",
       "    </tr>\n",
       "  </thead>\n",
       "  <tbody>\n",
       "    <tr>\n",
       "      <th>count</th>\n",
       "      <td>62641.000000</td>\n",
       "      <td>62641.000000</td>\n",
       "    </tr>\n",
       "    <tr>\n",
       "      <th>mean</th>\n",
       "      <td>7.203149</td>\n",
       "      <td>2.701035</td>\n",
       "    </tr>\n",
       "    <tr>\n",
       "      <th>std</th>\n",
       "      <td>5.835200</td>\n",
       "      <td>3.252914</td>\n",
       "    </tr>\n",
       "    <tr>\n",
       "      <th>min</th>\n",
       "      <td>0.000000</td>\n",
       "      <td>0.000000</td>\n",
       "    </tr>\n",
       "    <tr>\n",
       "      <th>25%</th>\n",
       "      <td>3.000000</td>\n",
       "      <td>0.000000</td>\n",
       "    </tr>\n",
       "    <tr>\n",
       "      <th>50%</th>\n",
       "      <td>6.000000</td>\n",
       "      <td>2.000000</td>\n",
       "    </tr>\n",
       "    <tr>\n",
       "      <th>75%</th>\n",
       "      <td>10.000000</td>\n",
       "      <td>4.000000</td>\n",
       "    </tr>\n",
       "    <tr>\n",
       "      <th>max</th>\n",
       "      <td>45.000000</td>\n",
       "      <td>40.000000</td>\n",
       "    </tr>\n",
       "  </tbody>\n",
       "</table>\n",
       "</div>"
      ],
      "text/plain": [
       "       yearsofexperience  yearsatcompany\n",
       "count       62641.000000    62641.000000\n",
       "mean            7.203149        2.701035\n",
       "std             5.835200        3.252914\n",
       "min             0.000000        0.000000\n",
       "25%             3.000000        0.000000\n",
       "50%             6.000000        2.000000\n",
       "75%            10.000000        4.000000\n",
       "max            45.000000       40.000000"
      ]
     },
     "execution_count": 16,
     "metadata": {},
     "output_type": "execute_result"
    }
   ],
   "source": [
    "salary_df[['yearsofexperience', 'yearsatcompany']].describe()"
   ]
  },
  {
   "attachments": {},
   "cell_type": "markdown",
   "id": "9ae0e344",
   "metadata": {},
   "source": [
    "Everything seems normal now"
   ]
  },
  {
   "attachments": {},
   "cell_type": "markdown",
   "id": "eb402f71",
   "metadata": {},
   "source": [
    "# With each caategorical column, how are values distributed?"
   ]
  },
  {
   "cell_type": "code",
   "execution_count": 17,
   "id": "bb7abfb9",
   "metadata": {},
   "outputs": [
    {
     "data": {
      "text/html": [
       "<div>\n",
       "<style scoped>\n",
       "    .dataframe tbody tr th:only-of-type {\n",
       "        vertical-align: middle;\n",
       "    }\n",
       "\n",
       "    .dataframe tbody tr th {\n",
       "        vertical-align: top;\n",
       "    }\n",
       "\n",
       "    .dataframe thead th {\n",
       "        text-align: right;\n",
       "    }\n",
       "</style>\n",
       "<table border=\"1\" class=\"dataframe\">\n",
       "  <thead>\n",
       "    <tr style=\"text-align: right;\">\n",
       "      <th></th>\n",
       "      <th>company</th>\n",
       "      <th>title</th>\n",
       "      <th>location</th>\n",
       "      <th>tag</th>\n",
       "      <th>gender</th>\n",
       "      <th>otherdetails</th>\n",
       "      <th>Race</th>\n",
       "      <th>Education</th>\n",
       "    </tr>\n",
       "  </thead>\n",
       "  <tbody>\n",
       "    <tr>\n",
       "      <th>count</th>\n",
       "      <td>62636</td>\n",
       "      <td>62641</td>\n",
       "      <td>62641</td>\n",
       "      <td>61787</td>\n",
       "      <td>43102</td>\n",
       "      <td>40136</td>\n",
       "      <td>22427</td>\n",
       "      <td>30370</td>\n",
       "    </tr>\n",
       "    <tr>\n",
       "      <th>unique</th>\n",
       "      <td>1631</td>\n",
       "      <td>15</td>\n",
       "      <td>1049</td>\n",
       "      <td>3058</td>\n",
       "      <td>4</td>\n",
       "      <td>12840</td>\n",
       "      <td>5</td>\n",
       "      <td>5</td>\n",
       "    </tr>\n",
       "    <tr>\n",
       "      <th>top</th>\n",
       "      <td>Amazon</td>\n",
       "      <td>Software Engineer</td>\n",
       "      <td>Seattle, WA</td>\n",
       "      <td>Full Stack</td>\n",
       "      <td>Male</td>\n",
       "      <td>Masters</td>\n",
       "      <td>Asian</td>\n",
       "      <td>Master's Degree</td>\n",
       "    </tr>\n",
       "    <tr>\n",
       "      <th>freq</th>\n",
       "      <td>8126</td>\n",
       "      <td>41231</td>\n",
       "      <td>8701</td>\n",
       "      <td>11382</td>\n",
       "      <td>35702</td>\n",
       "      <td>3983</td>\n",
       "      <td>11772</td>\n",
       "      <td>15391</td>\n",
       "    </tr>\n",
       "  </tbody>\n",
       "</table>\n",
       "</div>"
      ],
      "text/plain": [
       "       company              title     location         tag gender  \\\n",
       "count    62636              62641        62641       61787  43102   \n",
       "unique    1631                 15         1049        3058      4   \n",
       "top     Amazon  Software Engineer  Seattle, WA  Full Stack   Male   \n",
       "freq      8126              41231         8701       11382  35702   \n",
       "\n",
       "       otherdetails   Race        Education  \n",
       "count         40136  22427            30370  \n",
       "unique        12840      5                5  \n",
       "top         Masters  Asian  Master's Degree  \n",
       "freq           3983  11772            15391  "
      ]
     },
     "execution_count": 17,
     "metadata": {},
     "output_type": "execute_result"
    }
   ],
   "source": [
    "cate_df = salary_df.select_dtypes(include=['string'])\n",
    "cate_df.describe(include='all')"
   ]
  },
  {
   "attachments": {},
   "cell_type": "markdown",
   "id": "cb769976",
   "metadata": {},
   "source": [
    "Let's take a look at some values"
   ]
  },
  {
   "cell_type": "code",
   "execution_count": 18,
   "id": "a1a9ad7d",
   "metadata": {},
   "outputs": [
    {
     "data": {
      "text/plain": [
       "<StringArray>\n",
       "[              'Oracle',                 'eBay',               'Amazon',\n",
       "                'Apple',            'Microsoft',           'Salesforce',\n",
       "             'Facebook',                 'Uber',                 'Oath',\n",
       "               'Google',\n",
       " ...\n",
       "                 'Tsmc',             'Pegatron',           'GE digital',\n",
       "       'Coupa software',            'MailChimp', 'veritas technologies',\n",
       "               \"macy's\",               'VmWare',           'SalesForce',\n",
       "     'tableau software']\n",
       "Length: 1632, dtype: string"
      ]
     },
     "execution_count": 18,
     "metadata": {},
     "output_type": "execute_result"
    }
   ],
   "source": [
    "cate_df['company'].unique()"
   ]
  },
  {
   "cell_type": "code",
   "execution_count": 19,
   "id": "2ed30993",
   "metadata": {},
   "outputs": [
    {
     "data": {
      "text/plain": [
       "<StringArray>\n",
       "[             'Product Manager',            'Software Engineer',\n",
       " 'Software Engineering Manager',               'Data Scientist',\n",
       "           'Solution Architect',    'Technical Program Manager',\n",
       "              'Human Resources',             'Product Designer',\n",
       "                    'Marketing',             'Business Analyst',\n",
       "            'Hardware Engineer',                        'Sales',\n",
       "                    'Recruiter',          'Mechanical Engineer',\n",
       "        'Management Consultant']\n",
       "Length: 15, dtype: string"
      ]
     },
     "execution_count": 19,
     "metadata": {},
     "output_type": "execute_result"
    }
   ],
   "source": [
    "cate_df['title'].unique()"
   ]
  },
  {
   "cell_type": "code",
   "execution_count": 20,
   "id": "05f05d0e",
   "metadata": {},
   "outputs": [
    {
     "data": {
      "text/plain": [
       "<StringArray>\n",
       "[                      'Redwood City, CA',\n",
       "                      'San Francisco, CA',\n",
       "                            'Seattle, WA',\n",
       "                          'Sunnyvale, CA',\n",
       "                      'Mountain View, CA',\n",
       "                            'Redmond, WA',\n",
       "                           'Bellevue, WA',\n",
       "                         'Menlo Park, CA',\n",
       "             'London, EN, United Kingdom',\n",
       "                          'Cupertino, CA',\n",
       " ...\n",
       "                             'London, OH',\n",
       "                 \"T'ai-chung, TA, Taiwan\",\n",
       " 'Port of Spain, PO, Trinidad and Tobago',\n",
       "                           'New City, NY',\n",
       "                   'Richmond, BC, Canada',\n",
       "               'Taichung City, CN, China',\n",
       "                        'Giza, JZ, Egypt',\n",
       "               'Pasir Ris, SG, Singapore',\n",
       "            'Richmond, VA, United States',\n",
       "                            'Hilbert, WI']\n",
       "Length: 1049, dtype: string"
      ]
     },
     "execution_count": 20,
     "metadata": {},
     "output_type": "execute_result"
    }
   ],
   "source": [
    "cate_df['location'].unique()"
   ]
  },
  {
   "cell_type": "code",
   "execution_count": 21,
   "id": "ca1f8167",
   "metadata": {},
   "outputs": [
    {
     "data": {
      "text/plain": [
       "<StringArray>\n",
       "[                                    <NA>,\n",
       "                             'Full Stack',\n",
       "         'Distributed Systems (Back-End)',\n",
       "                       'Embedded Systems',\n",
       "             'API Development (Back-End)',\n",
       "                                 'DevOps',\n",
       "                          'Data Analysis',\n",
       "            'Web Development (Front-End)',\n",
       "                                'ML / AI',\n",
       "                               'Security',\n",
       " ...\n",
       "                                'PM, TPM',\n",
       "                             'Mobile app',\n",
       " 'Supply Chain Optimization Technologies',\n",
       "                            'RF Engineer',\n",
       "                             'unix/linux',\n",
       "                         'python backend',\n",
       "                        'project manager',\n",
       "                           'Solution Mgt',\n",
       "                         'Software Infra',\n",
       "                         'Industry Cloud']\n",
       "Length: 3059, dtype: string"
      ]
     },
     "execution_count": 21,
     "metadata": {},
     "output_type": "execute_result"
    }
   ],
   "source": [
    "cate_df['tag'].unique()"
   ]
  },
  {
   "cell_type": "code",
   "execution_count": 22,
   "id": "6f86fe2c",
   "metadata": {},
   "outputs": [
    {
     "data": {
      "text/plain": [
       "<StringArray>\n",
       "[<NA>, 'Male', 'Female', 'Other', 'Title: Senior Software Engineer']\n",
       "Length: 5, dtype: string"
      ]
     },
     "execution_count": 22,
     "metadata": {},
     "output_type": "execute_result"
    }
   ],
   "source": [
    "cate_df['gender'].unique()"
   ]
  },
  {
   "attachments": {},
   "cell_type": "markdown",
   "id": "44961c3e",
   "metadata": {},
   "source": [
    "Something wrong here. There should be only 'Male' and 'Female' but here we have 4 unique values. We cannot do analysis with 'Other' and 'Title: Senior Software Engineer' so we will replace them with Nan"
   ]
  },
  {
   "cell_type": "code",
   "execution_count": 23,
   "id": "f86029dc",
   "metadata": {},
   "outputs": [
    {
     "data": {
      "text/plain": [
       "<StringArray>\n",
       "[<NA>, 'Male', 'Female']\n",
       "Length: 3, dtype: string"
      ]
     },
     "execution_count": 23,
     "metadata": {},
     "output_type": "execute_result"
    }
   ],
   "source": [
    "salary_df['gender'] = salary_df['gender'].replace(to_replace=[\"Other\", \"Title: Senior Software Engineer\"], value= np.nan)\n",
    "salary_df['gender'] = salary_df['gender'].astype('string')\n",
    "salary_df['gender'].unique()"
   ]
  },
  {
   "cell_type": "code",
   "execution_count": 24,
   "id": "08a43d52",
   "metadata": {},
   "outputs": [
    {
     "data": {
      "text/plain": [
       "<StringArray>\n",
       "[                                                                                                                                                                        <NA>,\n",
       "                                                                                                                                                           'Tons of overtime',\n",
       "                                                                                                                                                                        'PhD',\n",
       "                                                                                                                                                   'How do I access results?',\n",
       "                                                                                                                                                          'Year 2 bonus, 24k',\n",
       "                                                                               '401k match 50%, vested immediately, up to the legal limit\\r\\n\"Cadillac\" insurance at no cost',\n",
       "                                                                                                        'Refresh equity on 3 yr vest; Up to 3% 401K match; Good ESPP program',\n",
       "                                                                                                                                         '401k match, ESPP, health insurance',\n",
       " \"ESPP face value is around 1.5% ($3.1k); up to $7k in 401k matching is quite valuable (consider how much it'll be worth by time of retirement) but is not included in above\",\n",
       "                                                                                                                  'Bonus includes on call compensation, referral, and annual',\n",
       " ...\n",
       "                                                                                                                   '5-15-40-40 annual vest schedule. bonus paid over 2 years',\n",
       "                                                                                                                                                     'Senior Finance Manager',\n",
       "                                                                                                                          'Network Deployment Senior Program Manager - Azure',\n",
       "                                                                                                             'Assuming stock price is $200/share, bonus = 20% + yearly grant',\n",
       "                                                                                                                                    'Bonus is targeted at 15% of base salary',\n",
       "                                                                                                                                   'Sign on bonus - 45k(Not included in TC).',\n",
       "                                                                                                                                                               '70000 signon',\n",
       "                                                                                    '40k cash split over 2 years. 75k rsus over 4 years. Bonus is median 10% of base per yr.',\n",
       "                                                          '65k of stocks at 5/15/40/40 vesting schedule per year. First job out of college, only internship experience prior',\n",
       "                                                                                                                                                              'industry hire']\n",
       "Length: 12841, dtype: string"
      ]
     },
     "execution_count": 24,
     "metadata": {},
     "output_type": "execute_result"
    }
   ],
   "source": [
    "cate_df['otherdetails'].unique()"
   ]
  },
  {
   "cell_type": "code",
   "execution_count": 25,
   "id": "1b17b3f4",
   "metadata": {},
   "outputs": [
    {
     "data": {
      "text/plain": [
       "<StringArray>\n",
       "[<NA>, 'White', 'Asian', 'Black', 'Two Or More', 'Hispanic']\n",
       "Length: 6, dtype: string"
      ]
     },
     "execution_count": 25,
     "metadata": {},
     "output_type": "execute_result"
    }
   ],
   "source": [
    "cate_df['Race'].unique()"
   ]
  },
  {
   "cell_type": "code",
   "execution_count": 26,
   "id": "788fe94b",
   "metadata": {},
   "outputs": [
    {
     "data": {
      "text/plain": [
       "<StringArray>\n",
       "[               <NA>,               'PhD',   \"Master's Degree\",\n",
       " \"Bachelor's Degree\",      'Some College',        'Highschool']\n",
       "Length: 6, dtype: string"
      ]
     },
     "execution_count": 26,
     "metadata": {},
     "output_type": "execute_result"
    }
   ],
   "source": [
    "cate_df['Education'].unique()"
   ]
  },
  {
   "attachments": {},
   "cell_type": "markdown",
   "id": "c0c7f9ff",
   "metadata": {},
   "source": [
    "Everything looks good!"
   ]
  },
  {
   "cell_type": "markdown",
   "id": "3efd849e",
   "metadata": {},
   "source": [
    "---"
   ]
  },
  {
   "attachments": {},
   "cell_type": "markdown",
   "id": "412fd659",
   "metadata": {},
   "source": [
    "Insert some colour for good vision"
   ]
  },
  {
   "cell_type": "code",
   "execution_count": 27,
   "id": "031495a9",
   "metadata": {},
   "outputs": [],
   "source": [
    "colors = cycler('color', [\"#e60049\", \"#0bb4ff\", \"#50e991\", \"#e6d800\", \"#9b19f5\", \"#ffa300\", \"#dc0ab4\", \"#b3d4ff\", \"#00bfa0\"]) \n",
    "plt.rc('axes', facecolor='#D3D3D3', edgecolor='none', axisbelow=True, grid=True, prop_cycle=colors) \n",
    "plt.rc('grid', color='white', linestyle='solid')"
   ]
  },
  {
   "cell_type": "markdown",
   "id": "a76e2281",
   "metadata": {},
   "source": [
    "# Questioning"
   ]
  },
  {
   "cell_type": "markdown",
   "id": "1bea0f13",
   "metadata": {},
   "source": [
    "---"
   ]
  },
  {
   "cell_type": "markdown",
   "id": "97a886ac",
   "metadata": {},
   "source": [
    "**1. Whether people who have PhD received higher salary than whom do not have in every position?**\n",
    "\n",
    "*My team think that it is a practical question because it is a good sourse for someone before deciding whether they ought to study further education or not. Evenly, people who have PhD already can know that whether their salary at that time is suitable or not.*\n",
    "\n",
    "\n",
    "\n",
    "\n"
   ]
  },
  {
   "cell_type": "markdown",
   "id": "b795ce53",
   "metadata": {},
   "source": [
    "## Answer:"
   ]
  },
  {
   "cell_type": "markdown",
   "id": "d8aa8bb4",
   "metadata": {},
   "source": [
    "For this question, we decide to access this content in 4 aspects:\n",
    "- **Step 1:** Find out the rate of work with their degree, visualize it clearly?\n",
    "- **Step 2:** For each type of degree, how about the income of each type for a year?\n",
    "- **Step 3:** For each position, how is the distribution of PhD?\n",
    "- **Step 4:** With top 5 position have the most PhD, how about their salary?"
   ]
  },
  {
   "cell_type": "markdown",
   "id": "7dc8737b",
   "metadata": {},
   "source": [
    " ### Before exploring more exciting things, we should go back again the Preprocessing step:"
   ]
  },
  {
   "cell_type": "code",
   "execution_count": 28,
   "id": "2e9e30ba",
   "metadata": {},
   "outputs": [
    {
     "data": {
      "text/plain": [
       "Master's Degree      50.678301\n",
       "Bachelor's Degree    41.491604\n",
       "PhD                   5.607507\n",
       "Some College          1.168917\n",
       "Highschool            1.053671\n",
       "Name: Education, dtype: Float64"
      ]
     },
     "execution_count": 28,
     "metadata": {},
     "output_type": "execute_result"
    },
    {
     "data": {
      "image/png": "[encoded data removed]",
      "text/plain": [
       "<Figure size 640x480 with 1 Axes>"
      ]
     },
     "metadata": {},
     "output_type": "display_data"
    }
   ],
   "source": [
    "# check education\n",
    "salary_df.Education.value_counts(normalize=True).plot(kind=\"bar\", color=[\"#e60049\", \"#0bb4ff\", \"#50e991\", \"#e6d800\", \"#9b19f5\", \"#ffa300\", \"#dc0ab4\", \"#b3d4ff\", \"#00bfa0\"])\n",
    "plt.xticks(rotation= 45)\n",
    "\n",
    "salary_df['Education'].value_counts(normalize=True) * 100"
   ]
  },
  {
   "attachments": {},
   "cell_type": "markdown",
   "id": "46de1a24",
   "metadata": {},
   "source": [
    "Column Education which has Highshool and Some College only occupy about 1% each so we decide to do analysis only on Master's Degree, Bachelor's Degree and PhD"
   ]
  },
  {
   "cell_type": "code",
   "execution_count": 29,
   "id": "eb305542",
   "metadata": {},
   "outputs": [],
   "source": [
    "q1_df = salary_df[salary_df['Education'].isin(['Master\\'s Degree', 'Bachelor\\'s Degree', 'PhD'])]"
   ]
  },
  {
   "cell_type": "markdown",
   "id": "88f5c6d9",
   "metadata": {},
   "source": [
    "### Everything is already now, let's go to Step 1!!!"
   ]
  },
  {
   "cell_type": "markdown",
   "id": "1f3288c2",
   "metadata": {},
   "source": [
    "***Step 1: Find out the rate of work with their degree, visualize it clearly?***"
   ]
  },
  {
   "cell_type": "code",
   "execution_count": 30,
   "id": "0becac3d",
   "metadata": {},
   "outputs": [
    {
     "data": {
      "image/png": "[encoded data removed]",
      "text/plain": [
       "<Figure size 640x480 with 1 Axes>"
      ]
     },
     "metadata": {},
     "output_type": "display_data"
    }
   ],
   "source": [
    "# Percentage of each degree in work market:\n",
    "q1_df.Education.value_counts(normalize=True).plot(kind=\"pie\", startangle=0, explode=[0, 0, 0.2], autopct='%1.1f%%')\n",
    "q1_df['Education'].value_counts(normalize=True) * 100\n",
    "\n",
    "plt.ylabel('')\n",
    "plt.legend(bbox_to_anchor =(0.9, 0.9))\n",
    "plt.title('Pie chart about the rate of each Degree in Work Market');"
   ]
  },
  {
   "cell_type": "markdown",
   "id": "f5fa25ef",
   "metadata": {},
   "source": [
    "- #### Suprisingly, Job for people had PhD only occupied a light rate in work market, maybe who have PhD have more interest in research at universities, institution, academy,...\n"
   ]
  },
  {
   "cell_type": "markdown",
   "id": "828e1c4b",
   "metadata": {},
   "source": [
    "***Step 2: For each type of degree, how about the income of each type for a year?***"
   ]
  },
  {
   "cell_type": "code",
   "execution_count": 31,
   "id": "f70c03f4",
   "metadata": {},
   "outputs": [
    {
     "data": {
      "image/png": "[encoded data removed]",
      "text/plain": [
       "<Figure size 900x600 with 1 Axes>"
      ]
     },
     "metadata": {},
     "output_type": "display_data"
    }
   ],
   "source": [
    "plt.figure(figsize=(9, 6))\n",
    "sns.boxplot(data = q1_df, x='Education', y='totalyearlycompensation', showfliers=False)\n",
    "plt.xlabel('Education')\n",
    "plt.ylabel('Total Yearly Compensation')\n",
    "plt.grid(True);\n",
    "plt.title('Boxplot about the distribution of Salary each year with different Degree', fontsize=15);\n"
   ]
  },
  {
   "cell_type": "markdown",
   "id": "12ed1970",
   "metadata": {},
   "source": [
    "- #### In general, although the number of people who have PhD is not many (known from step 1), the income they can receive is higher than people who have orther degree (despite a range of fluctuation).\n",
    "- #### Hmm...good signal for who want to get a PhD.\n",
    "\n"
   ]
  },
  {
   "cell_type": "markdown",
   "id": "516d45d9",
   "metadata": {},
   "source": [
    "***Step 3: For each position, how is the distribution of PhD?***"
   ]
  },
  {
   "cell_type": "code",
   "execution_count": 32,
   "id": "a61bb5fe",
   "metadata": {},
   "outputs": [
    {
     "data": {
      "text/html": [
       "<div>\n",
       "<style scoped>\n",
       "    .dataframe tbody tr th:only-of-type {\n",
       "        vertical-align: middle;\n",
       "    }\n",
       "\n",
       "    .dataframe tbody tr th {\n",
       "        vertical-align: top;\n",
       "    }\n",
       "\n",
       "    .dataframe thead th {\n",
       "        text-align: right;\n",
       "    }\n",
       "</style>\n",
       "<table border=\"1\" class=\"dataframe\">\n",
       "  <thead>\n",
       "    <tr style=\"text-align: right;\">\n",
       "      <th>Education</th>\n",
       "      <th>Bachelor's Degree</th>\n",
       "      <th>Master's Degree</th>\n",
       "      <th>PhD</th>\n",
       "    </tr>\n",
       "    <tr>\n",
       "      <th>title</th>\n",
       "      <th></th>\n",
       "      <th></th>\n",
       "      <th></th>\n",
       "    </tr>\n",
       "  </thead>\n",
       "  <tbody>\n",
       "    <tr>\n",
       "      <th>Business Analyst</th>\n",
       "      <td>276.0</td>\n",
       "      <td>237.0</td>\n",
       "      <td>5.0</td>\n",
       "    </tr>\n",
       "    <tr>\n",
       "      <th>Data Scientist</th>\n",
       "      <td>242.0</td>\n",
       "      <td>798.0</td>\n",
       "      <td>365.0</td>\n",
       "    </tr>\n",
       "    <tr>\n",
       "      <th>Hardware Engineer</th>\n",
       "      <td>222.0</td>\n",
       "      <td>840.0</td>\n",
       "      <td>217.0</td>\n",
       "    </tr>\n",
       "    <tr>\n",
       "      <th>Human Resources</th>\n",
       "      <td>89.0</td>\n",
       "      <td>99.0</td>\n",
       "      <td>7.0</td>\n",
       "    </tr>\n",
       "    <tr>\n",
       "      <th>Management Consultant</th>\n",
       "      <td>252.0</td>\n",
       "      <td>333.0</td>\n",
       "      <td>12.0</td>\n",
       "    </tr>\n",
       "    <tr>\n",
       "      <th>Marketing</th>\n",
       "      <td>226.0</td>\n",
       "      <td>182.0</td>\n",
       "      <td>4.0</td>\n",
       "    </tr>\n",
       "    <tr>\n",
       "      <th>Mechanical Engineer</th>\n",
       "      <td>159.0</td>\n",
       "      <td>130.0</td>\n",
       "      <td>27.0</td>\n",
       "    </tr>\n",
       "    <tr>\n",
       "      <th>Product Designer</th>\n",
       "      <td>386.0</td>\n",
       "      <td>342.0</td>\n",
       "      <td>20.0</td>\n",
       "    </tr>\n",
       "    <tr>\n",
       "      <th>Product Manager</th>\n",
       "      <td>669.0</td>\n",
       "      <td>1462.0</td>\n",
       "      <td>35.0</td>\n",
       "    </tr>\n",
       "    <tr>\n",
       "      <th>Recruiter</th>\n",
       "      <td>191.0</td>\n",
       "      <td>44.0</td>\n",
       "      <td>0.0</td>\n",
       "    </tr>\n",
       "    <tr>\n",
       "      <th>Sales</th>\n",
       "      <td>149.0</td>\n",
       "      <td>95.0</td>\n",
       "      <td>3.0</td>\n",
       "    </tr>\n",
       "    <tr>\n",
       "      <th>Software Engineer</th>\n",
       "      <td>8661.0</td>\n",
       "      <td>9213.0</td>\n",
       "      <td>887.0</td>\n",
       "    </tr>\n",
       "    <tr>\n",
       "      <th>Software Engineering Manager</th>\n",
       "      <td>533.0</td>\n",
       "      <td>862.0</td>\n",
       "      <td>81.0</td>\n",
       "    </tr>\n",
       "    <tr>\n",
       "      <th>Solution Architect</th>\n",
       "      <td>234.0</td>\n",
       "      <td>282.0</td>\n",
       "      <td>13.0</td>\n",
       "    </tr>\n",
       "    <tr>\n",
       "      <th>Technical Program Manager</th>\n",
       "      <td>312.0</td>\n",
       "      <td>472.0</td>\n",
       "      <td>27.0</td>\n",
       "    </tr>\n",
       "  </tbody>\n",
       "</table>\n",
       "</div>"
      ],
      "text/plain": [
       "Education                     Bachelor's Degree  Master's Degree    PhD\n",
       "title                                                                  \n",
       "Business Analyst                          276.0            237.0    5.0\n",
       "Data Scientist                            242.0            798.0  365.0\n",
       "Hardware Engineer                         222.0            840.0  217.0\n",
       "Human Resources                            89.0             99.0    7.0\n",
       "Management Consultant                     252.0            333.0   12.0\n",
       "Marketing                                 226.0            182.0    4.0\n",
       "Mechanical Engineer                       159.0            130.0   27.0\n",
       "Product Designer                          386.0            342.0   20.0\n",
       "Product Manager                           669.0           1462.0   35.0\n",
       "Recruiter                                 191.0             44.0    0.0\n",
       "Sales                                     149.0             95.0    3.0\n",
       "Software Engineer                        8661.0           9213.0  887.0\n",
       "Software Engineering Manager              533.0            862.0   81.0\n",
       "Solution Architect                        234.0            282.0   13.0\n",
       "Technical Program Manager                 312.0            472.0   27.0"
      ]
     },
     "execution_count": 32,
     "metadata": {},
     "output_type": "execute_result"
    }
   ],
   "source": [
    "# Number of each type of degree in each position\n",
    "df_2column = q1_df.groupby(['title', 'Education']).size()\n",
    "df_2column = df_2column.unstack().fillna(0)\n",
    "df_2column"
   ]
  },
  {
   "cell_type": "code",
   "execution_count": 33,
   "id": "1c44d383",
   "metadata": {},
   "outputs": [
    {
     "data": {
      "text/html": [
       "<div>\n",
       "<style scoped>\n",
       "    .dataframe tbody tr th:only-of-type {\n",
       "        vertical-align: middle;\n",
       "    }\n",
       "\n",
       "    .dataframe tbody tr th {\n",
       "        vertical-align: top;\n",
       "    }\n",
       "\n",
       "    .dataframe thead th {\n",
       "        text-align: right;\n",
       "    }\n",
       "</style>\n",
       "<table border=\"1\" class=\"dataframe\">\n",
       "  <thead>\n",
       "    <tr style=\"text-align: right;\">\n",
       "      <th>Education</th>\n",
       "      <th>PhD</th>\n",
       "      <th>Master's Degree</th>\n",
       "      <th>Bachelor's Degree</th>\n",
       "    </tr>\n",
       "    <tr>\n",
       "      <th>title</th>\n",
       "      <th></th>\n",
       "      <th></th>\n",
       "      <th></th>\n",
       "    </tr>\n",
       "  </thead>\n",
       "  <tbody>\n",
       "    <tr>\n",
       "      <th>Software Engineer</th>\n",
       "      <td>887.0</td>\n",
       "      <td>9213.0</td>\n",
       "      <td>8661.0</td>\n",
       "    </tr>\n",
       "    <tr>\n",
       "      <th>Data Scientist</th>\n",
       "      <td>365.0</td>\n",
       "      <td>798.0</td>\n",
       "      <td>242.0</td>\n",
       "    </tr>\n",
       "    <tr>\n",
       "      <th>Hardware Engineer</th>\n",
       "      <td>217.0</td>\n",
       "      <td>840.0</td>\n",
       "      <td>222.0</td>\n",
       "    </tr>\n",
       "    <tr>\n",
       "      <th>Software Engineering Manager</th>\n",
       "      <td>81.0</td>\n",
       "      <td>862.0</td>\n",
       "      <td>533.0</td>\n",
       "    </tr>\n",
       "    <tr>\n",
       "      <th>Product Manager</th>\n",
       "      <td>35.0</td>\n",
       "      <td>1462.0</td>\n",
       "      <td>669.0</td>\n",
       "    </tr>\n",
       "    <tr>\n",
       "      <th>Mechanical Engineer</th>\n",
       "      <td>27.0</td>\n",
       "      <td>130.0</td>\n",
       "      <td>159.0</td>\n",
       "    </tr>\n",
       "    <tr>\n",
       "      <th>Technical Program Manager</th>\n",
       "      <td>27.0</td>\n",
       "      <td>472.0</td>\n",
       "      <td>312.0</td>\n",
       "    </tr>\n",
       "    <tr>\n",
       "      <th>Product Designer</th>\n",
       "      <td>20.0</td>\n",
       "      <td>342.0</td>\n",
       "      <td>386.0</td>\n",
       "    </tr>\n",
       "    <tr>\n",
       "      <th>Solution Architect</th>\n",
       "      <td>13.0</td>\n",
       "      <td>282.0</td>\n",
       "      <td>234.0</td>\n",
       "    </tr>\n",
       "    <tr>\n",
       "      <th>Management Consultant</th>\n",
       "      <td>12.0</td>\n",
       "      <td>333.0</td>\n",
       "      <td>252.0</td>\n",
       "    </tr>\n",
       "    <tr>\n",
       "      <th>Human Resources</th>\n",
       "      <td>7.0</td>\n",
       "      <td>99.0</td>\n",
       "      <td>89.0</td>\n",
       "    </tr>\n",
       "    <tr>\n",
       "      <th>Business Analyst</th>\n",
       "      <td>5.0</td>\n",
       "      <td>237.0</td>\n",
       "      <td>276.0</td>\n",
       "    </tr>\n",
       "    <tr>\n",
       "      <th>Marketing</th>\n",
       "      <td>4.0</td>\n",
       "      <td>182.0</td>\n",
       "      <td>226.0</td>\n",
       "    </tr>\n",
       "    <tr>\n",
       "      <th>Sales</th>\n",
       "      <td>3.0</td>\n",
       "      <td>95.0</td>\n",
       "      <td>149.0</td>\n",
       "    </tr>\n",
       "    <tr>\n",
       "      <th>Recruiter</th>\n",
       "      <td>0.0</td>\n",
       "      <td>44.0</td>\n",
       "      <td>191.0</td>\n",
       "    </tr>\n",
       "  </tbody>\n",
       "</table>\n",
       "</div>"
      ],
      "text/plain": [
       "Education                       PhD  Master's Degree  Bachelor's Degree\n",
       "title                                                                  \n",
       "Software Engineer             887.0           9213.0             8661.0\n",
       "Data Scientist                365.0            798.0              242.0\n",
       "Hardware Engineer             217.0            840.0              222.0\n",
       "Software Engineering Manager   81.0            862.0              533.0\n",
       "Product Manager                35.0           1462.0              669.0\n",
       "Mechanical Engineer            27.0            130.0              159.0\n",
       "Technical Program Manager      27.0            472.0              312.0\n",
       "Product Designer               20.0            342.0              386.0\n",
       "Solution Architect             13.0            282.0              234.0\n",
       "Management Consultant          12.0            333.0              252.0\n",
       "Human Resources                 7.0             99.0               89.0\n",
       "Business Analyst                5.0            237.0              276.0\n",
       "Marketing                       4.0            182.0              226.0\n",
       "Sales                           3.0             95.0              149.0\n",
       "Recruiter                       0.0             44.0              191.0"
      ]
     },
     "execution_count": 33,
     "metadata": {},
     "output_type": "execute_result"
    }
   ],
   "source": [
    "# Order the number of PhD for each position from high to low\n",
    "df_order = df_2column.sort_values('PhD', ascending=False)\n",
    "df_order = df_order[[\"PhD\", \"Master's Degree\", \"Bachelor's Degree\"]]\n",
    "df_order"
   ]
  },
  {
   "cell_type": "code",
   "execution_count": 34,
   "id": "823c9cb6",
   "metadata": {},
   "outputs": [
    {
     "data": {
      "image/png": "[encoded data removed]",
      "text/plain": [
       "<Figure size 1200x700 with 1 Axes>"
      ]
     },
     "metadata": {},
     "output_type": "display_data"
    }
   ],
   "source": [
    "df_percentage = df_order.apply(lambda col: col*100/df_2column.sum(axis=1))\n",
    "df_percentage = df_percentage.sort_values('PhD', ascending=False)\n",
    "df_percentage.plot(kind='barh', stacked=True, figsize=(12, 7))\n",
    "plt.xlabel('Percentage(%)', fontsize=20)\n",
    "plt.ylabel('Title', fontsize=20)\n",
    "plt.title('100% stacked bar chart about the distribution of degree in different position', fontsize=25);\n",
    "plt.grid(True);"
   ]
  },
  {
   "cell_type": "markdown",
   "id": "e044caac",
   "metadata": {},
   "source": [
    "- #### It is clear that different position has diffrent percentage of PhD, to be more clear:\n",
    "- #### Recruiter, Marketing, Sales has the lowest rate of PhD, it is easy to know that these positions have the ability to contact, communicate more than academic field.\n",
    "- #### Of course, positions which require the researching things, such as Data Scientist, Hardware Engineer, Mechanical Engineer has the highest percentage of PhD (although Master's Degree is also high)"
   ]
  },
  {
   "cell_type": "markdown",
   "id": "4613133a",
   "metadata": {},
   "source": [
    "***Step 4: With top 5 position have the most PhD, how about their salary?***"
   ]
  },
  {
   "cell_type": "code",
   "execution_count": 35,
   "id": "5c260d8d",
   "metadata": {
    "scrolled": true
   },
   "outputs": [
    {
     "data": {
      "text/plain": [
       "array(['Data Scientist', 'Hardware Engineer', 'Mechanical Engineer',\n",
       "       'Software Engineering Manager', 'Software Engineer'], dtype=object)"
      ]
     },
     "execution_count": 35,
     "metadata": {},
     "output_type": "execute_result"
    }
   ],
   "source": [
    "# Select top 5\n",
    "df_percentage = df_percentage.sort_values('PhD', ascending=False)\n",
    "top_PhD = df_percentage.index[:5].values\n",
    "top_PhD"
   ]
  },
  {
   "cell_type": "code",
   "execution_count": 36,
   "id": "bb1ce565",
   "metadata": {},
   "outputs": [
    {
     "name": "stderr",
     "output_type": "stream",
     "text": [
      "C:\\Users\\42nvt\\AppData\\Local\\Temp\\ipykernel_37480\\464663266.py:2: UserWarning: Boolean Series key will be reindexed to match DataFrame index.\n",
      "  df_average = q1_df[salary_df.title.isin(top_PhD)]\n"
     ]
    },
    {
     "data": {
      "text/html": [
       "<div>\n",
       "<style scoped>\n",
       "    .dataframe tbody tr th:only-of-type {\n",
       "        vertical-align: middle;\n",
       "    }\n",
       "\n",
       "    .dataframe tbody tr th {\n",
       "        vertical-align: top;\n",
       "    }\n",
       "\n",
       "    .dataframe thead th {\n",
       "        text-align: right;\n",
       "    }\n",
       "</style>\n",
       "<table border=\"1\" class=\"dataframe\">\n",
       "  <thead>\n",
       "    <tr style=\"text-align: right;\">\n",
       "      <th></th>\n",
       "      <th></th>\n",
       "      <th>totalyearlycompensation</th>\n",
       "    </tr>\n",
       "    <tr>\n",
       "      <th>title</th>\n",
       "      <th>Education</th>\n",
       "      <th></th>\n",
       "    </tr>\n",
       "  </thead>\n",
       "  <tbody>\n",
       "    <tr>\n",
       "      <th rowspan=\"3\" valign=\"top\">Data Scientist</th>\n",
       "      <th>Bachelor's Degree</th>\n",
       "      <td>155314.049587</td>\n",
       "    </tr>\n",
       "    <tr>\n",
       "      <th>Master's Degree</th>\n",
       "      <td>188525.062657</td>\n",
       "    </tr>\n",
       "    <tr>\n",
       "      <th>PhD</th>\n",
       "      <td>253901.369863</td>\n",
       "    </tr>\n",
       "    <tr>\n",
       "      <th rowspan=\"3\" valign=\"top\">Hardware Engineer</th>\n",
       "      <th>Bachelor's Degree</th>\n",
       "      <td>178400.900901</td>\n",
       "    </tr>\n",
       "    <tr>\n",
       "      <th>Master's Degree</th>\n",
       "      <td>202908.333333</td>\n",
       "    </tr>\n",
       "    <tr>\n",
       "      <th>PhD</th>\n",
       "      <td>251599.078341</td>\n",
       "    </tr>\n",
       "    <tr>\n",
       "      <th rowspan=\"3\" valign=\"top\">Mechanical Engineer</th>\n",
       "      <th>Bachelor's Degree</th>\n",
       "      <td>139616.352201</td>\n",
       "    </tr>\n",
       "    <tr>\n",
       "      <th>Master's Degree</th>\n",
       "      <td>167576.923077</td>\n",
       "    </tr>\n",
       "    <tr>\n",
       "      <th>PhD</th>\n",
       "      <td>220666.666667</td>\n",
       "    </tr>\n",
       "    <tr>\n",
       "      <th rowspan=\"3\" valign=\"top\">Software Engineer</th>\n",
       "      <th>Bachelor's Degree</th>\n",
       "      <td>169140.399492</td>\n",
       "    </tr>\n",
       "    <tr>\n",
       "      <th>Master's Degree</th>\n",
       "      <td>210244.545751</td>\n",
       "    </tr>\n",
       "    <tr>\n",
       "      <th>PhD</th>\n",
       "      <td>306023.675310</td>\n",
       "    </tr>\n",
       "    <tr>\n",
       "      <th rowspan=\"3\" valign=\"top\">Software Engineering Manager</th>\n",
       "      <th>Bachelor's Degree</th>\n",
       "      <td>295733.583490</td>\n",
       "    </tr>\n",
       "    <tr>\n",
       "      <th>Master's Degree</th>\n",
       "      <td>357475.638051</td>\n",
       "    </tr>\n",
       "    <tr>\n",
       "      <th>PhD</th>\n",
       "      <td>453617.283951</td>\n",
       "    </tr>\n",
       "  </tbody>\n",
       "</table>\n",
       "</div>"
      ],
      "text/plain": [
       "                                                totalyearlycompensation\n",
       "title                        Education                                 \n",
       "Data Scientist               Bachelor's Degree            155314.049587\n",
       "                             Master's Degree              188525.062657\n",
       "                             PhD                          253901.369863\n",
       "Hardware Engineer            Bachelor's Degree            178400.900901\n",
       "                             Master's Degree              202908.333333\n",
       "                             PhD                          251599.078341\n",
       "Mechanical Engineer          Bachelor's Degree            139616.352201\n",
       "                             Master's Degree              167576.923077\n",
       "                             PhD                          220666.666667\n",
       "Software Engineer            Bachelor's Degree            169140.399492\n",
       "                             Master's Degree              210244.545751\n",
       "                             PhD                          306023.675310\n",
       "Software Engineering Manager Bachelor's Degree            295733.583490\n",
       "                             Master's Degree              357475.638051\n",
       "                             PhD                          453617.283951"
      ]
     },
     "execution_count": 36,
     "metadata": {},
     "output_type": "execute_result"
    }
   ],
   "source": [
    "# Average\n",
    "df_average = q1_df[salary_df.title.isin(top_PhD)]\n",
    "df_average = df_average.groupby(['title', 'Education'])[['totalyearlycompensation']].mean()\n",
    "df_average"
   ]
  },
  {
   "cell_type": "code",
   "execution_count": 37,
   "id": "c7c04ef7",
   "metadata": {},
   "outputs": [
    {
     "data": {
      "image/png": "[encoded data removed]",
      "text/plain": [
       "<Figure size 2500x1500 with 1 Axes>"
      ]
     },
     "metadata": {},
     "output_type": "display_data"
    }
   ],
   "source": [
    "# set width of bar\n",
    "barWidth = 0.15\n",
    "fig = plt.subplots(figsize =(25, 15))\n",
    " \n",
    "# set height of bar\n",
    "BachelorsDegree = [155314, 178400, 139616, 169140, 295733]\n",
    "MastersDegree = [188525, 202908, 167576, 210244, 357475]\n",
    "PhD = [253901, 251599, 220666, 306023, 453617]\n",
    " \n",
    "# Set position of bar on X axis\n",
    "br1 = np.arange(len(BachelorsDegree))\n",
    "br2 = [x + barWidth for x in br1]\n",
    "br3 = [x + barWidth for x in br2]\n",
    " \n",
    "# Make the plot\n",
    "plt.bar(br1, BachelorsDegree, width = barWidth,\n",
    "        edgecolor ='grey', label ='BachelorsDegree')\n",
    "plt.bar(br2, MastersDegree, width = barWidth,\n",
    "        edgecolor ='grey', label ='MastersDegree')\n",
    "plt.bar(br3, PhD, width = barWidth,\n",
    "        edgecolor ='grey', label ='PhD')\n",
    "\n",
    "# Adding Xticks\n",
    "plt.xlabel('Title', fontweight ='bold', fontsize = 25)\n",
    "plt.ylabel('Total Yearly Compensation', fontweight ='bold', fontsize = 25)\n",
    "plt.xticks([r + barWidth for r in range(len(BachelorsDegree))],\n",
    "['Data Scientist', 'Hardware Engineer', 'Mechanical Engineer', 'Software Engineer', 'Software Engineering Manager'], fontsize = 20)\n",
    "plt.title('Comparision between the same position with different degree', fontsize=25);\n",
    "plt.legend()\n",
    "plt.show()"
   ]
  },
  {
   "cell_type": "markdown",
   "id": "12a82826",
   "metadata": {},
   "source": [
    "- #### Obviously, top 5 positions have the most PhD, about the salary PhDs can earn always the highest salary compare to the orther, this can prove that it is really worthy to get a PhD."
   ]
  },
  {
   "cell_type": "markdown",
   "id": "1d20161b",
   "metadata": {},
   "source": [
    "### Sum up from this question\n",
    "- The number of jobs for PhD is not too high (lower than Master and Bachelor) but in general the income for people who have a PhD is higher than the orther.\n",
    "- The number of people who have a PhD only high in some academic position, such as: Data Scientist, Hardware Engineer, Mechanical Engineer and at these position, PhD proves themselves a lot, imcome of them is remarkably higher than the orther, so that in this situation acheving a PhD is a good choice."
   ]
  },
  {
   "attachments": {},
   "cell_type": "markdown",
   "id": "c1886f10",
   "metadata": {},
   "source": [
    "---"
   ]
  },
  {
   "attachments": {},
   "cell_type": "markdown",
   "id": "7734dcdd",
   "metadata": {},
   "source": [
    "## Questions: Top 10 companies based on the number of high-paying jobs, compare their total yearly compensation and does gender pay gap exist in these top 10 companies?"
   ]
  },
  {
   "attachments": {},
   "cell_type": "markdown",
   "id": "812872f8",
   "metadata": {},
   "source": [
    "Total compensation is one of the highest expectations from job applicants to job recruiters. Each company has their range of salary and bonus based on their business scale. Knowing top 10 companies based on the number of high-paying jobs and their total yearly compensation range, job applicants will have more information about each top 10 companies' range of total compensation compared with each others and with all jobs total compensation's median to choose jobs from (people tend to choose higher paying career). And because this is STEM industry, applicants (especially Female) will want to know does gender pay gap exist in the company they are going to apply for a job."
   ]
  },
  {
   "cell_type": "markdown",
   "id": "b795ce53",
   "metadata": {},
   "source": [
    "## Answer:"
   ]
  },
  {
   "attachments": {},
   "cell_type": "markdown",
   "id": "5d5ab4b1",
   "metadata": {},
   "source": [
    "For this question, we decide to access this content in 4 steps:\n",
    "- **Step 1:** Chooes high income threshold (we decide to choose the upper quartile as the threshold)\n",
    "- **Step 2:** Find top 10 companies having the highest number of high-paying jobs (total yearly compensation >= the upper quartile). Visualize the data.\n",
    "- **Step 3:** Draw box plots of top 10 companies' total yearly compensation to compare with each other and with median of all data total yearly compensation.\n",
    "- **Step 4:** Find gender ratio in these top 10. Visualize the data.\n",
    "- **Step 5:** Find each gender median of total yearly compensation in these top 10. Visualize the data."
   ]
  },
  {
   "attachments": {},
   "cell_type": "markdown",
   "id": "282761cf",
   "metadata": {},
   "source": [
    "Before moving on, we know that gender has a missing ratio of 30%, we decide to impute these nan values to have a more correct answer (it's not fill by mode so it is not biased)."
   ]
  },
  {
   "cell_type": "code",
   "execution_count": 38,
   "id": "79d09aae",
   "metadata": {},
   "outputs": [],
   "source": [
    "salary_df['gender'] = salary_df['gender'].fillna(method='backfill')"
   ]
  },
  {
   "attachments": {},
   "cell_type": "markdown",
   "id": "8ab8053f",
   "metadata": {},
   "source": [
    "**Step 1: Find the threshold (the upper quartile of all rows' totalyearlycompensation)**"
   ]
  },
  {
   "cell_type": "code",
   "execution_count": 39,
   "id": "cbc7c204",
   "metadata": {},
   "outputs": [
    {
     "name": "stdout",
     "output_type": "stream",
     "text": [
      "High paying threshold:  264000.0\n"
     ]
    }
   ],
   "source": [
    "q3_salary = salary_df['totalyearlycompensation'].quantile(0.75)\n",
    "print('High paying threshold: ', q3_salary)"
   ]
  },
  {
   "attachments": {},
   "cell_type": "markdown",
   "id": "2ea08072",
   "metadata": {},
   "source": [
    "**Step 2: Find top 10 companies having the highest number of high paying jobs and visualize the data**"
   ]
  },
  {
   "cell_type": "code",
   "execution_count": 40,
   "id": "ada1b350",
   "metadata": {},
   "outputs": [],
   "source": [
    "high_salary_df = salary_df[salary_df['totalyearlycompensation'] >= q3_salary]\n",
    "top10_company = high_salary_df['company'].value_counts()[:10]"
   ]
  },
  {
   "cell_type": "code",
   "execution_count": 41,
   "id": "289cb2b8",
   "metadata": {},
   "outputs": [
    {
     "data": {
      "image/png": "[encoded data removed]",
      "text/plain": [
       "<Figure size 640x480 with 1 Axes>"
      ]
     },
     "metadata": {},
     "output_type": "display_data"
    }
   ],
   "source": [
    "top10_company.plot.bar()\n",
    "plt.title('Top 10 companies based on the number of high-paying jobs', fontweight ='bold')\n",
    "plt.xlabel('Company', fontweight ='bold')\n",
    "plt.ylabel('Number of high-paying jobs', fontweight ='bold')\n",
    "plt.xticks(rotation = 45) \n",
    "plt.show()"
   ]
  },
  {
   "attachments": {},
   "cell_type": "markdown",
   "id": "9b5251a1",
   "metadata": {},
   "source": [
    "*It is no surpise that all the top 10's names are famous ones, especially The Big Five (Google, Amazon, Facebook, Apple, Microsoft).*"
   ]
  },
  {
   "attachments": {},
   "cell_type": "markdown",
   "id": "d39af2ce",
   "metadata": {},
   "source": [
    "**Step 3: Draw box plots of top 10 companies' total yearly compensation to compare with each other and with median of all data total yearly compensation.**"
   ]
  },
  {
   "cell_type": "code",
   "execution_count": 42,
   "id": "c6790da6",
   "metadata": {},
   "outputs": [
    {
     "data": {
      "image/png": "[encoded data removed]",
      "text/plain": [
       "<Figure size 2500x1500 with 1 Axes>"
      ]
     },
     "metadata": {},
     "output_type": "display_data"
    }
   ],
   "source": [
    "plt.figure(figsize=(25,15))\n",
    "\n",
    "df_company = salary_df[salary_df['company'].isin(top10_company.keys())]\n",
    "fig = sns.boxplot(x='company', y='totalyearlycompensation', data=df_company, showfliers = False)\n",
    "\n",
    "plt.title('Top 10 companies\\' salaries comparision', size=40, fontweight ='bold')\n",
    "plt.xlabel('Company', size=25, fontweight ='bold')\n",
    "plt.ylabel('Total yearly compensation', size=25, fontweight ='bold')\n",
    "\n",
    "median_salary = salary_df['totalyearlycompensation'].median()\n",
    "plt.axhline(y=median_salary, color='r', linestyle='-', label='Median of all datas\\' total yearly compensation')\n",
    "plt.legend(loc='upper left', prop={'size': 17})\n",
    "\n",
    "fig.axis(ymin=0, ymax=800000);\n",
    "\n",
    "plt.show()"
   ]
  },
  {
   "attachments": {},
   "cell_type": "markdown",
   "id": "223ade7b",
   "metadata": {},
   "source": [
    "*Looking at the box plot, we can divide them into 3 groups:*\n",
    "\n",
    "- **Equal to the median of all data (Oracle, Amazon, Microsoft):** These 3 companies' median of total compensation is very much the same as the median of all data. If high total compensation is what you are looking for, this group is not for you to consider, notably Microsoft (not very high paid jobs compared to the rest of top 10).\n",
    "- **Higher than the median of all data (Apple, Salesforce, Facebook, Uber, Google, Linkedin):** This group is the high paid job group, their median of total compensation is 50 000 - 100 000 higher than the median of all data. This is the group for you to consider if one of your job expectations is total compensaation.\n",
    "- **Highest paying company (Netflix):** The highest paid job company. If your main goal is total compensation, you sure want to take a look at Netflix, even is's min is equal to the median of all data."
   ]
  },
  {
   "attachments": {},
   "cell_type": "markdown",
   "id": "ad9aa1ca",
   "metadata": {},
   "source": [
    "**Step 4: Find gender ratio in these top 10. Visualize the data.**"
   ]
  },
  {
   "cell_type": "code",
   "execution_count": 43,
   "id": "aab5cc88",
   "metadata": {},
   "outputs": [
    {
     "data": {
      "text/html": [
       "<div>\n",
       "<style scoped>\n",
       "    .dataframe tbody tr th:only-of-type {\n",
       "        vertical-align: middle;\n",
       "    }\n",
       "\n",
       "    .dataframe tbody tr th {\n",
       "        vertical-align: top;\n",
       "    }\n",
       "\n",
       "    .dataframe thead th {\n",
       "        text-align: right;\n",
       "    }\n",
       "</style>\n",
       "<table border=\"1\" class=\"dataframe\">\n",
       "  <thead>\n",
       "    <tr style=\"text-align: right;\">\n",
       "      <th>gender</th>\n",
       "      <th>MaleRatio</th>\n",
       "      <th>FemaleRatio</th>\n",
       "    </tr>\n",
       "    <tr>\n",
       "      <th>company</th>\n",
       "      <th></th>\n",
       "      <th></th>\n",
       "    </tr>\n",
       "  </thead>\n",
       "  <tbody>\n",
       "    <tr>\n",
       "      <th>Amazon</th>\n",
       "      <td>0.852818</td>\n",
       "      <td>0.147182</td>\n",
       "    </tr>\n",
       "    <tr>\n",
       "      <th>Apple</th>\n",
       "      <td>0.844181</td>\n",
       "      <td>0.155819</td>\n",
       "    </tr>\n",
       "    <tr>\n",
       "      <th>Facebook</th>\n",
       "      <td>0.823077</td>\n",
       "      <td>0.176923</td>\n",
       "    </tr>\n",
       "    <tr>\n",
       "      <th>Google</th>\n",
       "      <td>0.843418</td>\n",
       "      <td>0.156582</td>\n",
       "    </tr>\n",
       "    <tr>\n",
       "      <th>LinkedIn</th>\n",
       "      <td>0.841655</td>\n",
       "      <td>0.158345</td>\n",
       "    </tr>\n",
       "    <tr>\n",
       "      <th>Microsoft</th>\n",
       "      <td>0.832439</td>\n",
       "      <td>0.167561</td>\n",
       "    </tr>\n",
       "    <tr>\n",
       "      <th>Netflix</th>\n",
       "      <td>0.798507</td>\n",
       "      <td>0.201493</td>\n",
       "    </tr>\n",
       "    <tr>\n",
       "      <th>Oracle</th>\n",
       "      <td>0.821809</td>\n",
       "      <td>0.178191</td>\n",
       "    </tr>\n",
       "    <tr>\n",
       "      <th>Salesforce</th>\n",
       "      <td>0.863636</td>\n",
       "      <td>0.136364</td>\n",
       "    </tr>\n",
       "    <tr>\n",
       "      <th>Uber</th>\n",
       "      <td>0.828409</td>\n",
       "      <td>0.171591</td>\n",
       "    </tr>\n",
       "  </tbody>\n",
       "</table>\n",
       "</div>"
      ],
      "text/plain": [
       "gender      MaleRatio  FemaleRatio\n",
       "company                           \n",
       "Amazon       0.852818     0.147182\n",
       "Apple        0.844181     0.155819\n",
       "Facebook     0.823077     0.176923\n",
       "Google       0.843418     0.156582\n",
       "LinkedIn     0.841655     0.158345\n",
       "Microsoft    0.832439     0.167561\n",
       "Netflix      0.798507     0.201493\n",
       "Oracle       0.821809     0.178191\n",
       "Salesforce   0.863636     0.136364\n",
       "Uber         0.828409     0.171591"
      ]
     },
     "execution_count": 43,
     "metadata": {},
     "output_type": "execute_result"
    }
   ],
   "source": [
    "genderRatio = df_company.pivot_table(index='company', columns='gender', aggfunc='size')\n",
    "sums = genderRatio[['Female', 'Male']].sum(axis=1)\n",
    "genderRatio['FemaleRatio'] = genderRatio['Female'] / sums\n",
    "genderRatio['MaleRatio'] = genderRatio['Male'] / sums\n",
    "genderRatio[['MaleRatio', 'FemaleRatio']]"
   ]
  },
  {
   "cell_type": "code",
   "execution_count": 51,
   "id": "42000089",
   "metadata": {},
   "outputs": [
    {
     "data": {
      "image/png": "[encoded data removed]",
      "text/plain": [
       "<Figure size 640x480 with 1 Axes>"
      ]
     },
     "metadata": {},
     "output_type": "display_data"
    }
   ],
   "source": [
    "genderRatio[['MaleRatio', 'FemaleRatio']].plot(kind='bar', stacked = True, mark_right=True)\n",
    "\n",
    "plt.title('Gender ratio in top 10 companies', fontweight ='bold')\n",
    "plt.xlabel('Company', fontweight ='bold')\n",
    "plt.xticks(rotation = 45)\n",
    "plt.show()"
   ]
  },
  {
   "attachments": {},
   "cell_type": "markdown",
   "id": "bb22b21b",
   "metadata": {},
   "source": [
    "*Because top 10 companies here are all tech compnies (male dominted), that explains why there is a huge gendep gap, about more than 80% employees are Male. Gender gap does exist, now let's see does gender pay gap exist in these companies.*"
   ]
  },
  {
   "attachments": {},
   "cell_type": "markdown",
   "id": "1c7fd3f6",
   "metadata": {},
   "source": [
    "**Step 5: Find each gender median of total yearly compensation in these top 10. Visualize the data.**"
   ]
  },
  {
   "cell_type": "code",
   "execution_count": 45,
   "id": "53a00341",
   "metadata": {},
   "outputs": [
    {
     "data": {
      "text/html": [
       "<div>\n",
       "<style scoped>\n",
       "    .dataframe tbody tr th:only-of-type {\n",
       "        vertical-align: middle;\n",
       "    }\n",
       "\n",
       "    .dataframe tbody tr th {\n",
       "        vertical-align: top;\n",
       "    }\n",
       "\n",
       "    .dataframe thead th {\n",
       "        text-align: right;\n",
       "    }\n",
       "</style>\n",
       "<table border=\"1\" class=\"dataframe\">\n",
       "  <thead>\n",
       "    <tr style=\"text-align: right;\">\n",
       "      <th></th>\n",
       "      <th>Male</th>\n",
       "      <th>Female</th>\n",
       "    </tr>\n",
       "    <tr>\n",
       "      <th>company</th>\n",
       "      <th></th>\n",
       "      <th></th>\n",
       "    </tr>\n",
       "  </thead>\n",
       "  <tbody>\n",
       "    <tr>\n",
       "      <th>Amazon</th>\n",
       "      <td>207000</td>\n",
       "      <td>200000</td>\n",
       "    </tr>\n",
       "    <tr>\n",
       "      <th>Apple</th>\n",
       "      <td>257000</td>\n",
       "      <td>233000</td>\n",
       "    </tr>\n",
       "    <tr>\n",
       "      <th>Facebook</th>\n",
       "      <td>299000</td>\n",
       "      <td>267000</td>\n",
       "    </tr>\n",
       "    <tr>\n",
       "      <th>Google</th>\n",
       "      <td>255000</td>\n",
       "      <td>240500</td>\n",
       "    </tr>\n",
       "    <tr>\n",
       "      <th>LinkedIn</th>\n",
       "      <td>275000</td>\n",
       "      <td>257000</td>\n",
       "    </tr>\n",
       "    <tr>\n",
       "      <th>Microsoft</th>\n",
       "      <td>190000</td>\n",
       "      <td>178000</td>\n",
       "    </tr>\n",
       "    <tr>\n",
       "      <th>Netflix</th>\n",
       "      <td>474000</td>\n",
       "      <td>432500</td>\n",
       "    </tr>\n",
       "    <tr>\n",
       "      <th>Oracle</th>\n",
       "      <td>195000</td>\n",
       "      <td>177000</td>\n",
       "    </tr>\n",
       "    <tr>\n",
       "      <th>Salesforce</th>\n",
       "      <td>238000</td>\n",
       "      <td>220000</td>\n",
       "    </tr>\n",
       "    <tr>\n",
       "      <th>Uber</th>\n",
       "      <td>278000</td>\n",
       "      <td>245000</td>\n",
       "    </tr>\n",
       "  </tbody>\n",
       "</table>\n",
       "</div>"
      ],
      "text/plain": [
       "              Male  Female\n",
       "company                   \n",
       "Amazon      207000  200000\n",
       "Apple       257000  233000\n",
       "Facebook    299000  267000\n",
       "Google      255000  240500\n",
       "LinkedIn    275000  257000\n",
       "Microsoft   190000  178000\n",
       "Netflix     474000  432500\n",
       "Oracle      195000  177000\n",
       "Salesforce  238000  220000\n",
       "Uber        278000  245000"
      ]
     },
     "execution_count": 45,
     "metadata": {},
     "output_type": "execute_result"
    }
   ],
   "source": [
    "male = df_company[df_company['gender'] == 'Male']\n",
    "maleSalary_median = male.groupby('company')['totalyearlycompensation'].median()\n",
    "maleSalary_median.name = 'Male'\n",
    "\n",
    "female = df_company[df_company['gender'] == 'Female']\n",
    "femaleSalary_median = female.groupby('company')['totalyearlycompensation'].median()\n",
    "femaleSalary_median.name = 'Female'\n",
    "\n",
    "genderSalary_median = pd.concat([maleSalary_median, femaleSalary_median],axis=1)\n",
    "genderSalary_median"
   ]
  },
  {
   "cell_type": "code",
   "execution_count": 49,
   "id": "91b44d66",
   "metadata": {},
   "outputs": [
    {
     "data": {
      "text/plain": [
       "company\n",
       "Amazon         3.500000\n",
       "Google         6.029106\n",
       "Microsoft      6.741573\n",
       "LinkedIn       7.003891\n",
       "Salesforce     8.181818\n",
       "Netflix        9.595376\n",
       "Oracle        10.169492\n",
       "Apple         10.300429\n",
       "Facebook      11.985019\n",
       "Uber          13.469388\n",
       "dtype: float64"
      ]
     },
     "execution_count": 49,
     "metadata": {},
     "output_type": "execute_result"
    }
   ],
   "source": [
    "#Calculate percentage different between male and female\n",
    "percentage_diff = genderSalary_median['Male'] / genderSalary_median['Female'] * 100 - 100\n",
    "percentage_diff.sort_values()"
   ]
  },
  {
   "cell_type": "code",
   "execution_count": 50,
   "id": "e36aa9bc",
   "metadata": {},
   "outputs": [
    {
     "data": {
      "image/png": "[encoded data removed]",
      "text/plain": [
       "<Figure size 640x480 with 1 Axes>"
      ]
     },
     "metadata": {},
     "output_type": "display_data"
    }
   ],
   "source": [
    "x = np.arange(10)\n",
    "plt.bar(x - 0.2, maleSalary_median, 0.4, label='Male')\n",
    "plt.bar(x + 0.2, femaleSalary_median, 0.4, label='Female')\n",
    "\n",
    "plt.xticks(x, genderSalary_median.index, rotation= 45)    \n",
    "plt.xlabel(\"Company\", fontweight ='bold')\n",
    "plt.ylabel(\"Total yearly compenstion\", fontweight ='bold')\n",
    "plt.title(\"Gender total yearly compenstion disparity in top 10 companies\", fontweight ='bold')\n",
    "plt.axis(ymax = 500000)\n",
    "plt.legend()\n",
    "plt.show()"
   ]
  },
  {
   "attachments": {},
   "cell_type": "markdown",
   "id": "cdd6cdaf",
   "metadata": {},
   "source": [
    "It is clearly to notice that there exists gender pay gap among all the top 10 companies. \n",
    "\n",
    "- The pay gap is very notable, total compensation percentage difference range is from 3.5% (Amazon) to 13.5% (Uber). \n",
    "\n",
    "- Except for Amazon's total compensation percentage difference is quite low (only 3.5%), every other companies have noticeable gender pay gap."
   ]
  },
  {
   "attachments": {},
   "cell_type": "markdown",
   "id": "ad8cb5d4",
   "metadata": {},
   "source": [
    "### Conclusion: \n",
    "\n",
    "- Top 10 companies based on the number of high-paying jobs are: Amazon, Google, Facebook, Microsoft, Apple, Uber, Salesforce, LinkedIn, Oracle and Netflix. If total compensation is your aim for your career, you should try to apply for these companies. They all have total yearly compensation higher than the median of all data (except for Oracle and Microsoft).\n",
    "\n",
    "- Becuse these top 10 companies are all tech companies, there exists huge gender gap and gender pay gap. Attendents (especially Female) should really consider before applying, they may experience gender bias in the future."
   ]
  },
  {
   "cell_type": "markdown",
   "id": "d9e62177",
   "metadata": {},
   "source": [
    "# Look back for this project"
   ]
  },
  {
   "cell_type": "markdown",
   "id": "9ecc5a25",
   "metadata": {},
   "source": [
    "### Difficulties:\n",
    "- Finding and selecting a good and suitable dataset took us a large amount of time.\n",
    "- Thinking and write down a question is also a hard thing, sometimes, we have many useful question but our knowledge now is not good enough to solve it.\n",
    "- Almost the dataset we found, the number of blank. NaN value is many.\n",
    "- This dataset includes 29 columns, it is also a hard maths for us to handle all.\n",
    "\n",
    "### Lessons can earn:\n",
    "- It is a good chance for us to train our brain practicing the process how to solve a problem strp by step.\n",
    "- Have a good grasp of visualizing the data for readers can understand by seeing charts,...\n",
    "- Be patient and always think a trouble in different aspects.\n",
    "\n",
    "### If we have more time:\n",
    "- Try our best to apply some machine learning in the project\n",
    "- Think more deeply about the noise, NaN value\n",
    "- Try to explore more column in the dataset"
   ]
  },
  {
   "cell_type": "markdown",
   "id": "1456457d",
   "metadata": {},
   "source": [
    "# References:\n",
    "- Link slides of Theory Teacher: https://drive.google.com/drive/folders/1WBgeLNoWVuWRaGrp2i6Z4tAEn8IpFqpq\n",
    "- How to draw Multiple bar plots: https://www.geeksforgeeks.org/bar-plot-in-matplotlib/ \n",
    "- Kaggle dataset: https://www.kaggle.com/datasets/jackogozaly/data-science-and-stem-salaries/discussion?select=Levels_Fyi_Salary_Data.csv\n",
    "- All knowledge on theory class of Teacher. Nghĩa\n",
    "- Lab 01, Lab 02, Lab 03 of Instructor. Long"
   ]
  },
  {
   "cell_type": "markdown",
   "id": "006d0d71",
   "metadata": {},
   "source": [
    "# THANK YOU TEACHERS FOR ALL THE SUPPORT FOR US."
   ]
  }
 ],
 "metadata": {
  "kernelspec": {
   "display_name": "Python 3 (ipykernel)",
   "language": "python",
   "name": "python3"
  },
  "language_info": {
   "codemirror_mode": {
    "name": "ipython",
    "version": 3
   },
   "file_extension": ".py",
   "mimetype": "text/x-python",
   "name": "python",
   "nbconvert_exporter": "python",
   "pygments_lexer": "ipython3",
   "version": "3.8.8"
  },
  "vscode": {
   "interpreter": {
    "hash": "8395ca0b5873fc3de583ead4c56c35736342a2bed86f544c50a56c83355a692e"
   }
  }
 },
 "nbformat": 4,
 "nbformat_minor": 5
}
