{
 "cells": [
  {
   "cell_type": "markdown",
   "id": "b7e85076",
   "metadata": {},
   "source": [
    "# FINAL PROJECT - Data Analysis"
   ]
  },
  {
   "cell_type": "markdown",
   "id": "6aaf789e",
   "metadata": {},
   "source": [
    "|ID's Student|Fullname|Contribute rate (%)|Tasks|\n",
    "|---------------|---------|---------------------|---------|\n",
    "|20127028|Võ Văn Hoàng        |100%|Exploratory Data Analysis|\n",
    "|20127054|Ngô Văn Trung Nguyên|100%|Exploratory Data Analysis|\n"
   ]
  },
  {
   "cell_type": "markdown",
   "id": "93e676fe",
   "metadata": {},
   "source": [
    "***The dataset was downloaded by us on the website of Kaggle which is an open source and free for everyone to access and download:***\n",
    "***https://www.kaggle.com/datasets/jackogozaly/data-science-and-stem-salaries/discussion?select=Levels_Fyi_Salary_Data.csv***"
   ]
  },
  {
   "cell_type": "markdown",
   "id": "0c2d349c",
   "metadata": {},
   "source": [
    "---"
   ]
  },
  {
   "cell_type": "markdown",
   "id": "8969348e",
   "metadata": {},
   "source": [
    "**<font size=\"5\">Explore Data</font>**"
   ]
  },
  {
   "cell_type": "markdown",
   "id": "e8b046ba",
   "metadata": {},
   "source": [
    "### Environment"
   ]
  },
  {
   "cell_type": "code",
   "execution_count": 2,
   "id": "05051f81",
   "metadata": {},
   "outputs": [
    {
     "data": {
      "text/plain": [
       "'c:\\\\Users\\\\42nvt\\\\miniconda3\\\\envs\\\\min_ds-env\\\\python.exe'"
      ]
     },
     "execution_count": 2,
     "metadata": {},
     "output_type": "execute_result"
    }
   ],
   "source": [
    "import sys\n",
    "sys.executable"
   ]
  },
  {
   "cell_type": "code",
   "execution_count": 3,
   "id": "088a6195",
   "metadata": {},
   "outputs": [],
   "source": [
    "import pandas as pd\n",
    "import numpy as np\n",
    "import matplotlib.pyplot as plt\n",
    "from collections import Counter\n",
    "import datetime\n",
    "import statistics\n",
    "import seaborn as sns\n",
    "from matplotlib import cycler"
   ]
  },
  {
   "cell_type": "markdown",
   "id": "33ba28a1",
   "metadata": {},
   "source": [
    "### Data Analysis Checklist:\n",
    "- Check the data type whether it is matched with each attribute or not.\n",
    "- Check the null values and the duplicate values.\n",
    "- Check the outlier values.\n",
    "- Check univariate and multivariate correlations."
   ]
  },
  {
   "cell_type": "markdown",
   "id": "8877f83a",
   "metadata": {},
   "source": [
    "### Questions about data set:\n",
    "- Did you clearly understand the attributes in your data sets?\n",
    "- Have you considered whether the question can be answered with the available data?"
   ]
  },
  {
   "cell_type": "markdown",
   "id": "d731a122",
   "metadata": {},
   "source": [
    "### Data preprocessing:\n",
    "#### Read data from file:"
   ]
  },
  {
   "cell_type": "code",
   "execution_count": 37,
   "id": "205da3c1",
   "metadata": {},
   "outputs": [
    {
     "name": "stdout",
     "output_type": "stream",
     "text": [
      "Number of Rows:  62642\n",
      "Number of Columns:  29\n"
     ]
    },
    {
     "data": {
      "text/html": [
       "<div>\n",
       "<style scoped>\n",
       "    .dataframe tbody tr th:only-of-type {\n",
       "        vertical-align: middle;\n",
       "    }\n",
       "\n",
       "    .dataframe tbody tr th {\n",
       "        vertical-align: top;\n",
       "    }\n",
       "\n",
       "    .dataframe thead th {\n",
       "        text-align: right;\n",
       "    }\n",
       "</style>\n",
       "<table border=\"1\" class=\"dataframe\">\n",
       "  <thead>\n",
       "    <tr style=\"text-align: right;\">\n",
       "      <th></th>\n",
       "      <th>timestamp</th>\n",
       "      <th>company</th>\n",
       "      <th>level</th>\n",
       "      <th>title</th>\n",
       "      <th>totalyearlycompensation</th>\n",
       "      <th>location</th>\n",
       "      <th>yearsofexperience</th>\n",
       "      <th>yearsatcompany</th>\n",
       "      <th>tag</th>\n",
       "      <th>basesalary</th>\n",
       "      <th>...</th>\n",
       "      <th>Doctorate_Degree</th>\n",
       "      <th>Highschool</th>\n",
       "      <th>Some_College</th>\n",
       "      <th>Race_Asian</th>\n",
       "      <th>Race_White</th>\n",
       "      <th>Race_Two_Or_More</th>\n",
       "      <th>Race_Black</th>\n",
       "      <th>Race_Hispanic</th>\n",
       "      <th>Race</th>\n",
       "      <th>Education</th>\n",
       "    </tr>\n",
       "  </thead>\n",
       "  <tbody>\n",
       "    <tr>\n",
       "      <th>0</th>\n",
       "      <td>6/7/2017 11:33:27</td>\n",
       "      <td>Oracle</td>\n",
       "      <td>L3</td>\n",
       "      <td>Product Manager</td>\n",
       "      <td>127000</td>\n",
       "      <td>Redwood City, CA</td>\n",
       "      <td>1.5</td>\n",
       "      <td>1.5</td>\n",
       "      <td>NaN</td>\n",
       "      <td>107000.0</td>\n",
       "      <td>...</td>\n",
       "      <td>0</td>\n",
       "      <td>0</td>\n",
       "      <td>0</td>\n",
       "      <td>0</td>\n",
       "      <td>0</td>\n",
       "      <td>0</td>\n",
       "      <td>0</td>\n",
       "      <td>0</td>\n",
       "      <td>NaN</td>\n",
       "      <td>NaN</td>\n",
       "    </tr>\n",
       "    <tr>\n",
       "      <th>1</th>\n",
       "      <td>6/10/2017 17:11:29</td>\n",
       "      <td>eBay</td>\n",
       "      <td>SE 2</td>\n",
       "      <td>Software Engineer</td>\n",
       "      <td>100000</td>\n",
       "      <td>San Francisco, CA</td>\n",
       "      <td>5.0</td>\n",
       "      <td>3.0</td>\n",
       "      <td>NaN</td>\n",
       "      <td>0.0</td>\n",
       "      <td>...</td>\n",
       "      <td>0</td>\n",
       "      <td>0</td>\n",
       "      <td>0</td>\n",
       "      <td>0</td>\n",
       "      <td>0</td>\n",
       "      <td>0</td>\n",
       "      <td>0</td>\n",
       "      <td>0</td>\n",
       "      <td>NaN</td>\n",
       "      <td>NaN</td>\n",
       "    </tr>\n",
       "    <tr>\n",
       "      <th>2</th>\n",
       "      <td>6/11/2017 14:53:57</td>\n",
       "      <td>Amazon</td>\n",
       "      <td>L7</td>\n",
       "      <td>Product Manager</td>\n",
       "      <td>310000</td>\n",
       "      <td>Seattle, WA</td>\n",
       "      <td>8.0</td>\n",
       "      <td>0.0</td>\n",
       "      <td>NaN</td>\n",
       "      <td>155000.0</td>\n",
       "      <td>...</td>\n",
       "      <td>0</td>\n",
       "      <td>0</td>\n",
       "      <td>0</td>\n",
       "      <td>0</td>\n",
       "      <td>0</td>\n",
       "      <td>0</td>\n",
       "      <td>0</td>\n",
       "      <td>0</td>\n",
       "      <td>NaN</td>\n",
       "      <td>NaN</td>\n",
       "    </tr>\n",
       "    <tr>\n",
       "      <th>3</th>\n",
       "      <td>6/17/2017 0:23:14</td>\n",
       "      <td>Apple</td>\n",
       "      <td>M1</td>\n",
       "      <td>Software Engineering Manager</td>\n",
       "      <td>372000</td>\n",
       "      <td>Sunnyvale, CA</td>\n",
       "      <td>7.0</td>\n",
       "      <td>5.0</td>\n",
       "      <td>NaN</td>\n",
       "      <td>157000.0</td>\n",
       "      <td>...</td>\n",
       "      <td>0</td>\n",
       "      <td>0</td>\n",
       "      <td>0</td>\n",
       "      <td>0</td>\n",
       "      <td>0</td>\n",
       "      <td>0</td>\n",
       "      <td>0</td>\n",
       "      <td>0</td>\n",
       "      <td>NaN</td>\n",
       "      <td>NaN</td>\n",
       "    </tr>\n",
       "    <tr>\n",
       "      <th>4</th>\n",
       "      <td>6/20/2017 10:58:51</td>\n",
       "      <td>Microsoft</td>\n",
       "      <td>60</td>\n",
       "      <td>Software Engineer</td>\n",
       "      <td>157000</td>\n",
       "      <td>Mountain View, CA</td>\n",
       "      <td>5.0</td>\n",
       "      <td>3.0</td>\n",
       "      <td>NaN</td>\n",
       "      <td>0.0</td>\n",
       "      <td>...</td>\n",
       "      <td>0</td>\n",
       "      <td>0</td>\n",
       "      <td>0</td>\n",
       "      <td>0</td>\n",
       "      <td>0</td>\n",
       "      <td>0</td>\n",
       "      <td>0</td>\n",
       "      <td>0</td>\n",
       "      <td>NaN</td>\n",
       "      <td>NaN</td>\n",
       "    </tr>\n",
       "  </tbody>\n",
       "</table>\n",
       "<p>5 rows × 29 columns</p>\n",
       "</div>"
      ],
      "text/plain": [
       "            timestamp    company level                         title  \\\n",
       "0   6/7/2017 11:33:27     Oracle    L3               Product Manager   \n",
       "1  6/10/2017 17:11:29       eBay  SE 2             Software Engineer   \n",
       "2  6/11/2017 14:53:57     Amazon    L7               Product Manager   \n",
       "3   6/17/2017 0:23:14      Apple    M1  Software Engineering Manager   \n",
       "4  6/20/2017 10:58:51  Microsoft    60             Software Engineer   \n",
       "\n",
       "   totalyearlycompensation           location  yearsofexperience  \\\n",
       "0                   127000   Redwood City, CA                1.5   \n",
       "1                   100000  San Francisco, CA                5.0   \n",
       "2                   310000        Seattle, WA                8.0   \n",
       "3                   372000      Sunnyvale, CA                7.0   \n",
       "4                   157000  Mountain View, CA                5.0   \n",
       "\n",
       "   yearsatcompany  tag  basesalary  ...  Doctorate_Degree  Highschool  \\\n",
       "0             1.5  NaN    107000.0  ...                 0           0   \n",
       "1             3.0  NaN         0.0  ...                 0           0   \n",
       "2             0.0  NaN    155000.0  ...                 0           0   \n",
       "3             5.0  NaN    157000.0  ...                 0           0   \n",
       "4             3.0  NaN         0.0  ...                 0           0   \n",
       "\n",
       "  Some_College Race_Asian  Race_White  Race_Two_Or_More  Race_Black  \\\n",
       "0            0          0           0                 0           0   \n",
       "1            0          0           0                 0           0   \n",
       "2            0          0           0                 0           0   \n",
       "3            0          0           0                 0           0   \n",
       "4            0          0           0                 0           0   \n",
       "\n",
       "   Race_Hispanic  Race  Education  \n",
       "0              0   NaN        NaN  \n",
       "1              0   NaN        NaN  \n",
       "2              0   NaN        NaN  \n",
       "3              0   NaN        NaN  \n",
       "4              0   NaN        NaN  \n",
       "\n",
       "[5 rows x 29 columns]"
      ]
     },
     "execution_count": 37,
     "metadata": {},
     "output_type": "execute_result"
    }
   ],
   "source": [
    "salary_df = pd.read_csv('Levels_Fyi_Salary_Data.csv')\n",
    "rows, cols = salary_df.shape\n",
    "print('Number of Rows: ', rows)\n",
    "print('Number of Columns: ', cols)\n",
    "salary_df.head()"
   ]
  },
  {
   "cell_type": "markdown",
   "id": "99b15d6c",
   "metadata": {},
   "source": [
    "# Content of each column"
   ]
  },
  {
   "cell_type": "code",
   "execution_count": 5,
   "id": "f26b095b",
   "metadata": {},
   "outputs": [
    {
     "data": {
      "text/plain": [
       "Index(['timestamp', 'company', 'level', 'title', 'totalyearlycompensation',\n",
       "       'location', 'yearsofexperience', 'yearsatcompany', 'tag', 'basesalary',\n",
       "       'stockgrantvalue', 'bonus', 'gender', 'otherdetails', 'cityid', 'dmaid',\n",
       "       'rowNumber', 'Masters_Degree', 'Bachelors_Degree', 'Doctorate_Degree',\n",
       "       'Highschool', 'Some_College', 'Race_Asian', 'Race_White',\n",
       "       'Race_Two_Or_More', 'Race_Black', 'Race_Hispanic', 'Race', 'Education'],\n",
       "      dtype='object')"
      ]
     },
     "execution_count": 5,
     "metadata": {},
     "output_type": "execute_result"
    }
   ],
   "source": [
    "salary_df.columns"
   ]
  },
  {
   "cell_type": "markdown",
   "id": "6996082a",
   "metadata": {},
   "source": [
    "# Definition of each column:"
   ]
  },
  {
   "cell_type": "markdown",
   "id": "e9a13bc6",
   "metadata": {},
   "source": [
    "|Order|Name of column|Meaning|\n",
    "|-----|--------------|-------|\n",
    "|1|timestamp|Date and time that information was recorded|\n",
    "|2|company|Name of woring company|\n",
    "|3|level|Level in working job|\n",
    "|4|title|Job position|\n",
    "|5|totalyearlycompensation|The final salary received each year($)|\n",
    "|6|location|Working place|\n",
    "|7|yearsofexperience|Number of experience years|\n",
    "|8|yearsatcompany|Number of years working for that company|\n",
    "|9|tag|Type of work|\n",
    "|10|basesalary|The raw salary|\n",
    "|11|stockgrantvalue|Rewarded value by stock|\n",
    "|12|bonus|Rewarded money|\n",
    "|13|gender|Male or female|\n",
    "|14|otherdetails|More description about the job|\n",
    "|15|cityid|ID of the city|\n",
    "|16|dmaid|Designated Market Area ID|\n",
    "|17|rowNumber|Number of rows|\n",
    "|18|Masters_Degree|Have Master Degree or not|\n",
    "|19|Bachelors_Degree|Have Bachelors Degree or not|\n",
    "|20|Doctorate_Degree|Have Doctorate Degree or not|\n",
    "|21|Highschool|Graduated High School or not|\n",
    "|22|Some_College|Studied in any college or not|\n",
    "|23|Race_Asian|Asian|\n",
    "|24|Race_White|Citizens who have white race|\n",
    "|25|Race_Two_Or_More|Have 2 or more races|\n",
    "|26|Race_Black|Citizens who have black race|\n",
    "|27|Race_Hispanic|American with the root of Latinos or Spanish|\n",
    "|28|Race|Nation ethnic|\n",
    "|29|Education|Level of education|\n",
    "\n",
    "\n"
   ]
  },
  {
   "cell_type": "markdown",
   "id": "58cd0d60",
   "metadata": {},
   "source": [
    "# Is there any redudant or unnecessary column data?\n"
   ]
  },
  {
   "cell_type": "markdown",
   "id": "8ee979fe",
   "metadata": {},
   "source": [
    "As we can see, 'level', 'cityid', 'dmaid', 'rowNumber', 'Race_Asian', 'Race_White', 'Race_Two_Or_More', 'Race_Black', 'Race_Hispanic' are redudant through our analyse, because:\n",
    "- fff\n",
    "- ffff\n",
    "- ffff\n",
    "- fffff\n",
    "- fffff\n",
    "- đfff"
   ]
  },
  {
   "cell_type": "code",
   "execution_count": 6,
   "id": "61b27f0c",
   "metadata": {},
   "outputs": [
    {
     "data": {
      "text/html": [
       "<div>\n",
       "<style scoped>\n",
       "    .dataframe tbody tr th:only-of-type {\n",
       "        vertical-align: middle;\n",
       "    }\n",
       "\n",
       "    .dataframe tbody tr th {\n",
       "        vertical-align: top;\n",
       "    }\n",
       "\n",
       "    .dataframe thead th {\n",
       "        text-align: right;\n",
       "    }\n",
       "</style>\n",
       "<table border=\"1\" class=\"dataframe\">\n",
       "  <thead>\n",
       "    <tr style=\"text-align: right;\">\n",
       "      <th></th>\n",
       "      <th>timestamp</th>\n",
       "      <th>company</th>\n",
       "      <th>title</th>\n",
       "      <th>totalyearlycompensation</th>\n",
       "      <th>location</th>\n",
       "      <th>yearsofexperience</th>\n",
       "      <th>yearsatcompany</th>\n",
       "      <th>tag</th>\n",
       "      <th>basesalary</th>\n",
       "      <th>stockgrantvalue</th>\n",
       "      <th>bonus</th>\n",
       "      <th>gender</th>\n",
       "      <th>otherdetails</th>\n",
       "      <th>Masters_Degree</th>\n",
       "      <th>Bachelors_Degree</th>\n",
       "      <th>Doctorate_Degree</th>\n",
       "      <th>Highschool</th>\n",
       "      <th>Some_College</th>\n",
       "      <th>Race</th>\n",
       "      <th>Education</th>\n",
       "    </tr>\n",
       "  </thead>\n",
       "  <tbody>\n",
       "    <tr>\n",
       "      <th>0</th>\n",
       "      <td>6/7/2017 11:33:27</td>\n",
       "      <td>Oracle</td>\n",
       "      <td>Product Manager</td>\n",
       "      <td>127000</td>\n",
       "      <td>Redwood City, CA</td>\n",
       "      <td>1.5</td>\n",
       "      <td>1.5</td>\n",
       "      <td>NaN</td>\n",
       "      <td>107000.0</td>\n",
       "      <td>20000.0</td>\n",
       "      <td>10000.0</td>\n",
       "      <td>NaN</td>\n",
       "      <td>NaN</td>\n",
       "      <td>0</td>\n",
       "      <td>0</td>\n",
       "      <td>0</td>\n",
       "      <td>0</td>\n",
       "      <td>0</td>\n",
       "      <td>NaN</td>\n",
       "      <td>NaN</td>\n",
       "    </tr>\n",
       "    <tr>\n",
       "      <th>1</th>\n",
       "      <td>6/10/2017 17:11:29</td>\n",
       "      <td>eBay</td>\n",
       "      <td>Software Engineer</td>\n",
       "      <td>100000</td>\n",
       "      <td>San Francisco, CA</td>\n",
       "      <td>5.0</td>\n",
       "      <td>3.0</td>\n",
       "      <td>NaN</td>\n",
       "      <td>0.0</td>\n",
       "      <td>0.0</td>\n",
       "      <td>0.0</td>\n",
       "      <td>NaN</td>\n",
       "      <td>NaN</td>\n",
       "      <td>0</td>\n",
       "      <td>0</td>\n",
       "      <td>0</td>\n",
       "      <td>0</td>\n",
       "      <td>0</td>\n",
       "      <td>NaN</td>\n",
       "      <td>NaN</td>\n",
       "    </tr>\n",
       "    <tr>\n",
       "      <th>2</th>\n",
       "      <td>6/11/2017 14:53:57</td>\n",
       "      <td>Amazon</td>\n",
       "      <td>Product Manager</td>\n",
       "      <td>310000</td>\n",
       "      <td>Seattle, WA</td>\n",
       "      <td>8.0</td>\n",
       "      <td>0.0</td>\n",
       "      <td>NaN</td>\n",
       "      <td>155000.0</td>\n",
       "      <td>0.0</td>\n",
       "      <td>0.0</td>\n",
       "      <td>NaN</td>\n",
       "      <td>NaN</td>\n",
       "      <td>0</td>\n",
       "      <td>0</td>\n",
       "      <td>0</td>\n",
       "      <td>0</td>\n",
       "      <td>0</td>\n",
       "      <td>NaN</td>\n",
       "      <td>NaN</td>\n",
       "    </tr>\n",
       "    <tr>\n",
       "      <th>3</th>\n",
       "      <td>6/17/2017 0:23:14</td>\n",
       "      <td>Apple</td>\n",
       "      <td>Software Engineering Manager</td>\n",
       "      <td>372000</td>\n",
       "      <td>Sunnyvale, CA</td>\n",
       "      <td>7.0</td>\n",
       "      <td>5.0</td>\n",
       "      <td>NaN</td>\n",
       "      <td>157000.0</td>\n",
       "      <td>180000.0</td>\n",
       "      <td>35000.0</td>\n",
       "      <td>NaN</td>\n",
       "      <td>NaN</td>\n",
       "      <td>0</td>\n",
       "      <td>0</td>\n",
       "      <td>0</td>\n",
       "      <td>0</td>\n",
       "      <td>0</td>\n",
       "      <td>NaN</td>\n",
       "      <td>NaN</td>\n",
       "    </tr>\n",
       "    <tr>\n",
       "      <th>4</th>\n",
       "      <td>6/20/2017 10:58:51</td>\n",
       "      <td>Microsoft</td>\n",
       "      <td>Software Engineer</td>\n",
       "      <td>157000</td>\n",
       "      <td>Mountain View, CA</td>\n",
       "      <td>5.0</td>\n",
       "      <td>3.0</td>\n",
       "      <td>NaN</td>\n",
       "      <td>0.0</td>\n",
       "      <td>0.0</td>\n",
       "      <td>0.0</td>\n",
       "      <td>NaN</td>\n",
       "      <td>NaN</td>\n",
       "      <td>0</td>\n",
       "      <td>0</td>\n",
       "      <td>0</td>\n",
       "      <td>0</td>\n",
       "      <td>0</td>\n",
       "      <td>NaN</td>\n",
       "      <td>NaN</td>\n",
       "    </tr>\n",
       "  </tbody>\n",
       "</table>\n",
       "</div>"
      ],
      "text/plain": [
       "            timestamp    company                         title  \\\n",
       "0   6/7/2017 11:33:27     Oracle               Product Manager   \n",
       "1  6/10/2017 17:11:29       eBay             Software Engineer   \n",
       "2  6/11/2017 14:53:57     Amazon               Product Manager   \n",
       "3   6/17/2017 0:23:14      Apple  Software Engineering Manager   \n",
       "4  6/20/2017 10:58:51  Microsoft             Software Engineer   \n",
       "\n",
       "   totalyearlycompensation           location  yearsofexperience  \\\n",
       "0                   127000   Redwood City, CA                1.5   \n",
       "1                   100000  San Francisco, CA                5.0   \n",
       "2                   310000        Seattle, WA                8.0   \n",
       "3                   372000      Sunnyvale, CA                7.0   \n",
       "4                   157000  Mountain View, CA                5.0   \n",
       "\n",
       "   yearsatcompany  tag  basesalary  stockgrantvalue    bonus gender  \\\n",
       "0             1.5  NaN    107000.0          20000.0  10000.0    NaN   \n",
       "1             3.0  NaN         0.0              0.0      0.0    NaN   \n",
       "2             0.0  NaN    155000.0              0.0      0.0    NaN   \n",
       "3             5.0  NaN    157000.0         180000.0  35000.0    NaN   \n",
       "4             3.0  NaN         0.0              0.0      0.0    NaN   \n",
       "\n",
       "  otherdetails  Masters_Degree  Bachelors_Degree  Doctorate_Degree  \\\n",
       "0          NaN               0                 0                 0   \n",
       "1          NaN               0                 0                 0   \n",
       "2          NaN               0                 0                 0   \n",
       "3          NaN               0                 0                 0   \n",
       "4          NaN               0                 0                 0   \n",
       "\n",
       "   Highschool  Some_College Race Education  \n",
       "0           0             0  NaN       NaN  \n",
       "1           0             0  NaN       NaN  \n",
       "2           0             0  NaN       NaN  \n",
       "3           0             0  NaN       NaN  \n",
       "4           0             0  NaN       NaN  "
      ]
     },
     "execution_count": 6,
     "metadata": {},
     "output_type": "execute_result"
    }
   ],
   "source": [
    "drop_cols = [\"level\", \"cityid\", \"dmaid\", 'rowNumber', \"Race_Asian\", \"Race_White\", \"Race_Two_Or_More\", \"Race_Black\", \"Race_Hispanic\" ]\n",
    "salary_df.drop(drop_cols, axis=1, inplace=True)\n",
    "salary_df.head()\n"
   ]
  },
  {
   "cell_type": "markdown",
   "id": "3488ba1b",
   "metadata": {},
   "source": [
    "**Let's check again the data:**"
   ]
  },
  {
   "cell_type": "code",
   "execution_count": 7,
   "id": "d6fd5039",
   "metadata": {},
   "outputs": [
    {
     "name": "stdout",
     "output_type": "stream",
     "text": [
      "Number of Rows:  62642\n",
      "Number of Columns:  20\n"
     ]
    },
    {
     "data": {
      "text/html": [
       "<div>\n",
       "<style scoped>\n",
       "    .dataframe tbody tr th:only-of-type {\n",
       "        vertical-align: middle;\n",
       "    }\n",
       "\n",
       "    .dataframe tbody tr th {\n",
       "        vertical-align: top;\n",
       "    }\n",
       "\n",
       "    .dataframe thead th {\n",
       "        text-align: right;\n",
       "    }\n",
       "</style>\n",
       "<table border=\"1\" class=\"dataframe\">\n",
       "  <thead>\n",
       "    <tr style=\"text-align: right;\">\n",
       "      <th></th>\n",
       "      <th>timestamp</th>\n",
       "      <th>company</th>\n",
       "      <th>title</th>\n",
       "      <th>totalyearlycompensation</th>\n",
       "      <th>location</th>\n",
       "      <th>yearsofexperience</th>\n",
       "      <th>yearsatcompany</th>\n",
       "      <th>tag</th>\n",
       "      <th>basesalary</th>\n",
       "      <th>stockgrantvalue</th>\n",
       "      <th>bonus</th>\n",
       "      <th>gender</th>\n",
       "      <th>otherdetails</th>\n",
       "      <th>Masters_Degree</th>\n",
       "      <th>Bachelors_Degree</th>\n",
       "      <th>Doctorate_Degree</th>\n",
       "      <th>Highschool</th>\n",
       "      <th>Some_College</th>\n",
       "      <th>Race</th>\n",
       "      <th>Education</th>\n",
       "    </tr>\n",
       "  </thead>\n",
       "  <tbody>\n",
       "    <tr>\n",
       "      <th>0</th>\n",
       "      <td>6/7/2017 11:33:27</td>\n",
       "      <td>Oracle</td>\n",
       "      <td>Product Manager</td>\n",
       "      <td>127000</td>\n",
       "      <td>Redwood City, CA</td>\n",
       "      <td>1.5</td>\n",
       "      <td>1.5</td>\n",
       "      <td>NaN</td>\n",
       "      <td>107000.0</td>\n",
       "      <td>20000.0</td>\n",
       "      <td>10000.0</td>\n",
       "      <td>NaN</td>\n",
       "      <td>NaN</td>\n",
       "      <td>0</td>\n",
       "      <td>0</td>\n",
       "      <td>0</td>\n",
       "      <td>0</td>\n",
       "      <td>0</td>\n",
       "      <td>NaN</td>\n",
       "      <td>NaN</td>\n",
       "    </tr>\n",
       "    <tr>\n",
       "      <th>1</th>\n",
       "      <td>6/10/2017 17:11:29</td>\n",
       "      <td>eBay</td>\n",
       "      <td>Software Engineer</td>\n",
       "      <td>100000</td>\n",
       "      <td>San Francisco, CA</td>\n",
       "      <td>5.0</td>\n",
       "      <td>3.0</td>\n",
       "      <td>NaN</td>\n",
       "      <td>0.0</td>\n",
       "      <td>0.0</td>\n",
       "      <td>0.0</td>\n",
       "      <td>NaN</td>\n",
       "      <td>NaN</td>\n",
       "      <td>0</td>\n",
       "      <td>0</td>\n",
       "      <td>0</td>\n",
       "      <td>0</td>\n",
       "      <td>0</td>\n",
       "      <td>NaN</td>\n",
       "      <td>NaN</td>\n",
       "    </tr>\n",
       "    <tr>\n",
       "      <th>2</th>\n",
       "      <td>6/11/2017 14:53:57</td>\n",
       "      <td>Amazon</td>\n",
       "      <td>Product Manager</td>\n",
       "      <td>310000</td>\n",
       "      <td>Seattle, WA</td>\n",
       "      <td>8.0</td>\n",
       "      <td>0.0</td>\n",
       "      <td>NaN</td>\n",
       "      <td>155000.0</td>\n",
       "      <td>0.0</td>\n",
       "      <td>0.0</td>\n",
       "      <td>NaN</td>\n",
       "      <td>NaN</td>\n",
       "      <td>0</td>\n",
       "      <td>0</td>\n",
       "      <td>0</td>\n",
       "      <td>0</td>\n",
       "      <td>0</td>\n",
       "      <td>NaN</td>\n",
       "      <td>NaN</td>\n",
       "    </tr>\n",
       "    <tr>\n",
       "      <th>3</th>\n",
       "      <td>6/17/2017 0:23:14</td>\n",
       "      <td>Apple</td>\n",
       "      <td>Software Engineering Manager</td>\n",
       "      <td>372000</td>\n",
       "      <td>Sunnyvale, CA</td>\n",
       "      <td>7.0</td>\n",
       "      <td>5.0</td>\n",
       "      <td>NaN</td>\n",
       "      <td>157000.0</td>\n",
       "      <td>180000.0</td>\n",
       "      <td>35000.0</td>\n",
       "      <td>NaN</td>\n",
       "      <td>NaN</td>\n",
       "      <td>0</td>\n",
       "      <td>0</td>\n",
       "      <td>0</td>\n",
       "      <td>0</td>\n",
       "      <td>0</td>\n",
       "      <td>NaN</td>\n",
       "      <td>NaN</td>\n",
       "    </tr>\n",
       "    <tr>\n",
       "      <th>4</th>\n",
       "      <td>6/20/2017 10:58:51</td>\n",
       "      <td>Microsoft</td>\n",
       "      <td>Software Engineer</td>\n",
       "      <td>157000</td>\n",
       "      <td>Mountain View, CA</td>\n",
       "      <td>5.0</td>\n",
       "      <td>3.0</td>\n",
       "      <td>NaN</td>\n",
       "      <td>0.0</td>\n",
       "      <td>0.0</td>\n",
       "      <td>0.0</td>\n",
       "      <td>NaN</td>\n",
       "      <td>NaN</td>\n",
       "      <td>0</td>\n",
       "      <td>0</td>\n",
       "      <td>0</td>\n",
       "      <td>0</td>\n",
       "      <td>0</td>\n",
       "      <td>NaN</td>\n",
       "      <td>NaN</td>\n",
       "    </tr>\n",
       "  </tbody>\n",
       "</table>\n",
       "</div>"
      ],
      "text/plain": [
       "            timestamp    company                         title  \\\n",
       "0   6/7/2017 11:33:27     Oracle               Product Manager   \n",
       "1  6/10/2017 17:11:29       eBay             Software Engineer   \n",
       "2  6/11/2017 14:53:57     Amazon               Product Manager   \n",
       "3   6/17/2017 0:23:14      Apple  Software Engineering Manager   \n",
       "4  6/20/2017 10:58:51  Microsoft             Software Engineer   \n",
       "\n",
       "   totalyearlycompensation           location  yearsofexperience  \\\n",
       "0                   127000   Redwood City, CA                1.5   \n",
       "1                   100000  San Francisco, CA                5.0   \n",
       "2                   310000        Seattle, WA                8.0   \n",
       "3                   372000      Sunnyvale, CA                7.0   \n",
       "4                   157000  Mountain View, CA                5.0   \n",
       "\n",
       "   yearsatcompany  tag  basesalary  stockgrantvalue    bonus gender  \\\n",
       "0             1.5  NaN    107000.0          20000.0  10000.0    NaN   \n",
       "1             3.0  NaN         0.0              0.0      0.0    NaN   \n",
       "2             0.0  NaN    155000.0              0.0      0.0    NaN   \n",
       "3             5.0  NaN    157000.0         180000.0  35000.0    NaN   \n",
       "4             3.0  NaN         0.0              0.0      0.0    NaN   \n",
       "\n",
       "  otherdetails  Masters_Degree  Bachelors_Degree  Doctorate_Degree  \\\n",
       "0          NaN               0                 0                 0   \n",
       "1          NaN               0                 0                 0   \n",
       "2          NaN               0                 0                 0   \n",
       "3          NaN               0                 0                 0   \n",
       "4          NaN               0                 0                 0   \n",
       "\n",
       "   Highschool  Some_College Race Education  \n",
       "0           0             0  NaN       NaN  \n",
       "1           0             0  NaN       NaN  \n",
       "2           0             0  NaN       NaN  \n",
       "3           0             0  NaN       NaN  \n",
       "4           0             0  NaN       NaN  "
      ]
     },
     "execution_count": 7,
     "metadata": {},
     "output_type": "execute_result"
    }
   ],
   "source": [
    "rows, cols = salary_df.shape\n",
    "print('Number of Rows: ', rows)\n",
    "print('Number of Columns: ', cols)\n",
    "salary_df.head()"
   ]
  },
  {
   "cell_type": "markdown",
   "id": "52861e7f",
   "metadata": {},
   "source": [
    "---"
   ]
  },
  {
   "cell_type": "markdown",
   "id": "357e92d3",
   "metadata": {},
   "source": [
    "# Does the data have duplicated rows?"
   ]
  },
  {
   "cell_type": "code",
   "execution_count": 8,
   "id": "dbdeb08a",
   "metadata": {},
   "outputs": [
    {
     "name": "stdout",
     "output_type": "stream",
     "text": [
      "Number of duplicated index of results DataFrame:  0\n"
     ]
    }
   ],
   "source": [
    "salary_indx_dup = salary_df.index.duplicated().sum()   \n",
    "print(\"Number of duplicated index of results DataFrame: \", salary_indx_dup)"
   ]
  },
  {
   "cell_type": "markdown",
   "id": "25358d32",
   "metadata": {},
   "source": [
    "*As you can see, there is no duplicated index from these DataFrames.*"
   ]
  },
  {
   "cell_type": "markdown",
   "id": "6f6dfcc3",
   "metadata": {},
   "source": [
    "Next we check for duplicated row"
   ]
  },
  {
   "cell_type": "code",
   "execution_count": 9,
   "id": "f4d80297",
   "metadata": {},
   "outputs": [
    {
     "name": "stdout",
     "output_type": "stream",
     "text": [
      "Number of Duplicated Rows of results DataFrame:  44\n"
     ]
    }
   ],
   "source": [
    "salary_dup = salary_df.duplicated().sum()\n",
    "print('Number of Duplicated Rows of results DataFrame: ', salary_dup)"
   ]
  },
  {
   "cell_type": "markdown",
   "id": "13069846",
   "metadata": {},
   "source": [
    "*As you can see, there is 0 duplicated data from  DataFrame.*\n",
    "\n",
    "Now we do not have any duplicated problem here."
   ]
  },
  {
   "cell_type": "markdown",
   "id": "eddcb82a",
   "metadata": {},
   "source": [
    "---"
   ]
  },
  {
   "cell_type": "markdown",
   "id": "775b0fdb",
   "metadata": {},
   "source": [
    "# Initial Datatypes of Salary DataFrames"
   ]
  },
  {
   "cell_type": "code",
   "execution_count": 10,
   "id": "caabc64b",
   "metadata": {
    "scrolled": false
   },
   "outputs": [
    {
     "data": {
      "text/plain": [
       "timestamp                   object\n",
       "company                     object\n",
       "title                       object\n",
       "totalyearlycompensation      int64\n",
       "location                    object\n",
       "yearsofexperience          float64\n",
       "yearsatcompany             float64\n",
       "tag                         object\n",
       "basesalary                 float64\n",
       "stockgrantvalue            float64\n",
       "bonus                      float64\n",
       "gender                      object\n",
       "otherdetails                object\n",
       "Masters_Degree               int64\n",
       "Bachelors_Degree             int64\n",
       "Doctorate_Degree             int64\n",
       "Highschool                   int64\n",
       "Some_College                 int64\n",
       "Race                        object\n",
       "Education                   object\n",
       "dtype: object"
      ]
     },
     "execution_count": 10,
     "metadata": {},
     "output_type": "execute_result"
    }
   ],
   "source": [
    "salary_df.dtypes"
   ]
  },
  {
   "cell_type": "markdown",
   "id": "5df983a6",
   "metadata": {},
   "source": [
    "- *timestamp changes from object to datetime*\n",
    "- *All the object type change to string*"
   ]
  },
  {
   "cell_type": "markdown",
   "id": "5b7801fe",
   "metadata": {},
   "source": [
    "---"
   ]
  },
  {
   "cell_type": "markdown",
   "id": "60f9888d",
   "metadata": {},
   "source": [
    "# Preprocessing"
   ]
  },
  {
   "cell_type": "markdown",
   "id": "0e0f9c94",
   "metadata": {},
   "source": [
    "**1. timestamp changes from object to datetime**"
   ]
  },
  {
   "cell_type": "code",
   "execution_count": 11,
   "id": "74e38b1b",
   "metadata": {},
   "outputs": [],
   "source": [
    "# date changes from object to datetime\n",
    "salary_df['timestamp'] = pd.to_datetime(salary_df['timestamp'], infer_datetime_format = True)"
   ]
  },
  {
   "cell_type": "markdown",
   "id": "b97d168c",
   "metadata": {},
   "source": [
    "**2. company, title, location, tag, gender, otherdetails, Race, Education change from object to string**"
   ]
  },
  {
   "cell_type": "code",
   "execution_count": 12,
   "id": "6ada560f",
   "metadata": {},
   "outputs": [],
   "source": [
    "# company, title, location, tag, gender, otherdetails, Race, Education change from object to string\n",
    "salary_df['company'] = salary_df['company'].astype('string')\n",
    "salary_df['title'] = salary_df['title'].astype('string')\n",
    "salary_df['location'] = salary_df['location'].astype('string')\n",
    "salary_df['tag'] = salary_df['tag'].astype('string')\n",
    "salary_df['gender'] = salary_df['gender'].astype('string')\n",
    "salary_df['otherdetails'] = salary_df['otherdetails'].astype('string')\n",
    "salary_df['Race'] = salary_df['Race'].astype('string')\n",
    "salary_df['Education'] = salary_df['Education'].astype('string')\n"
   ]
  },
  {
   "cell_type": "code",
   "execution_count": 13,
   "id": "ce05ae79",
   "metadata": {},
   "outputs": [
    {
     "data": {
      "text/plain": [
       "timestamp                  datetime64[ns]\n",
       "company                            string\n",
       "title                              string\n",
       "totalyearlycompensation             int64\n",
       "location                           string\n",
       "yearsofexperience                 float64\n",
       "yearsatcompany                    float64\n",
       "tag                                string\n",
       "basesalary                        float64\n",
       "stockgrantvalue                   float64\n",
       "bonus                             float64\n",
       "gender                             string\n",
       "otherdetails                       string\n",
       "Masters_Degree                      int64\n",
       "Bachelors_Degree                    int64\n",
       "Doctorate_Degree                    int64\n",
       "Highschool                          int64\n",
       "Some_College                        int64\n",
       "Race                               string\n",
       "Education                          string\n",
       "dtype: object"
      ]
     },
     "execution_count": 13,
     "metadata": {},
     "output_type": "execute_result"
    }
   ],
   "source": [
    "salary_df.dtypes"
   ]
  },
  {
   "cell_type": "markdown",
   "id": "42f32f82",
   "metadata": {},
   "source": [
    "Now we already preprocessed Data"
   ]
  },
  {
   "cell_type": "markdown",
   "id": "73eef845",
   "metadata": {},
   "source": [
    "---"
   ]
  },
  {
   "cell_type": "markdown",
   "id": "4027154e",
   "metadata": {},
   "source": [
    "# Missing Data"
   ]
  },
  {
   "cell_type": "code",
   "execution_count": 14,
   "id": "6e632ad7",
   "metadata": {},
   "outputs": [
    {
     "data": {
      "text/plain": [
       "timestamp                      0\n",
       "company                        5\n",
       "title                          0\n",
       "totalyearlycompensation        0\n",
       "location                       0\n",
       "yearsofexperience              0\n",
       "yearsatcompany                 0\n",
       "tag                          854\n",
       "basesalary                     0\n",
       "stockgrantvalue                0\n",
       "bonus                          0\n",
       "gender                     19540\n",
       "otherdetails               22505\n",
       "Masters_Degree                 0\n",
       "Bachelors_Degree               0\n",
       "Doctorate_Degree               0\n",
       "Highschool                     0\n",
       "Some_College                   0\n",
       "Race                       40215\n",
       "Education                  32272\n",
       "dtype: int64"
      ]
     },
     "execution_count": 14,
     "metadata": {},
     "output_type": "execute_result"
    }
   ],
   "source": [
    "salary_df.isnull().sum()"
   ]
  },
  {
   "cell_type": "markdown",
   "id": "76af81ee",
   "metadata": {},
   "source": [
    "We have observed and decided that there are a little bit of data with NONE value.  \n",
    "There are just only total 8 times did not have the score, 12 times did not have the name of scorer and 96 times did not have the time of a match.  \n"
   ]
  },
  {
   "cell_type": "markdown",
   "id": "62ffe320",
   "metadata": {},
   "source": [
    "---"
   ]
  },
  {
   "cell_type": "markdown",
   "id": "68b4faeb",
   "metadata": {},
   "source": [
    "# Outliers Removal"
   ]
  },
  {
   "cell_type": "code",
   "execution_count": 15,
   "id": "d4c8fc28",
   "metadata": {},
   "outputs": [
    {
     "data": {
      "text/plain": [
       "<AxesSubplot:>"
      ]
     },
     "execution_count": 15,
     "metadata": {},
     "output_type": "execute_result"
    },
    {
     "data": {
      "image/png": "[encoded data removed]",
      "text/plain": [
       "<Figure size 640x480 with 1 Axes>"
      ]
     },
     "metadata": {},
     "output_type": "display_data"
    }
   ],
   "source": [
    "# totalyearlycompensation check\n",
    "salary_df['totalyearlycompensation'].plot(kind='box')"
   ]
  },
  {
   "cell_type": "code",
   "execution_count": 16,
   "id": "2221e6c5",
   "metadata": {},
   "outputs": [
    {
     "data": {
      "text/plain": [
       "<AxesSubplot:>"
      ]
     },
     "execution_count": 16,
     "metadata": {},
     "output_type": "execute_result"
    },
    {
     "data": {
      "image/png": "[encoded data removed]",
      "text/plain": [
       "<Figure size 640x480 with 1 Axes>"
      ]
     },
     "metadata": {},
     "output_type": "display_data"
    }
   ],
   "source": [
    "# yearsofexperience check\n",
    "salary_df['yearsofexperience'].plot(kind='box')"
   ]
  },
  {
   "cell_type": "code",
   "execution_count": 17,
   "id": "abd279a0",
   "metadata": {},
   "outputs": [
    {
     "data": {
      "text/plain": [
       "<AxesSubplot:>"
      ]
     },
     "execution_count": 17,
     "metadata": {},
     "output_type": "execute_result"
    },
    {
     "data": {
      "image/png": "[encoded data removed]",
      "text/plain": [
       "<Figure size 640x480 with 1 Axes>"
      ]
     },
     "metadata": {},
     "output_type": "display_data"
    }
   ],
   "source": [
    "# yearsatcompany check\n",
    "salary_df['yearsatcompany'].plot(kind='box', vert = False)"
   ]
  },
  {
   "cell_type": "code",
   "execution_count": 18,
   "id": "a143993a",
   "metadata": {},
   "outputs": [
    {
     "data": {
      "text/plain": [
       "<AxesSubplot:>"
      ]
     },
     "execution_count": 18,
     "metadata": {},
     "output_type": "execute_result"
    },
    {
     "data": {
      "image/png": "[encoded data removed]",
      "text/plain": [
       "<Figure size 640x480 with 1 Axes>"
      ]
     },
     "metadata": {},
     "output_type": "display_data"
    }
   ],
   "source": [
    "# basesalary check\n",
    "salary_df['basesalary'].plot(kind='box', vert = False)"
   ]
  },
  {
   "cell_type": "code",
   "execution_count": 19,
   "id": "37b1708d",
   "metadata": {},
   "outputs": [
    {
     "data": {
      "text/plain": [
       "<AxesSubplot:>"
      ]
     },
     "execution_count": 19,
     "metadata": {},
     "output_type": "execute_result"
    },
    {
     "data": {
      "image/png": "[encoded data removed]",
      "text/plain": [
       "<Figure size 640x480 with 1 Axes>"
      ]
     },
     "metadata": {},
     "output_type": "display_data"
    }
   ],
   "source": [
    "# stockgrantvalue check\n",
    "salary_df['stockgrantvalue'].plot(kind='box', vert = False)"
   ]
  },
  {
   "cell_type": "code",
   "execution_count": 20,
   "id": "96ef3ead",
   "metadata": {},
   "outputs": [
    {
     "data": {
      "text/plain": [
       "<AxesSubplot:>"
      ]
     },
     "execution_count": 20,
     "metadata": {},
     "output_type": "execute_result"
    },
    {
     "data": {
      "image/png": "[encoded data removed]",
      "text/plain": [
       "<Figure size 640x480 with 1 Axes>"
      ]
     },
     "metadata": {},
     "output_type": "display_data"
    }
   ],
   "source": [
    "# bonus check\n",
    "salary_df['bonus'].plot(kind='box')"
   ]
  },
  {
   "cell_type": "code",
   "execution_count": 21,
   "id": "0c59c234",
   "metadata": {},
   "outputs": [
    {
     "data": {
      "text/plain": [
       "<AxesSubplot:>"
      ]
     },
     "execution_count": 21,
     "metadata": {},
     "output_type": "execute_result"
    },
    {
     "data": {
      "image/png": "[encoded data removed]",
      "text/plain": [
       "<Figure size 640x480 with 1 Axes>"
      ]
     },
     "metadata": {},
     "output_type": "display_data"
    }
   ],
   "source": [
    "# Masters_Degree check\n",
    "salary_df['Masters_Degree'].plot(kind='box')"
   ]
  },
  {
   "cell_type": "code",
   "execution_count": 22,
   "id": "2cff0e7f",
   "metadata": {},
   "outputs": [
    {
     "data": {
      "text/plain": [
       "<AxesSubplot:>"
      ]
     },
     "execution_count": 22,
     "metadata": {},
     "output_type": "execute_result"
    },
    {
     "data": {
      "image/png": "[encoded data removed]",
      "text/plain": [
       "<Figure size 640x480 with 1 Axes>"
      ]
     },
     "metadata": {},
     "output_type": "display_data"
    }
   ],
   "source": [
    "# Bachelors_Degree check\n",
    "salary_df['Bachelors_Degree'].plot(kind='box')"
   ]
  },
  {
   "cell_type": "code",
   "execution_count": 23,
   "id": "705c52ce",
   "metadata": {},
   "outputs": [
    {
     "data": {
      "text/plain": [
       "<AxesSubplot:>"
      ]
     },
     "execution_count": 23,
     "metadata": {},
     "output_type": "execute_result"
    },
    {
     "data": {
      "image/png": "[encoded data removed]",
      "text/plain": [
       "<Figure size 640x480 with 1 Axes>"
      ]
     },
     "metadata": {},
     "output_type": "display_data"
    }
   ],
   "source": [
    "# Doctorate_Degree check\n",
    "salary_df['Doctorate_Degree'].plot(kind='box', vert = False)"
   ]
  },
  {
   "cell_type": "code",
   "execution_count": 24,
   "id": "54fe17bf",
   "metadata": {},
   "outputs": [
    {
     "data": {
      "text/plain": [
       "<AxesSubplot:>"
      ]
     },
     "execution_count": 24,
     "metadata": {},
     "output_type": "execute_result"
    },
    {
     "data": {
      "image/png": "[encoded data removed]",
      "text/plain": [
       "<Figure size 640x480 with 1 Axes>"
      ]
     },
     "metadata": {},
     "output_type": "display_data"
    }
   ],
   "source": [
    "# Highschool check\n",
    "salary_df['Highschool'].plot(kind='box', vert = False)"
   ]
  },
  {
   "cell_type": "code",
   "execution_count": 25,
   "id": "fb2c992b",
   "metadata": {},
   "outputs": [
    {
     "data": {
      "text/plain": [
       "<AxesSubplot:>"
      ]
     },
     "execution_count": 25,
     "metadata": {},
     "output_type": "execute_result"
    },
    {
     "data": {
      "image/png": "[encoded data removed]",
      "text/plain": [
       "<Figure size 640x480 with 1 Axes>"
      ]
     },
     "metadata": {},
     "output_type": "display_data"
    }
   ],
   "source": [
    "# Some_College check\n",
    "salary_df['Some_College'].plot(kind='box', vert = False)"
   ]
  },
  {
   "cell_type": "markdown",
   "id": "3efd849e",
   "metadata": {},
   "source": [
    "---"
   ]
  },
  {
   "cell_type": "markdown",
   "id": "a76e2281",
   "metadata": {},
   "source": [
    "# Questioning"
   ]
  },
  {
   "cell_type": "markdown",
   "id": "1bea0f13",
   "metadata": {},
   "source": [
    "---"
   ]
  },
  {
   "cell_type": "code",
   "execution_count": 38,
   "id": "e3392ae4",
   "metadata": {},
   "outputs": [
    {
     "data": {
      "text/plain": [
       "array([nan, 'Male', 'Female'], dtype=object)"
      ]
     },
     "execution_count": 38,
     "metadata": {},
     "output_type": "execute_result"
    }
   ],
   "source": [
    "values = ['Other', 'Title: Senior Software Engineer']\n",
    "salary_df = salary_df[salary_df.gender.isin(values) == False]\n",
    "salary_df['gender'].unique()"
   ]
  },
  {
   "cell_type": "code",
   "execution_count": 42,
   "id": "2e25fec8",
   "metadata": {},
   "outputs": [
    {
     "data": {
      "text/plain": [
       "0"
      ]
     },
     "execution_count": 42,
     "metadata": {},
     "output_type": "execute_result"
    }
   ],
   "source": [
    "salary_df['gender'].isna().sum()"
   ]
  },
  {
   "cell_type": "code",
   "execution_count": 40,
   "id": "5c0770f3",
   "metadata": {},
   "outputs": [
    {
     "data": {
      "text/plain": [
       "5.101014430632947"
      ]
     },
     "execution_count": 40,
     "metadata": {},
     "output_type": "execute_result"
    }
   ],
   "source": [
    "male = salary_df[salary_df['gender'] == 'Male'].shape[0]\n",
    "female = salary_df[salary_df['gender'] == 'Female'].shape[0]\n",
    "male/female"
   ]
  },
  {
   "cell_type": "code",
   "execution_count": 41,
   "id": "47c3ee63",
   "metadata": {},
   "outputs": [],
   "source": [
    "salary_df['gender'] = salary_df['gender'].fillna(method='backfill')"
   ]
  },
  {
   "attachments": {},
   "cell_type": "markdown",
   "id": "7734dcdd",
   "metadata": {},
   "source": [
    "## Questions: Top 10 companies based on the number of high-paying jobs, compare their salary and does gender pay gap exist in these top 10 companies?"
   ]
  },
  {
   "attachments": {},
   "cell_type": "markdown",
   "id": "97a886ac",
   "metadata": {},
   "source": [
    "Thu nhập là một trong những lý do khi ứng viên tìm việc. Mỗi công ty đều có mức lương khác nhau dựa vào quy mô của họ. Trả lời được câu hỏi này sẽ giúp các ứng viên có thêm thông tin về top những công ty đứng đầu gồm công ty nào, các chỉ số về lương (mean, median, Q1, Q3, khoảng lương) và liệu có sự phân biệt giữa nam và nữ trong vấn đề về lương hay không"
   ]
  },
  {
   "cell_type": "markdown",
   "id": "b795ce53",
   "metadata": {},
   "source": [
    "## Answer:"
   ]
  },
  {
   "attachments": {},
   "cell_type": "markdown",
   "id": "c7fd9bde",
   "metadata": {},
   "source": [
    "Để trả lời câu hỏi này, chúng ta làm theo các bước:\n",
    "1. Chọn ra ngưỡng thu nhập cao, ở đây nhóm chọn Q3 là ngưỡng.\n",
    "2. Chọn ra top 10 công ty có nhiều công việc sở hữu mức lương cao. Vẽ biểu đồ boxplot về lương của 10 công ty.\n",
    "3. So sánh mức lương giữa nam và nữ của 10 công ty đó. Vẽ biểu đồ cột."
   ]
  },
  {
   "cell_type": "code",
   "execution_count": 43,
   "id": "cbc7c204",
   "metadata": {},
   "outputs": [
    {
     "name": "stdout",
     "output_type": "stream",
     "text": [
      "Salary Q3:  264000.0\n"
     ]
    }
   ],
   "source": [
    "q3_salary = salary_df['totalyearlycompensation'].quantile(0.75)\n",
    "print('Salary Q3: ', q3_salary)"
   ]
  },
  {
   "attachments": {},
   "cell_type": "markdown",
   "id": "a9949102",
   "metadata": {},
   "source": [
    "Tạo 1 df mới chỉ chứa các dòng có lương cao hơn hoặc bằng ngưỡng Salary Q3"
   ]
  },
  {
   "cell_type": "code",
   "execution_count": 44,
   "id": "ada1b350",
   "metadata": {},
   "outputs": [],
   "source": [
    "high_salary_df = salary_df[salary_df['totalyearlycompensation'] >= q3_salary]"
   ]
  },
  {
   "attachments": {},
   "cell_type": "markdown",
   "id": "10f3db57",
   "metadata": {},
   "source": [
    "Tính ra top 10 công ty"
   ]
  },
  {
   "cell_type": "code",
   "execution_count": 45,
   "id": "ff0aeef1",
   "metadata": {},
   "outputs": [],
   "source": [
    "top10_company = high_salary_df['company'].value_counts()[:10]"
   ]
  },
  {
   "cell_type": "code",
   "execution_count": 77,
   "id": "289cb2b8",
   "metadata": {},
   "outputs": [
    {
     "data": {
      "image/png": "[encoded data removed]",
      "text/plain": [
       "<Figure size 640x480 with 1 Axes>"
      ]
     },
     "metadata": {},
     "output_type": "display_data"
    }
   ],
   "source": [
    "top10_company.plot.bar()\n",
    "plt.title('Top 10 companies based on the number of high-paying jobs')\n",
    "plt.xlabel('Company')\n",
    "plt.ylabel('Number of high-paying jobs')\n",
    "plt.xticks(rotation = 45) \n",
    "plt.show()"
   ]
  },
  {
   "attachments": {},
   "cell_type": "markdown",
   "id": "aef4c1dc",
   "metadata": {},
   "source": [
    "Không quá bất ngờ khi các tên tuổi lớn về công nghệ đều xuất hiện, điển hình là Big Five (Google, Amazon, Facebook, Apple, Microsoft)."
   ]
  },
  {
   "cell_type": "code",
   "execution_count": 207,
   "id": "c6790da6",
   "metadata": {},
   "outputs": [
    {
     "data": {
      "image/png": "[encoded data removed]",
      "text/plain": [
       "<Figure size 640x480 with 1 Axes>"
      ]
     },
     "metadata": {},
     "output_type": "display_data"
    }
   ],
   "source": [
    "#plt.figure(figsize=(14,10))\n",
    "\n",
    "df_company = salary_df[salary_df['company'].isin(top10_company.keys())]\n",
    "fig = sns.boxplot(x='company', y='totalyearlycompensation', data=df_company, showfliers = False)\n",
    "plt.title('Top 10 companies\\' salaries comparision')\n",
    "plt.xlabel('Company')\n",
    "plt.ylabel('Salary')\n",
    "plt.xticks(rotation = 45)\n",
    "\n",
    "median_salary = salary_df['totalyearlycompensation'].median()\n",
    "plt.axhline(y=median_salary, color='r', linestyle='-', label='All salaries\\' median')\n",
    "plt.legend()\n",
    "\n",
    "fig.axis(ymin=0, ymax=800000);\n",
    "\n",
    "plt.show()"
   ]
  },
  {
   "attachments": {},
   "cell_type": "markdown",
   "id": "73e3e1b2",
   "metadata": {},
   "source": [
    "Đa phần top 10 các công ty lớn sẽ có mức lương trung bình hàng năm rơi vào khoảng 200 000 - 300 000. Cao nhất trong các công ty trên là Netflix, với mức median cho lương hàng năm lên tới 500 000."
   ]
  },
  {
   "attachments": {},
   "cell_type": "markdown",
   "id": "ad9aa1ca",
   "metadata": {},
   "source": [
    "Kiểm tra các giá trị của gender"
   ]
  },
  {
   "cell_type": "code",
   "execution_count": 60,
   "id": "aab5cc88",
   "metadata": {},
   "outputs": [
    {
     "data": {
      "text/html": [
       "<div>\n",
       "<style scoped>\n",
       "    .dataframe tbody tr th:only-of-type {\n",
       "        vertical-align: middle;\n",
       "    }\n",
       "\n",
       "    .dataframe tbody tr th {\n",
       "        vertical-align: top;\n",
       "    }\n",
       "\n",
       "    .dataframe thead th {\n",
       "        text-align: right;\n",
       "    }\n",
       "</style>\n",
       "<table border=\"1\" class=\"dataframe\">\n",
       "  <thead>\n",
       "    <tr style=\"text-align: right;\">\n",
       "      <th>gender</th>\n",
       "      <th>MaleRatio</th>\n",
       "      <th>FemaleRatio</th>\n",
       "    </tr>\n",
       "    <tr>\n",
       "      <th>company</th>\n",
       "      <th></th>\n",
       "      <th></th>\n",
       "    </tr>\n",
       "  </thead>\n",
       "  <tbody>\n",
       "    <tr>\n",
       "      <th>Amazon</th>\n",
       "      <td>0.852538</td>\n",
       "      <td>0.147462</td>\n",
       "    </tr>\n",
       "    <tr>\n",
       "      <th>Apple</th>\n",
       "      <td>0.845007</td>\n",
       "      <td>0.154993</td>\n",
       "    </tr>\n",
       "    <tr>\n",
       "      <th>Facebook</th>\n",
       "      <td>0.822917</td>\n",
       "      <td>0.177083</td>\n",
       "    </tr>\n",
       "    <tr>\n",
       "      <th>Google</th>\n",
       "      <td>0.843685</td>\n",
       "      <td>0.156315</td>\n",
       "    </tr>\n",
       "    <tr>\n",
       "      <th>LinkedIn</th>\n",
       "      <td>0.841954</td>\n",
       "      <td>0.158046</td>\n",
       "    </tr>\n",
       "    <tr>\n",
       "      <th>Microsoft</th>\n",
       "      <td>0.832498</td>\n",
       "      <td>0.167502</td>\n",
       "    </tr>\n",
       "    <tr>\n",
       "      <th>Netflix</th>\n",
       "      <td>0.793893</td>\n",
       "      <td>0.206107</td>\n",
       "    </tr>\n",
       "    <tr>\n",
       "      <th>Oracle</th>\n",
       "      <td>0.821492</td>\n",
       "      <td>0.178508</td>\n",
       "    </tr>\n",
       "    <tr>\n",
       "      <th>Salesforce</th>\n",
       "      <td>0.863550</td>\n",
       "      <td>0.136450</td>\n",
       "    </tr>\n",
       "    <tr>\n",
       "      <th>Uber</th>\n",
       "      <td>0.827626</td>\n",
       "      <td>0.172374</td>\n",
       "    </tr>\n",
       "  </tbody>\n",
       "</table>\n",
       "</div>"
      ],
      "text/plain": [
       "gender      MaleRatio  FemaleRatio\n",
       "company                           \n",
       "Amazon       0.852538     0.147462\n",
       "Apple        0.845007     0.154993\n",
       "Facebook     0.822917     0.177083\n",
       "Google       0.843685     0.156315\n",
       "LinkedIn     0.841954     0.158046\n",
       "Microsoft    0.832498     0.167502\n",
       "Netflix      0.793893     0.206107\n",
       "Oracle       0.821492     0.178508\n",
       "Salesforce   0.863550     0.136450\n",
       "Uber         0.827626     0.172374"
      ]
     },
     "execution_count": 60,
     "metadata": {},
     "output_type": "execute_result"
    }
   ],
   "source": [
    "genderRatio = df_company.pivot_table(index='company', columns='gender', aggfunc='size')\n",
    "sums = genderRatio[['Female', 'Male']].sum(axis=1)\n",
    "genderRatio['FemaleRatio'] = genderRatio['Female'] / sums\n",
    "genderRatio['MaleRatio'] = genderRatio['Male'] / sums\n",
    "genderRatio[['MaleRatio', 'FemaleRatio']]"
   ]
  },
  {
   "cell_type": "code",
   "execution_count": 206,
   "id": "42000089",
   "metadata": {},
   "outputs": [
    {
     "data": {
      "image/png": "[encoded data removed]",
      "text/plain": [
       "<Figure size 640x480 with 1 Axes>"
      ]
     },
     "metadata": {},
     "output_type": "display_data"
    }
   ],
   "source": [
    "genderRatio[['MaleRatio', 'FemaleRatio']].plot(kind='bar', stacked = True, mark_right=True)\n",
    "\n",
    "plt.title('Gender ratio in top 10 companies')\n",
    "plt.xlabel('Company')\n",
    "plt.xticks(rotation = 45)\n",
    "plt.show()"
   ]
  },
  {
   "cell_type": "code",
   "execution_count": 170,
   "id": "53a00341",
   "metadata": {},
   "outputs": [
    {
     "data": {
      "text/html": [
       "<div>\n",
       "<style scoped>\n",
       "    .dataframe tbody tr th:only-of-type {\n",
       "        vertical-align: middle;\n",
       "    }\n",
       "\n",
       "    .dataframe tbody tr th {\n",
       "        vertical-align: top;\n",
       "    }\n",
       "\n",
       "    .dataframe thead th {\n",
       "        text-align: right;\n",
       "    }\n",
       "</style>\n",
       "<table border=\"1\" class=\"dataframe\">\n",
       "  <thead>\n",
       "    <tr style=\"text-align: right;\">\n",
       "      <th></th>\n",
       "      <th>Male</th>\n",
       "      <th>Female</th>\n",
       "    </tr>\n",
       "    <tr>\n",
       "      <th>company</th>\n",
       "      <th></th>\n",
       "      <th></th>\n",
       "    </tr>\n",
       "  </thead>\n",
       "  <tbody>\n",
       "    <tr>\n",
       "      <th>Amazon</th>\n",
       "      <td>207000</td>\n",
       "      <td>200000</td>\n",
       "    </tr>\n",
       "    <tr>\n",
       "      <th>Apple</th>\n",
       "      <td>257000</td>\n",
       "      <td>232500</td>\n",
       "    </tr>\n",
       "    <tr>\n",
       "      <th>Facebook</th>\n",
       "      <td>300000</td>\n",
       "      <td>266000</td>\n",
       "    </tr>\n",
       "    <tr>\n",
       "      <th>Google</th>\n",
       "      <td>255000</td>\n",
       "      <td>243000</td>\n",
       "    </tr>\n",
       "    <tr>\n",
       "      <th>LinkedIn</th>\n",
       "      <td>275000</td>\n",
       "      <td>256500</td>\n",
       "    </tr>\n",
       "    <tr>\n",
       "      <th>Microsoft</th>\n",
       "      <td>190000</td>\n",
       "      <td>178000</td>\n",
       "    </tr>\n",
       "    <tr>\n",
       "      <th>Netflix</th>\n",
       "      <td>475000</td>\n",
       "      <td>432500</td>\n",
       "    </tr>\n",
       "    <tr>\n",
       "      <th>Oracle</th>\n",
       "      <td>192000</td>\n",
       "      <td>177000</td>\n",
       "    </tr>\n",
       "    <tr>\n",
       "      <th>Salesforce</th>\n",
       "      <td>238000</td>\n",
       "      <td>220000</td>\n",
       "    </tr>\n",
       "    <tr>\n",
       "      <th>Uber</th>\n",
       "      <td>278000</td>\n",
       "      <td>245000</td>\n",
       "    </tr>\n",
       "  </tbody>\n",
       "</table>\n",
       "</div>"
      ],
      "text/plain": [
       "              Male  Female\n",
       "company                   \n",
       "Amazon      207000  200000\n",
       "Apple       257000  232500\n",
       "Facebook    300000  266000\n",
       "Google      255000  243000\n",
       "LinkedIn    275000  256500\n",
       "Microsoft   190000  178000\n",
       "Netflix     475000  432500\n",
       "Oracle      192000  177000\n",
       "Salesforce  238000  220000\n",
       "Uber        278000  245000"
      ]
     },
     "execution_count": 170,
     "metadata": {},
     "output_type": "execute_result"
    }
   ],
   "source": [
    "male = df_company[df_company['gender'] == 'Male']\n",
    "maleSalary_median = male.groupby('company')['totalyearlycompensation'].median()\n",
    "maleSalary_median.name = 'Male'\n",
    "\n",
    "female = df_company[df_company['gender'] == 'Female']\n",
    "femaleSalary_median = female.groupby('company')['totalyearlycompensation'].median()\n",
    "femaleSalary_median.name = 'Female'\n",
    "\n",
    "genderSalary_median = pd.concat([maleSalary_median, femaleSalary_median],axis=1)\n",
    "genderSalary_median"
   ]
  },
  {
   "cell_type": "code",
   "execution_count": 201,
   "id": "e36aa9bc",
   "metadata": {},
   "outputs": [
    {
     "data": {
      "image/png": "[encoded data removed]",
      "text/plain": [
       "<Figure size 640x480 with 1 Axes>"
      ]
     },
     "metadata": {},
     "output_type": "display_data"
    }
   ],
   "source": [
    "x = np.arange(10)\n",
    "plt.bar(x - 0.2, maleSalary_median, 0.4, label='Male')\n",
    "plt.bar(x + 0.2, femaleSalary_median, 0.4, label='Female')\n",
    "\n",
    "plt.xticks(x, genderSalary_median.index, rotation= 45)    \n",
    "plt.xlabel(\"Company\")\n",
    "plt.ylabel(\"Salary\")\n",
    "plt.title(\"Gender salary disparity in top 10 companies\")\n",
    "plt.axis(ymax = 500000)\n",
    "plt.legend()\n",
    "plt.show()"
   ]
  }
 ],
 "metadata": {
  "kernelspec": {
   "display_name": "Python 3 (ipykernel)",
   "language": "python",
   "name": "python3"
  },
  "language_info": {
   "codemirror_mode": {
    "name": "ipython",
    "version": 3
   },
   "file_extension": ".py",
   "mimetype": "text/x-python",
   "name": "python",
   "nbconvert_exporter": "python",
   "pygments_lexer": "ipython3",
   "version": "3.8.8"
  },
  "vscode": {
   "interpreter": {
    "hash": "8395ca0b5873fc3de583ead4c56c35736342a2bed86f544c50a56c83355a692e"
   }
  }
 },
 "nbformat": 4,
 "nbformat_minor": 5
}
